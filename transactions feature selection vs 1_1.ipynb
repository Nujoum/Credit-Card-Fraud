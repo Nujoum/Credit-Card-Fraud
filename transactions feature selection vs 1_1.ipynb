{
 "cells": [
  {
   "cell_type": "markdown",
   "metadata": {},
   "source": [
    "This feature selection notebook does a filter followed by a wrapper for a binary dependent variable (binary classification). It's capable of doing the filter on more than one file. The variable files are called vars1.csv, vars2.csv. The filter runs separately on each vars file and keeps the top num_filter variables from each file. If there are more than one vars files we'll again select the top num_filter variables across all the vars.csv files.\n",
    "\n",
    "Things to note - \n",
    "I have arranged the data so that the rare class has the label 1 and the common class has the label 0. \n",
    "\n",
    "The most important parameters are in cell 2 and 20. The main ones I tried experimenting with are num_out_of_filter and num_out_of_wrapper. In cell 2 I set the name of the record identifying number (I used a record number to keep track of things) and the name of the binary dependent variable. This particular version is set for a fraud problem.\n",
    "\n",
    "I made sure my validation/out-of-time population and any other record exclusion is set correctly and as I want for the problem in cell 3. This define the records in the data file that I for whatever reason don't want to include in the feature selection process.\n",
    "\n",
    "Cell 20 has the SequentialFeatureSelector (SFS) settings. I tried different wrapper models with different amounts of commplexity. I selected either forward or backward. The filter is pretty fast. The wrapper is what takes the most time. I found forward selection runs much faster than backward.\n",
    "\n",
    "There's a parameter njobs that controls the # threads used in the wrapper. I set it to 1 for a single thread which works fine, but with njobs = -1, it lets the machine set the maximum # threads based on the CPU. However, with this setting the kernel may die because of memory. The njobs = -1 doesn't take into consideration the memory requirements.\n"
   ]
  },
  {
   "cell_type": "code",
   "execution_count": 1,
   "metadata": {},
   "outputs": [
    {
     "name": "stdout",
     "output_type": "stream",
     "text": [
      "Defaulting to user installation because normal site-packages is not writeable\n",
      "Requirement already satisfied: catboost in /Users/nujoumunus/Library/Python/3.9/lib/python/site-packages (1.2.8)\n",
      "Requirement already satisfied: graphviz in /Users/nujoumunus/Library/Python/3.9/lib/python/site-packages (from catboost) (0.20.3)\n",
      "Requirement already satisfied: matplotlib in /Users/nujoumunus/Library/Python/3.9/lib/python/site-packages (from catboost) (3.9.4)\n",
      "Requirement already satisfied: numpy<3.0,>=1.16.0 in /Users/nujoumunus/Library/Python/3.9/lib/python/site-packages (from catboost) (1.26.4)\n",
      "Requirement already satisfied: pandas>=0.24 in /Users/nujoumunus/Library/Python/3.9/lib/python/site-packages (from catboost) (2.2.3)\n",
      "Requirement already satisfied: scipy in /Users/nujoumunus/Library/Python/3.9/lib/python/site-packages (from catboost) (1.13.1)\n",
      "Requirement already satisfied: plotly in /Users/nujoumunus/Library/Python/3.9/lib/python/site-packages (from catboost) (6.0.1)\n",
      "Requirement already satisfied: six in /Library/Developer/CommandLineTools/Library/Frameworks/Python3.framework/Versions/3.9/lib/python3.9/site-packages (from catboost) (1.15.0)\n",
      "Requirement already satisfied: python-dateutil>=2.8.2 in /Users/nujoumunus/Library/Python/3.9/lib/python/site-packages (from pandas>=0.24->catboost) (2.9.0.post0)\n",
      "Requirement already satisfied: pytz>=2020.1 in /Users/nujoumunus/Library/Python/3.9/lib/python/site-packages (from pandas>=0.24->catboost) (2024.2)\n",
      "Requirement already satisfied: tzdata>=2022.7 in /Users/nujoumunus/Library/Python/3.9/lib/python/site-packages (from pandas>=0.24->catboost) (2024.2)\n",
      "Requirement already satisfied: contourpy>=1.0.1 in /Users/nujoumunus/Library/Python/3.9/lib/python/site-packages (from matplotlib->catboost) (1.3.0)\n",
      "Requirement already satisfied: cycler>=0.10 in /Users/nujoumunus/Library/Python/3.9/lib/python/site-packages (from matplotlib->catboost) (0.12.1)\n",
      "Requirement already satisfied: fonttools>=4.22.0 in /Users/nujoumunus/Library/Python/3.9/lib/python/site-packages (from matplotlib->catboost) (4.55.8)\n",
      "Requirement already satisfied: kiwisolver>=1.3.1 in /Users/nujoumunus/Library/Python/3.9/lib/python/site-packages (from matplotlib->catboost) (1.4.7)\n",
      "Requirement already satisfied: packaging>=20.0 in /Users/nujoumunus/Library/Python/3.9/lib/python/site-packages (from matplotlib->catboost) (24.1)\n",
      "Requirement already satisfied: pillow>=8 in /Users/nujoumunus/Library/Python/3.9/lib/python/site-packages (from matplotlib->catboost) (11.1.0)\n",
      "Requirement already satisfied: pyparsing>=2.3.1 in /Users/nujoumunus/Library/Python/3.9/lib/python/site-packages (from matplotlib->catboost) (3.2.1)\n",
      "Requirement already satisfied: importlib-resources>=3.2.0 in /Users/nujoumunus/Library/Python/3.9/lib/python/site-packages (from matplotlib->catboost) (6.5.2)\n",
      "Requirement already satisfied: zipp>=3.1.0 in /Users/nujoumunus/Library/Python/3.9/lib/python/site-packages (from importlib-resources>=3.2.0->matplotlib->catboost) (3.20.2)\n",
      "Requirement already satisfied: narwhals>=1.15.1 in /Users/nujoumunus/Library/Python/3.9/lib/python/site-packages (from plotly->catboost) (1.25.1)\n",
      "Note: you may need to restart the kernel to use updated packages.\n"
     ]
    }
   ],
   "source": [
    "pip install catboost"
   ]
  },
  {
   "cell_type": "code",
   "execution_count": 2,
   "metadata": {},
   "outputs": [
    {
     "name": "stdout",
     "output_type": "stream",
     "text": [
      "Defaulting to user installation because normal site-packages is not writeable\n",
      "\u001b[31mERROR: Could not find a version that satisfies the requirement LGBMClassifier (from versions: none)\u001b[0m\u001b[31m\n",
      "\u001b[0m\u001b[31mERROR: No matching distribution found for LGBMClassifier\u001b[0m\u001b[31m\n",
      "\u001b[0mNote: you may need to restart the kernel to use updated packages.\n"
     ]
    }
   ],
   "source": [
    "pip install LGBMClassifier"
   ]
  },
  {
   "cell_type": "code",
   "execution_count": 3,
   "metadata": {
    "scrolled": false
   },
   "outputs": [],
   "source": [
    "import pandas as pd\n",
    "import numpy as np\n",
    "import scipy.stats as sps\n",
    "import matplotlib.pyplot as plt\n",
    "import datetime as dt\n",
    "import gc\n",
    "from sklearn.ensemble import RandomForestClassifier\n",
    "from mlxtend.feature_selection import SequentialFeatureSelector as SFS\n",
    "from lightgbm import LGBMClassifier\n",
    "from catboost import CatBoostClassifier\n",
    "%matplotlib inline\n",
    "start_time = dt.datetime.now()"
   ]
  },
  {
   "cell_type": "code",
   "execution_count": 4,
   "metadata": {},
   "outputs": [],
   "source": [
    "# set some parameters\n",
    "num_files = 1 # this is the number of files for the candidate variables, usually just 1.\n",
    "# num_out_of_filter is the number of variables that we'll keep from the filter. The more the better, but the wrapper will run slower.\n",
    "# num_out_of_wrapper is the number we'll keep from the wrapper. These will then be our final variables for the models.\n",
    "# I recommend set num_out_of_filter to be about 10 to 20% of the original # variables.\n",
    "num_out_of_filter = 300\n",
    "# I recommend set num_out_of_wrapper to be about 40, then look for a saturation of the model performance as variables are added.\n",
    "# Then you can run it again with num_out_of_wrapper just a bit above this saturation point, not more than about twice this saturation number.\n",
    "num_out_of_wrapper = 30\n",
    "balance = 0\n",
    "detect_rate = .03\n",
    "index_name = 'Recnum'\n",
    "y_name = 'Fraud'\n",
    "good_label = 0\n",
    "bad_label = 1"
   ]
  },
  {
   "cell_type": "markdown",
   "metadata": {},
   "source": [
    "## Run a filter on all the files"
   ]
  },
  {
   "cell_type": "code",
   "execution_count": 5,
   "metadata": {},
   "outputs": [
    {
     "name": "stdout",
     "output_type": "stream",
     "text": [
      "********** working on data/candidate_variables.csv size is (98037, 2651)\n"
     ]
    },
    {
     "name": "stderr",
     "output_type": "stream",
     "text": [
      "<timed exec>:33: FutureWarning: Setting an item of incompatible dtype is deprecated and will raise an error in a future version of pandas. Value 'Amount' has dtype incompatible with float64, please explicitly cast to a compatible dtype first.\n"
     ]
    },
    {
     "name": "stdout",
     "output_type": "stream",
     "text": [
      "100\n",
      "200\n",
      "300\n",
      "400\n",
      "500\n",
      "600\n",
      "700\n",
      "800\n",
      "900\n",
      "1000\n",
      "1100\n",
      "1200\n",
      "1300\n",
      "1400\n",
      "1500\n",
      "1600\n",
      "1700\n",
      "1800\n",
      "1900\n",
      "2000\n",
      "2100\n",
      "2200\n",
      "2300\n",
      "2400\n",
      "2500\n",
      "2600\n",
      "data/candidate_variables.csv                                    variable  filter score\n",
      "1                                     Fraud      1.000000\n",
      "21                          Cardnum_total_1      0.591114\n",
      "17                          Cardnum_count_1      0.576927\n",
      "26                          Cardnum_count_3      0.572199\n",
      "30                          Cardnum_total_3      0.569585\n",
      "12                          Cardnum_total_0      0.555080\n",
      "8                           Cardnum_count_0      0.529072\n",
      "1580                  Cardnum_vdratio_1by60      0.519909\n",
      "2089  Cardnum_unique_count_for_card_state_1      0.518606\n",
      "2083    Cardnum_unique_count_for_card_zip_1      0.517208\n",
      "1579                  Cardnum_vdratio_1by30      0.516476\n",
      "35                          Cardnum_count_7      0.516399\n",
      "39                          Cardnum_total_7      0.515987\n",
      "2077    Cardnum_unique_count_for_Merchnum_1      0.513278\n",
      "588                        Card_dow_total_7      0.508754\n",
      "1648                 Card_dow_vdratio_0by60      0.508448\n",
      "2090  Cardnum_unique_count_for_card_state_3      0.508357\n",
      "1647                 Card_dow_vdratio_0by30      0.507694\n",
      "2084    Cardnum_unique_count_for_card_zip_3      0.506867\n",
      "19                            Cardnum_max_1      0.504805\n",
      "CPU times: user 48.1 s, sys: 2.79 s, total: 50.9 s\n",
      "Wall time: 51.4 s\n"
     ]
    }
   ],
   "source": [
    "%%time\n",
    "filter_score_df_list = []\n",
    "for i in range(num_files):\n",
    "#     file_name = \"vars\"+str(i+1)+'.csv'\n",
    "    file_name = 'data/candidate_variables.csv'\n",
    "    df = pd.read_csv(file_name)\n",
    "    print(\"********** working on\",file_name,\"size is\",df.shape)\n",
    "    df = df.set_index(index_name) \n",
    "    df = df[df.index <= 85730] # remove the last two months as the out-of-time data (OOT)\n",
    "    df = df[df.index >= 3515] # remove the first 2 weeks of records since their variables aren't well formed\n",
    "    df['RANDOM'] = np.random.ranf(len(df)) # add a random number variable to make sure it doesn't come up as important\n",
    "    goods = df[df[y_name] == good_label]\n",
    "    bads = df[df[y_name] == bad_label]\n",
    "    del df # don't need this file anymore\n",
    "    num_goods = len(goods)\n",
    "    num_bads = len(bads)\n",
    "    num_vars = len(bads.columns)-2\n",
    "    if(balance != 0):\n",
    "        if(i == 0):\n",
    "            num_goods_desired = int(min(num_goods,num_bads*balance))\n",
    "            goods = goods.sample(n=num_goods_desired,random_state=1)\n",
    "            goods_keep = list(goods.index)\n",
    "            goods_keep.sort()\n",
    "    \n",
    "        if(i > 0):\n",
    "            goods = goods.loc[goods_keep] \n",
    "            \n",
    "    df_sampled = pd.concat([goods,bads])\n",
    "    df_sampled.sort_index(inplace=True)\n",
    "    filter_score = pd.DataFrame(np.zeros((num_vars+1,2)))\n",
    "    filter_score.columns = ['variable','filter score']   \n",
    "    j = 0\n",
    "    for column in df_sampled:\n",
    "        filter_score.loc[j,'variable'] = column\n",
    "        filter_score.loc[j,'filter score'] = sps.ks_2samp(goods[column],bads[column])[0]\n",
    "        j = j+1\n",
    "        if j%100 == 0:\n",
    "            print(j)\n",
    "\n",
    "    filter_score.sort_values(by=['filter score'], ascending=False, inplace=True)\n",
    "    vars_keep = list(filter_score['variable'][1:num_out_of_filter+1]) \n",
    "    print(file_name,filter_score.head(20))\n",
    "    if(i == 0): # if first time through need to initialize some stuff\n",
    "        Y = pd.DataFrame(df_sampled[y_name], index=df_sampled.index)\n",
    "        df_top = df_sampled.filter(vars_keep, axis=1)\n",
    "            \n",
    "    if(i > 0): # if more than one variable file we use this loop\n",
    "        data_new_top = df_sampled.filter(vars_keep, axis=1)\n",
    "        df_top = pd.concat([df_top,data_new_top], axis=1)\n",
    "\n",
    "    filter_score_df_list.append(filter_score)\n",
    "    \n",
    "    del goods # delete these before starting the next file, if any\n",
    "    del bads\n",
    "    gc.collect()\n",
    "filter_score = pd.concat(filter_score_df_list)"
   ]
  },
  {
   "cell_type": "code",
   "execution_count": 6,
   "metadata": {},
   "outputs": [],
   "source": [
    "filter_score.sort_values(by=['filter score'], ascending=False, inplace=True)\n",
    "filter_score.reset_index(drop=True,inplace=True)"
   ]
  },
  {
   "cell_type": "code",
   "execution_count": 7,
   "metadata": {},
   "outputs": [
    {
     "data": {
      "application/vnd.microsoft.datawrangler.viewer.v0+json": {
       "columns": [
        {
         "name": "index",
         "rawType": "int64",
         "type": "integer"
        },
        {
         "name": "variable",
         "rawType": "object",
         "type": "string"
        },
        {
         "name": "filter score",
         "rawType": "float64",
         "type": "float"
        }
       ],
       "conversionMethod": "pd.DataFrame",
       "ref": "7bf8a959-ffb1-45e2-b95f-b39a920ef935",
       "rows": [
        [
         "0",
         "Fraud",
         "1.0"
        ],
        [
         "1",
         "Cardnum_total_1",
         "0.5911137143420107"
        ],
        [
         "2",
         "Cardnum_count_1",
         "0.5769274709108482"
        ],
        [
         "3",
         "Cardnum_count_3",
         "0.5721987062055063"
        ],
        [
         "4",
         "Cardnum_total_3",
         "0.569584754753369"
        ],
        [
         "5",
         "Cardnum_total_0",
         "0.5550795831550124"
        ],
        [
         "6",
         "Cardnum_count_0",
         "0.5290724258187427"
        ],
        [
         "7",
         "Cardnum_vdratio_1by60",
         "0.519909147382396"
        ],
        [
         "8",
         "Cardnum_unique_count_for_card_state_1",
         "0.5186059951957085"
        ],
        [
         "9",
         "Cardnum_unique_count_for_card_zip_1",
         "0.5172084487865884"
        ],
        [
         "10",
         "Cardnum_vdratio_1by30",
         "0.516475862442548"
        ],
        [
         "11",
         "Cardnum_count_7",
         "0.5163992459359451"
        ],
        [
         "12",
         "Cardnum_total_7",
         "0.5159873870717485"
        ],
        [
         "13",
         "Cardnum_unique_count_for_Merchnum_1",
         "0.5132776602346519"
        ],
        [
         "14",
         "Card_dow_total_7",
         "0.5087544606639527"
        ],
        [
         "15",
         "Card_dow_vdratio_0by60",
         "0.5084477665556563"
        ],
        [
         "16",
         "Cardnum_unique_count_for_card_state_3",
         "0.508357110341898"
        ],
        [
         "17",
         "Card_dow_vdratio_0by30",
         "0.5076936391446802"
        ],
        [
         "18",
         "Cardnum_unique_count_for_card_zip_3",
         "0.5068666712494231"
        ],
        [
         "19",
         "Cardnum_max_1",
         "0.5048046652882496"
        ],
        [
         "20",
         "Cardnum_unique_count_for_Merchnum_3",
         "0.503767545278214"
        ],
        [
         "21",
         "Card_dow_vdratio_0by14",
         "0.5026571349557347"
        ],
        [
         "22",
         "Cardnum_vdratio_1by14",
         "0.4973964642872869"
        ],
        [
         "23",
         "Cardnum_variability_max_0",
         "0.496485467224158"
        ],
        [
         "24",
         "Cardnum_variability_max_1",
         "0.49347540089351083"
        ],
        [
         "25",
         "Cardnum_max_0",
         "0.49231631409536547"
        ],
        [
         "26",
         "Card_dow_unique_count_for_merch_state_1",
         "0.49093766046906934"
        ],
        [
         "27",
         "Card_dow_unique_count_for_merch_zip_1",
         "0.49073745525872875"
        ],
        [
         "28",
         "Card_dow_vdratio_0by7",
         "0.490635686388675"
        ],
        [
         "29",
         "Cardnum_actual/toal_0",
         "0.48947656157688213"
        ]
       ],
       "shape": {
        "columns": 2,
        "rows": 30
       }
      },
      "text/html": [
       "<div>\n",
       "<style scoped>\n",
       "    .dataframe tbody tr th:only-of-type {\n",
       "        vertical-align: middle;\n",
       "    }\n",
       "\n",
       "    .dataframe tbody tr th {\n",
       "        vertical-align: top;\n",
       "    }\n",
       "\n",
       "    .dataframe thead th {\n",
       "        text-align: right;\n",
       "    }\n",
       "</style>\n",
       "<table border=\"1\" class=\"dataframe\">\n",
       "  <thead>\n",
       "    <tr style=\"text-align: right;\">\n",
       "      <th></th>\n",
       "      <th>variable</th>\n",
       "      <th>filter score</th>\n",
       "    </tr>\n",
       "  </thead>\n",
       "  <tbody>\n",
       "    <tr>\n",
       "      <th>0</th>\n",
       "      <td>Fraud</td>\n",
       "      <td>1.000000</td>\n",
       "    </tr>\n",
       "    <tr>\n",
       "      <th>1</th>\n",
       "      <td>Cardnum_total_1</td>\n",
       "      <td>0.591114</td>\n",
       "    </tr>\n",
       "    <tr>\n",
       "      <th>2</th>\n",
       "      <td>Cardnum_count_1</td>\n",
       "      <td>0.576927</td>\n",
       "    </tr>\n",
       "    <tr>\n",
       "      <th>3</th>\n",
       "      <td>Cardnum_count_3</td>\n",
       "      <td>0.572199</td>\n",
       "    </tr>\n",
       "    <tr>\n",
       "      <th>4</th>\n",
       "      <td>Cardnum_total_3</td>\n",
       "      <td>0.569585</td>\n",
       "    </tr>\n",
       "    <tr>\n",
       "      <th>5</th>\n",
       "      <td>Cardnum_total_0</td>\n",
       "      <td>0.555080</td>\n",
       "    </tr>\n",
       "    <tr>\n",
       "      <th>6</th>\n",
       "      <td>Cardnum_count_0</td>\n",
       "      <td>0.529072</td>\n",
       "    </tr>\n",
       "    <tr>\n",
       "      <th>7</th>\n",
       "      <td>Cardnum_vdratio_1by60</td>\n",
       "      <td>0.519909</td>\n",
       "    </tr>\n",
       "    <tr>\n",
       "      <th>8</th>\n",
       "      <td>Cardnum_unique_count_for_card_state_1</td>\n",
       "      <td>0.518606</td>\n",
       "    </tr>\n",
       "    <tr>\n",
       "      <th>9</th>\n",
       "      <td>Cardnum_unique_count_for_card_zip_1</td>\n",
       "      <td>0.517208</td>\n",
       "    </tr>\n",
       "    <tr>\n",
       "      <th>10</th>\n",
       "      <td>Cardnum_vdratio_1by30</td>\n",
       "      <td>0.516476</td>\n",
       "    </tr>\n",
       "    <tr>\n",
       "      <th>11</th>\n",
       "      <td>Cardnum_count_7</td>\n",
       "      <td>0.516399</td>\n",
       "    </tr>\n",
       "    <tr>\n",
       "      <th>12</th>\n",
       "      <td>Cardnum_total_7</td>\n",
       "      <td>0.515987</td>\n",
       "    </tr>\n",
       "    <tr>\n",
       "      <th>13</th>\n",
       "      <td>Cardnum_unique_count_for_Merchnum_1</td>\n",
       "      <td>0.513278</td>\n",
       "    </tr>\n",
       "    <tr>\n",
       "      <th>14</th>\n",
       "      <td>Card_dow_total_7</td>\n",
       "      <td>0.508754</td>\n",
       "    </tr>\n",
       "    <tr>\n",
       "      <th>15</th>\n",
       "      <td>Card_dow_vdratio_0by60</td>\n",
       "      <td>0.508448</td>\n",
       "    </tr>\n",
       "    <tr>\n",
       "      <th>16</th>\n",
       "      <td>Cardnum_unique_count_for_card_state_3</td>\n",
       "      <td>0.508357</td>\n",
       "    </tr>\n",
       "    <tr>\n",
       "      <th>17</th>\n",
       "      <td>Card_dow_vdratio_0by30</td>\n",
       "      <td>0.507694</td>\n",
       "    </tr>\n",
       "    <tr>\n",
       "      <th>18</th>\n",
       "      <td>Cardnum_unique_count_for_card_zip_3</td>\n",
       "      <td>0.506867</td>\n",
       "    </tr>\n",
       "    <tr>\n",
       "      <th>19</th>\n",
       "      <td>Cardnum_max_1</td>\n",
       "      <td>0.504805</td>\n",
       "    </tr>\n",
       "    <tr>\n",
       "      <th>20</th>\n",
       "      <td>Cardnum_unique_count_for_Merchnum_3</td>\n",
       "      <td>0.503768</td>\n",
       "    </tr>\n",
       "    <tr>\n",
       "      <th>21</th>\n",
       "      <td>Card_dow_vdratio_0by14</td>\n",
       "      <td>0.502657</td>\n",
       "    </tr>\n",
       "    <tr>\n",
       "      <th>22</th>\n",
       "      <td>Cardnum_vdratio_1by14</td>\n",
       "      <td>0.497396</td>\n",
       "    </tr>\n",
       "    <tr>\n",
       "      <th>23</th>\n",
       "      <td>Cardnum_variability_max_0</td>\n",
       "      <td>0.496485</td>\n",
       "    </tr>\n",
       "    <tr>\n",
       "      <th>24</th>\n",
       "      <td>Cardnum_variability_max_1</td>\n",
       "      <td>0.493475</td>\n",
       "    </tr>\n",
       "    <tr>\n",
       "      <th>25</th>\n",
       "      <td>Cardnum_max_0</td>\n",
       "      <td>0.492316</td>\n",
       "    </tr>\n",
       "    <tr>\n",
       "      <th>26</th>\n",
       "      <td>Card_dow_unique_count_for_merch_state_1</td>\n",
       "      <td>0.490938</td>\n",
       "    </tr>\n",
       "    <tr>\n",
       "      <th>27</th>\n",
       "      <td>Card_dow_unique_count_for_merch_zip_1</td>\n",
       "      <td>0.490737</td>\n",
       "    </tr>\n",
       "    <tr>\n",
       "      <th>28</th>\n",
       "      <td>Card_dow_vdratio_0by7</td>\n",
       "      <td>0.490636</td>\n",
       "    </tr>\n",
       "    <tr>\n",
       "      <th>29</th>\n",
       "      <td>Cardnum_actual/toal_0</td>\n",
       "      <td>0.489477</td>\n",
       "    </tr>\n",
       "  </tbody>\n",
       "</table>\n",
       "</div>"
      ],
      "text/plain": [
       "                                   variable  filter score\n",
       "0                                     Fraud      1.000000\n",
       "1                           Cardnum_total_1      0.591114\n",
       "2                           Cardnum_count_1      0.576927\n",
       "3                           Cardnum_count_3      0.572199\n",
       "4                           Cardnum_total_3      0.569585\n",
       "5                           Cardnum_total_0      0.555080\n",
       "6                           Cardnum_count_0      0.529072\n",
       "7                     Cardnum_vdratio_1by60      0.519909\n",
       "8     Cardnum_unique_count_for_card_state_1      0.518606\n",
       "9       Cardnum_unique_count_for_card_zip_1      0.517208\n",
       "10                    Cardnum_vdratio_1by30      0.516476\n",
       "11                          Cardnum_count_7      0.516399\n",
       "12                          Cardnum_total_7      0.515987\n",
       "13      Cardnum_unique_count_for_Merchnum_1      0.513278\n",
       "14                         Card_dow_total_7      0.508754\n",
       "15                   Card_dow_vdratio_0by60      0.508448\n",
       "16    Cardnum_unique_count_for_card_state_3      0.508357\n",
       "17                   Card_dow_vdratio_0by30      0.507694\n",
       "18      Cardnum_unique_count_for_card_zip_3      0.506867\n",
       "19                            Cardnum_max_1      0.504805\n",
       "20      Cardnum_unique_count_for_Merchnum_3      0.503768\n",
       "21                   Card_dow_vdratio_0by14      0.502657\n",
       "22                    Cardnum_vdratio_1by14      0.497396\n",
       "23                Cardnum_variability_max_0      0.496485\n",
       "24                Cardnum_variability_max_1      0.493475\n",
       "25                            Cardnum_max_0      0.492316\n",
       "26  Card_dow_unique_count_for_merch_state_1      0.490938\n",
       "27    Card_dow_unique_count_for_merch_zip_1      0.490737\n",
       "28                    Card_dow_vdratio_0by7      0.490636\n",
       "29                    Cardnum_actual/toal_0      0.489477"
      ]
     },
     "execution_count": 7,
     "metadata": {},
     "output_type": "execute_result"
    }
   ],
   "source": [
    "filter_score.head(30)"
   ]
  },
  {
   "cell_type": "code",
   "execution_count": 8,
   "metadata": {},
   "outputs": [
    {
     "data": {
      "application/vnd.microsoft.datawrangler.viewer.v0+json": {
       "columns": [
        {
         "name": "index",
         "rawType": "int64",
         "type": "integer"
        },
        {
         "name": "variable",
         "rawType": "object",
         "type": "string"
        },
        {
         "name": "filter score",
         "rawType": "float64",
         "type": "float"
        }
       ],
       "conversionMethod": "pd.DataFrame",
       "ref": "fd070fa2-ada8-4b76-b563-bc4c7889f819",
       "rows": [
        [
         "2641",
         "Merchdesc_Zip_unique_count_for_Merchdesc_State_14",
         "3.7538476938880905e-05"
        ],
        [
         "2642",
         "Merchdesc_Zip_unique_count_for_Merchdesc_State_7",
         "3.7538476938880905e-05"
        ],
        [
         "2643",
         "merch_zip_unique_count_for_merch_state_14",
         "2.502565129258727e-05"
        ],
        [
         "2644",
         "Card_Merchdesc_Zip_unique_count_for_Merchdesc_State_7",
         "1.2512825646293635e-05"
        ],
        [
         "2645",
         "merch_zip_unique_count_for_merch_state_7",
         "1.2512825646293635e-05"
        ],
        [
         "2646",
         "Merchnum_desc_Zip_unique_count_for_Merchnum_desc_State_14",
         "1.2512825646293635e-05"
        ],
        [
         "2647",
         "merch_zip_unique_count_for_merch_state_3",
         "0.0"
        ],
        [
         "2648",
         "Merchant_dominance_score",
         "0.0"
        ],
        [
         "2649",
         "merch_zip_unique_count_for_merch_state_1",
         "0.0"
        ],
        [
         "2650",
         "card_merch_unique_count_for_Cardnum_1",
         "0.0"
        ]
       ],
       "shape": {
        "columns": 2,
        "rows": 10
       }
      },
      "text/html": [
       "<div>\n",
       "<style scoped>\n",
       "    .dataframe tbody tr th:only-of-type {\n",
       "        vertical-align: middle;\n",
       "    }\n",
       "\n",
       "    .dataframe tbody tr th {\n",
       "        vertical-align: top;\n",
       "    }\n",
       "\n",
       "    .dataframe thead th {\n",
       "        text-align: right;\n",
       "    }\n",
       "</style>\n",
       "<table border=\"1\" class=\"dataframe\">\n",
       "  <thead>\n",
       "    <tr style=\"text-align: right;\">\n",
       "      <th></th>\n",
       "      <th>variable</th>\n",
       "      <th>filter score</th>\n",
       "    </tr>\n",
       "  </thead>\n",
       "  <tbody>\n",
       "    <tr>\n",
       "      <th>2641</th>\n",
       "      <td>Merchdesc_Zip_unique_count_for_Merchdesc_State_14</td>\n",
       "      <td>0.000038</td>\n",
       "    </tr>\n",
       "    <tr>\n",
       "      <th>2642</th>\n",
       "      <td>Merchdesc_Zip_unique_count_for_Merchdesc_State_7</td>\n",
       "      <td>0.000038</td>\n",
       "    </tr>\n",
       "    <tr>\n",
       "      <th>2643</th>\n",
       "      <td>merch_zip_unique_count_for_merch_state_14</td>\n",
       "      <td>0.000025</td>\n",
       "    </tr>\n",
       "    <tr>\n",
       "      <th>2644</th>\n",
       "      <td>Card_Merchdesc_Zip_unique_count_for_Merchdesc_...</td>\n",
       "      <td>0.000013</td>\n",
       "    </tr>\n",
       "    <tr>\n",
       "      <th>2645</th>\n",
       "      <td>merch_zip_unique_count_for_merch_state_7</td>\n",
       "      <td>0.000013</td>\n",
       "    </tr>\n",
       "    <tr>\n",
       "      <th>2646</th>\n",
       "      <td>Merchnum_desc_Zip_unique_count_for_Merchnum_de...</td>\n",
       "      <td>0.000013</td>\n",
       "    </tr>\n",
       "    <tr>\n",
       "      <th>2647</th>\n",
       "      <td>merch_zip_unique_count_for_merch_state_3</td>\n",
       "      <td>0.000000</td>\n",
       "    </tr>\n",
       "    <tr>\n",
       "      <th>2648</th>\n",
       "      <td>Merchant_dominance_score</td>\n",
       "      <td>0.000000</td>\n",
       "    </tr>\n",
       "    <tr>\n",
       "      <th>2649</th>\n",
       "      <td>merch_zip_unique_count_for_merch_state_1</td>\n",
       "      <td>0.000000</td>\n",
       "    </tr>\n",
       "    <tr>\n",
       "      <th>2650</th>\n",
       "      <td>card_merch_unique_count_for_Cardnum_1</td>\n",
       "      <td>0.000000</td>\n",
       "    </tr>\n",
       "  </tbody>\n",
       "</table>\n",
       "</div>"
      ],
      "text/plain": [
       "                                               variable  filter score\n",
       "2641  Merchdesc_Zip_unique_count_for_Merchdesc_State_14      0.000038\n",
       "2642   Merchdesc_Zip_unique_count_for_Merchdesc_State_7      0.000038\n",
       "2643          merch_zip_unique_count_for_merch_state_14      0.000025\n",
       "2644  Card_Merchdesc_Zip_unique_count_for_Merchdesc_...      0.000013\n",
       "2645           merch_zip_unique_count_for_merch_state_7      0.000013\n",
       "2646  Merchnum_desc_Zip_unique_count_for_Merchnum_de...      0.000013\n",
       "2647           merch_zip_unique_count_for_merch_state_3      0.000000\n",
       "2648                           Merchant_dominance_score      0.000000\n",
       "2649           merch_zip_unique_count_for_merch_state_1      0.000000\n",
       "2650              card_merch_unique_count_for_Cardnum_1      0.000000"
      ]
     },
     "execution_count": 8,
     "metadata": {},
     "output_type": "execute_result"
    }
   ],
   "source": [
    "filter_score.tail(10)"
   ]
  },
  {
   "cell_type": "code",
   "execution_count": 9,
   "metadata": {},
   "outputs": [
    {
     "data": {
      "text/plain": [
       "(2651, 2)"
      ]
     },
     "execution_count": 9,
     "metadata": {},
     "output_type": "execute_result"
    }
   ],
   "source": [
    "filter_score.shape"
   ]
  },
  {
   "cell_type": "code",
   "execution_count": null,
   "metadata": {
    "scrolled": true
   },
   "outputs": [
    {
     "name": "stdout",
     "output_type": "stream",
     "text": [
      "0  vars_keep: ['Cardnum_total_1', 'Cardnum_count_1', 'Cardnum_count_3', 'Cardnum_total_3', 'Cardnum_total_0', 'Cardnum_count_0', 'Cardnum_vdratio_1by60', 'Cardnum_unique_count_for_card_state_1', 'Cardnum_unique_count_for_card_zip_1', 'Cardnum_vdratio_1by30', 'Cardnum_count_7', 'Cardnum_total_7', 'Cardnum_unique_count_for_Merchnum_1', 'Card_dow_total_7', 'Card_dow_vdratio_0by60', 'Cardnum_unique_count_for_card_state_3', 'Card_dow_vdratio_0by30', 'Cardnum_unique_count_for_card_zip_3', 'Cardnum_max_1', 'Cardnum_unique_count_for_Merchnum_3', 'Card_dow_vdratio_0by14', 'Cardnum_vdratio_1by14', 'Cardnum_variability_max_0', 'Cardnum_variability_max_1', 'Cardnum_max_0', 'Card_dow_unique_count_for_merch_state_1', 'Card_dow_unique_count_for_merch_zip_1', 'Card_dow_vdratio_0by7', 'Cardnum_actual/toal_0', 'Card_dow_unique_count_for_Card_Merchdesc_1', 'Card_dow_unique_count_for_state_des_1', 'Card_dow_count_7', 'Cardnum_vdratio_1by7', 'Cardnum_unique_count_for_card_state_7', 'Cardnum_actual/toal_1', 'Card_dow_total_14', 'Cardnum_unique_count_for_card_zip_7', 'Cardnum_unique_count_for_Merchnum_7', 'Cardnum_max_3', 'Cardnum_actual/max_0', 'Cardnum_total_amount_1_by_60', 'Cardnum_day_since', 'Card_dow_day_since', 'Card_dow_max_7', 'Cardnum_total_14', 'Cardnum_vdratio_0by60', 'Card_dow_unique_count_for_merch_zip_7', 'Card_dow_unique_count_for_merch_state_7', 'Cardnum_unique_count_for_card_state_14', 'Cardnum_count_1_by_60', 'Cardnum_count_1_by_60_sq', 'Cardnum_unique_count_for_card_zip_14', 'Cardnum_count_1_by_30_sq', 'Cardnum_count_1_by_30', 'Cardnum_actual/max_1', 'Cardnum_unique_count_for_Merchnum_14', 'Card_dow_max_14', 'Card_dow_count_14', 'Cardnum_count_14', 'Cardnum_vdratio_0by30', 'Card_dow_total_30', 'Card_dow_unique_count_for_state_des_7', 'Card_dow_unique_count_for_Card_Merchdesc_7', 'Card_dow_unique_count_for_merch_state_14', 'Card_dow_unique_count_for_merch_zip_14', 'Cardnum_variability_max_3', 'Cardnum_actual/toal_3', 'Cardnum_total_amount_1_by_30', 'Cardnum_count_1_by_14_sq', 'Cardnum_count_1_by_14', 'Card_dow_variability_max_7', 'Cardnum_vdratio_0by14', 'Card_dow_actual/toal_7', 'Card_dow_unique_count_for_Card_Merchdesc_14', 'Card_dow_unique_count_for_state_des_14', 'Card_dow_max_30', 'Cardnum_unique_count_for_card_state_30', 'Card_dow_total_60', 'Cardnum_max_7', 'Card_dow_unique_count_for_merch_state_30', 'Card_dow_unique_count_for_merch_zip_30', 'Card_dow_count_30', 'Card_dow_count_0_by_60', 'Card_dow_count_0_by_60_sq', 'Cardnum_total_amount_0_by_60', 'Cardnum_vdratio_0by7', 'Cardnum_unique_count_for_card_zip_30', 'Cardnum_total_30', 'Cardnum_unique_count_for_Merchnum_30', 'Card_dow_actual/max_7', 'Card_dow_variability_max_14', 'Cardnum_total_amount_1_by_14', 'card_state_total_amount_1_by_60', 'Cardnum_actual/max_3', 'card_zip_total_amount_1_by_60', 'Cardnum_variability_avg_0', 'card_state_count_1_by_60_sq', 'card_state_count_1_by_60', 'Card_dow_max_60', 'Card_dow_count_0_by_30', 'Card_dow_count_0_by_30_sq', 'card_zip_count_1_by_60', 'card_zip_count_1_by_60_sq', 'Card_dow_unique_count_for_state_des_30', 'Card_dow_unique_count_for_Card_Merchdesc_30', 'Cardnum_avg_0', 'Card_dow_actual/toal_14', 'Cardnum_total_amount_0_by_30', 'Cardnum_count_0_by_60_sq', 'Cardnum_count_0_by_60', 'Cardnum_avg_1', 'Cardnum_unique_count_for_card_state_60', 'Card_dow_total_amount_0_by_60', 'Cardnum_count_30', 'Card_dow_unique_count_for_merch_state_60', 'Card_dow_unique_count_for_merch_zip_60', 'Cardnum_count_1_by_7_sq', 'Cardnum_count_1_by_7', 'Cardnum_actual/avg_0', 'Cardnum_variability_max_7', 'Cardnum_count_0_by_30_sq', 'Cardnum_count_0_by_30', 'Cardnum_actual/toal_7', 'Card_Merchnum_Zip_total_amount_1_by_60', 'card_merch_total_amount_1_by_60', 'Card_Merchnum_State_total_amount_1_by_60', 'card_state_count_1_by_30_sq', 'card_state_count_1_by_30', 'card_merch_count_1_by_60', 'card_merch_count_1_by_60_sq', 'Card_Merchnum_State_count_1_by_60', 'Card_Merchnum_State_count_1_by_60_sq', 'Card_Merchnum_Zip_count_1_by_60_sq', 'Card_Merchnum_Zip_count_1_by_60', 'Cardnum_avg_3', 'Card_dow_avg_7', 'Card_dow_variability_max_30', 'Cardnum_unique_count_for_card_zip_60', 'card_state_total_amount_1_by_30', 'Card_dow_actual/max_14', 'Card_dow_count_60', 'card_state_vdratio_1by60', 'card_state_total_1', 'Card_dow_avg_14', 'Cardnum_max_14', 'card_state_total_3', 'Cardnum_variability_avg_1', 'Cardnum_total_60', 'Cardnum_unique_count_for_Merchnum_60', 'card_state_vdratio_1by30', 'Card_dow_avg_30', 'card_zip_total_amount_1_by_30', 'Card_Merchdesc_vdratio_0by30', 'Card_Merchdesc_vdratio_0by7', 'Card_Merchdesc_vdratio_1by7', 'Card_Merchdesc_vdratio_0by14', 'Card_Merchdesc_vdratio_1by14', 'Card_Merchdesc_vdratio_1by30', 'Card_Merchdesc_day_since', 'Card_Merchdesc_vdratio_1by60', 'Card_Merchdesc_vdratio_0by60', 'Cardnum_max_60', 'Card_Merchdesc_State_day_since', 'Card_Merchdesc_State_vdratio_0by7', 'Card_Merchdesc_State_vdratio_1by30', 'Card_Merchdesc_State_vdratio_0by14', 'Card_Merchdesc_State_vdratio_1by14', 'Card_Merchdesc_State_vdratio_0by30', 'Card_Merchdesc_State_vdratio_1by7', 'Card_Merchdesc_State_vdratio_0by60', 'Card_Merchdesc_State_vdratio_1by60', 'Card_Merchdesc_Zip_vdratio_0by7', 'Card_Merchdesc_Zip_vdratio_1by30', 'Card_Merchdesc_Zip_vdratio_1by7', 'Card_Merchdesc_Zip_vdratio_1by14', 'Card_Merchdesc_Zip_vdratio_0by30', 'Card_Merchdesc_Zip_day_since', 'Card_Merchdesc_Zip_vdratio_0by14', 'Card_Merchdesc_Zip_vdratio_0by60', 'Card_Merchdesc_Zip_vdratio_1by60', 'card_zip_vdratio_0by7', 'card_zip_day_since', 'card_zip_vdratio_1by14', 'card_zip_vdratio_1by7', 'card_zip_vdratio_0by14', 'card_zip_vdratio_1by30', 'card_zip_vdratio_0by30', 'card_zip_vdratio_1by60', 'card_zip_vdratio_0by60', 'Card_dow_unique_count_for_Card_Merchdesc_60', 'Card_dow_unique_count_for_state_des_60', 'card_zip_count_1_by_30', 'card_zip_count_1_by_30_sq', 'card_merch_vdratio_0by14', 'card_merch_vdratio_1by7', 'card_merch_vdratio_1by14', 'card_merch_vdratio_0by7', 'card_merch_day_since', 'card_merch_vdratio_0by30', 'card_merch_vdratio_1by30', 'card_merch_vdratio_1by60', 'card_merch_vdratio_0by60', 'Card_Merchnum_State_vdratio_0by14', 'Card_Merchnum_State_vdratio_0by7', 'Card_Merchnum_State_vdratio_1by14', 'Card_Merchnum_State_day_since', 'Card_Merchnum_State_vdratio_1by7', 'Card_Merchnum_State_vdratio_0by30', 'Card_Merchnum_State_vdratio_1by30', 'Card_Merchnum_State_vdratio_1by60', 'Card_Merchnum_State_vdratio_0by60', 'Card_Merchnum_Zip_day_since', 'Card_Merchnum_Zip_vdratio_0by14', 'Card_Merchnum_Zip_vdratio_1by7', 'Card_Merchnum_Zip_vdratio_0by7', 'Card_Merchnum_Zip_vdratio_1by14', 'Card_Merchnum_Zip_vdratio_0by30', 'Card_Merchnum_Zip_vdratio_1by30', 'Card_Merchnum_Zip_vdratio_0by60', 'Card_Merchnum_Zip_vdratio_1by60', 'card_state_total_0', 'Card_Merchnum_desc_day_since', 'Card_Merchnum_desc_vdratio_1by30', 'Card_Merchnum_desc_vdratio_1by14', 'Card_Merchnum_desc_vdratio_0by30', 'Card_Merchnum_desc_vdratio_1by7', 'Card_Merchnum_desc_vdratio_0by14', 'Card_Merchnum_desc_vdratio_0by7', 'Card_Merchnum_desc_vdratio_1by60', 'Card_Merchnum_desc_vdratio_0by60', 'Cardnum_variability_med_0', 'card_state_total_7', 'card_state_max_3', 'Card_Merchdesc_State_total_14', 'Card_Merchdesc_total_14', 'Card_Merchdesc_Zip_total_14', 'card_zip_total_14', 'card_state_max_1', 'card_state_vdratio_0by60', 'Card_Merchnum_desc_total_14', 'card_zip_total_amount_0_by_60', 'Card_Merchnum_State_total_14', 'card_merch_total_14', 'Card_Merchnum_Zip_total_14', 'Cardnum_avg_7', 'card_zip_count_0_by_60', 'card_zip_count_0_by_60_sq', 'card_state_total_14', 'card_zip_total_7', 'card_state_vdratio_1by14', 'Card_Merchdesc_State_total_7', 'Card_Merchdesc_total_7', 'Card_Merchdesc_Zip_total_7', 'Cardnum_actual/med_0', 'card_zip_total_3', 'Card_Merchnum_desc_total_7', 'Card_Merchdesc_State_total_3', 'Card_Merchdesc_total_3', 'card_merch_total_7', 'Card_Merchnum_State_total_7', 'Card_Merchdesc_Zip_total_3', 'Card_Merchnum_Zip_total_7', 'Card_dow_actual/toal_30', 'Card_dow_variability_avg_7', 'card_zip_total_30', 'Cardnum_total_amount_1_by_7', 'Card_dow_count_0_by_14_sq', 'Card_dow_count_0_by_14', 'Card_Merchdesc_State_total_30', 'Card_Merchdesc_total_30', 'Card_Merchnum_desc_total_3', 'Card_Merchnum_State_total_3', 'card_merch_total_3', 'Card_dow_total_amount_0_by_30', 'Card_Merchnum_Zip_total_3', 'Card_Merchnum_desc_total_30', 'card_merch_total_30', 'Card_Merchnum_State_total_30', 'card_state_max_7', 'state_des_total_3', 'card_state_max_0', 'Card_Merchdesc_Zip_total_30', 'Merchdesc_Zip_total_3', 'Card_Merchnum_Zip_total_30', 'merch_state_total_3', 'Merchnum_total_3', 'High_Amount_For_Merchant', 'Card_dow_avg_60', 'merch_zip_total_3', 'Card_Merchnum_Zip_total_amount_1_by_30', 'Merchnum_desc_State_total_3', 'Merchnum_desc_total_3', 'card_merch_total_amount_1_by_30', 'Card_Merchnum_State_total_amount_1_by_30', 'card_zip_total_1', 'state_des_total_1', 'Merchdesc_Zip_total_1', 'Cardnum_total_amount_0_by_14', 'Merchnum_desc_Zip_total_3', 'card_merch_total_1', 'card_merch_count_1_by_30', 'card_merch_count_1_by_30_sq']\n"
     ]
    }
   ],
   "source": [
    "filter_score.head(80).to_csv('features/filter_top.csv')\n",
    "vars_keep = list(filter_score['variable'][num_files:num_out_of_filter+3])\n",
    "print(i,' vars_keep:',vars_keep)"
   ]
  },
  {
   "cell_type": "code",
   "execution_count": null,
   "metadata": {
    "scrolled": false
   },
   "outputs": [
    {
     "data": {
      "application/vnd.microsoft.datawrangler.viewer.v0+json": {
       "columns": [
        {
         "name": "Recnum",
         "rawType": "int64",
         "type": "integer"
        },
        {
         "name": "Cardnum_total_1",
         "rawType": "float64",
         "type": "float"
        },
        {
         "name": "Cardnum_count_1",
         "rawType": "float64",
         "type": "float"
        },
        {
         "name": "Cardnum_count_3",
         "rawType": "float64",
         "type": "float"
        },
        {
         "name": "Cardnum_total_3",
         "rawType": "float64",
         "type": "float"
        },
        {
         "name": "Cardnum_total_0",
         "rawType": "float64",
         "type": "float"
        },
        {
         "name": "Cardnum_count_0",
         "rawType": "float64",
         "type": "float"
        },
        {
         "name": "Cardnum_vdratio_1by60",
         "rawType": "float64",
         "type": "float"
        },
        {
         "name": "Cardnum_unique_count_for_card_state_1",
         "rawType": "float64",
         "type": "float"
        },
        {
         "name": "Cardnum_unique_count_for_card_zip_1",
         "rawType": "float64",
         "type": "float"
        },
        {
         "name": "Cardnum_vdratio_1by30",
         "rawType": "float64",
         "type": "float"
        },
        {
         "name": "Cardnum_count_7",
         "rawType": "float64",
         "type": "float"
        },
        {
         "name": "Cardnum_total_7",
         "rawType": "float64",
         "type": "float"
        },
        {
         "name": "Cardnum_unique_count_for_Merchnum_1",
         "rawType": "float64",
         "type": "float"
        },
        {
         "name": "Card_dow_total_7",
         "rawType": "float64",
         "type": "float"
        },
        {
         "name": "Card_dow_vdratio_0by60",
         "rawType": "float64",
         "type": "float"
        },
        {
         "name": "Cardnum_unique_count_for_card_state_3",
         "rawType": "float64",
         "type": "float"
        },
        {
         "name": "Card_dow_vdratio_0by30",
         "rawType": "float64",
         "type": "float"
        },
        {
         "name": "Cardnum_unique_count_for_card_zip_3",
         "rawType": "float64",
         "type": "float"
        },
        {
         "name": "Cardnum_max_1",
         "rawType": "float64",
         "type": "float"
        },
        {
         "name": "Cardnum_unique_count_for_Merchnum_3",
         "rawType": "float64",
         "type": "float"
        },
        {
         "name": "Card_dow_vdratio_0by14",
         "rawType": "float64",
         "type": "float"
        },
        {
         "name": "Cardnum_vdratio_1by14",
         "rawType": "float64",
         "type": "float"
        },
        {
         "name": "Cardnum_variability_max_0",
         "rawType": "float64",
         "type": "float"
        },
        {
         "name": "Cardnum_variability_max_1",
         "rawType": "float64",
         "type": "float"
        },
        {
         "name": "Cardnum_max_0",
         "rawType": "float64",
         "type": "float"
        },
        {
         "name": "Card_dow_unique_count_for_merch_state_1",
         "rawType": "float64",
         "type": "float"
        },
        {
         "name": "Card_dow_unique_count_for_merch_zip_1",
         "rawType": "float64",
         "type": "float"
        },
        {
         "name": "Card_dow_vdratio_0by7",
         "rawType": "float64",
         "type": "float"
        },
        {
         "name": "Cardnum_actual/toal_0",
         "rawType": "float64",
         "type": "float"
        },
        {
         "name": "Card_dow_unique_count_for_Card_Merchdesc_1",
         "rawType": "float64",
         "type": "float"
        },
        {
         "name": "Card_dow_unique_count_for_state_des_1",
         "rawType": "float64",
         "type": "float"
        },
        {
         "name": "Card_dow_count_7",
         "rawType": "float64",
         "type": "float"
        },
        {
         "name": "Cardnum_vdratio_1by7",
         "rawType": "float64",
         "type": "float"
        },
        {
         "name": "Cardnum_unique_count_for_card_state_7",
         "rawType": "float64",
         "type": "float"
        },
        {
         "name": "Cardnum_actual/toal_1",
         "rawType": "float64",
         "type": "float"
        },
        {
         "name": "Card_dow_total_14",
         "rawType": "float64",
         "type": "float"
        },
        {
         "name": "Cardnum_unique_count_for_card_zip_7",
         "rawType": "float64",
         "type": "float"
        },
        {
         "name": "Cardnum_unique_count_for_Merchnum_7",
         "rawType": "float64",
         "type": "float"
        },
        {
         "name": "Cardnum_max_3",
         "rawType": "float64",
         "type": "float"
        },
        {
         "name": "Cardnum_actual/max_0",
         "rawType": "float64",
         "type": "float"
        },
        {
         "name": "Cardnum_total_amount_1_by_60",
         "rawType": "float64",
         "type": "float"
        },
        {
         "name": "Cardnum_day_since",
         "rawType": "float64",
         "type": "float"
        },
        {
         "name": "Card_dow_day_since",
         "rawType": "float64",
         "type": "float"
        },
        {
         "name": "Card_dow_max_7",
         "rawType": "float64",
         "type": "float"
        },
        {
         "name": "Cardnum_total_14",
         "rawType": "float64",
         "type": "float"
        },
        {
         "name": "Cardnum_vdratio_0by60",
         "rawType": "float64",
         "type": "float"
        },
        {
         "name": "Card_dow_unique_count_for_merch_zip_7",
         "rawType": "float64",
         "type": "float"
        },
        {
         "name": "Card_dow_unique_count_for_merch_state_7",
         "rawType": "float64",
         "type": "float"
        },
        {
         "name": "Cardnum_unique_count_for_card_state_14",
         "rawType": "float64",
         "type": "float"
        },
        {
         "name": "Cardnum_count_1_by_60",
         "rawType": "float64",
         "type": "float"
        },
        {
         "name": "Cardnum_count_1_by_60_sq",
         "rawType": "float64",
         "type": "float"
        },
        {
         "name": "Cardnum_unique_count_for_card_zip_14",
         "rawType": "float64",
         "type": "float"
        },
        {
         "name": "Cardnum_count_1_by_30_sq",
         "rawType": "float64",
         "type": "float"
        },
        {
         "name": "Cardnum_count_1_by_30",
         "rawType": "float64",
         "type": "float"
        },
        {
         "name": "Cardnum_actual/max_1",
         "rawType": "float64",
         "type": "float"
        },
        {
         "name": "Cardnum_unique_count_for_Merchnum_14",
         "rawType": "float64",
         "type": "float"
        },
        {
         "name": "Card_dow_max_14",
         "rawType": "float64",
         "type": "float"
        },
        {
         "name": "Card_dow_count_14",
         "rawType": "float64",
         "type": "float"
        },
        {
         "name": "Cardnum_count_14",
         "rawType": "float64",
         "type": "float"
        },
        {
         "name": "Cardnum_vdratio_0by30",
         "rawType": "float64",
         "type": "float"
        },
        {
         "name": "Card_dow_total_30",
         "rawType": "float64",
         "type": "float"
        },
        {
         "name": "Card_dow_unique_count_for_state_des_7",
         "rawType": "float64",
         "type": "float"
        },
        {
         "name": "Card_dow_unique_count_for_Card_Merchdesc_7",
         "rawType": "float64",
         "type": "float"
        },
        {
         "name": "Card_dow_unique_count_for_merch_state_14",
         "rawType": "float64",
         "type": "float"
        },
        {
         "name": "Card_dow_unique_count_for_merch_zip_14",
         "rawType": "float64",
         "type": "float"
        },
        {
         "name": "Cardnum_variability_max_3",
         "rawType": "float64",
         "type": "float"
        },
        {
         "name": "Cardnum_actual/toal_3",
         "rawType": "float64",
         "type": "float"
        },
        {
         "name": "Cardnum_total_amount_1_by_30",
         "rawType": "float64",
         "type": "float"
        },
        {
         "name": "Cardnum_count_1_by_14_sq",
         "rawType": "float64",
         "type": "float"
        },
        {
         "name": "Cardnum_count_1_by_14",
         "rawType": "float64",
         "type": "float"
        },
        {
         "name": "Card_dow_variability_max_7",
         "rawType": "float64",
         "type": "float"
        },
        {
         "name": "Cardnum_vdratio_0by14",
         "rawType": "float64",
         "type": "float"
        },
        {
         "name": "Card_dow_actual/toal_7",
         "rawType": "float64",
         "type": "float"
        },
        {
         "name": "Card_dow_unique_count_for_Card_Merchdesc_14",
         "rawType": "float64",
         "type": "float"
        },
        {
         "name": "Card_dow_unique_count_for_state_des_14",
         "rawType": "float64",
         "type": "float"
        },
        {
         "name": "Card_dow_max_30",
         "rawType": "float64",
         "type": "float"
        },
        {
         "name": "Cardnum_unique_count_for_card_state_30",
         "rawType": "float64",
         "type": "float"
        },
        {
         "name": "Card_dow_total_60",
         "rawType": "float64",
         "type": "float"
        },
        {
         "name": "Cardnum_max_7",
         "rawType": "float64",
         "type": "float"
        },
        {
         "name": "Card_dow_unique_count_for_merch_state_30",
         "rawType": "float64",
         "type": "float"
        },
        {
         "name": "Card_dow_unique_count_for_merch_zip_30",
         "rawType": "float64",
         "type": "float"
        },
        {
         "name": "Card_dow_count_30",
         "rawType": "float64",
         "type": "float"
        },
        {
         "name": "Card_dow_count_0_by_60",
         "rawType": "float64",
         "type": "float"
        },
        {
         "name": "Card_dow_count_0_by_60_sq",
         "rawType": "float64",
         "type": "float"
        },
        {
         "name": "Cardnum_total_amount_0_by_60",
         "rawType": "float64",
         "type": "float"
        },
        {
         "name": "Cardnum_vdratio_0by7",
         "rawType": "float64",
         "type": "float"
        },
        {
         "name": "Cardnum_unique_count_for_card_zip_30",
         "rawType": "float64",
         "type": "float"
        },
        {
         "name": "Cardnum_total_30",
         "rawType": "float64",
         "type": "float"
        },
        {
         "name": "Cardnum_unique_count_for_Merchnum_30",
         "rawType": "float64",
         "type": "float"
        },
        {
         "name": "Card_dow_actual/max_7",
         "rawType": "float64",
         "type": "float"
        },
        {
         "name": "Card_dow_variability_max_14",
         "rawType": "float64",
         "type": "float"
        },
        {
         "name": "Cardnum_total_amount_1_by_14",
         "rawType": "float64",
         "type": "float"
        },
        {
         "name": "card_state_total_amount_1_by_60",
         "rawType": "float64",
         "type": "float"
        },
        {
         "name": "Cardnum_actual/max_3",
         "rawType": "float64",
         "type": "float"
        },
        {
         "name": "card_zip_total_amount_1_by_60",
         "rawType": "float64",
         "type": "float"
        },
        {
         "name": "Cardnum_variability_avg_0",
         "rawType": "float64",
         "type": "float"
        },
        {
         "name": "card_state_count_1_by_60_sq",
         "rawType": "float64",
         "type": "float"
        },
        {
         "name": "card_state_count_1_by_60",
         "rawType": "float64",
         "type": "float"
        },
        {
         "name": "Card_dow_max_60",
         "rawType": "float64",
         "type": "float"
        },
        {
         "name": "Card_dow_count_0_by_30",
         "rawType": "float64",
         "type": "float"
        },
        {
         "name": "Card_dow_count_0_by_30_sq",
         "rawType": "float64",
         "type": "float"
        },
        {
         "name": "card_zip_count_1_by_60",
         "rawType": "float64",
         "type": "float"
        },
        {
         "name": "card_zip_count_1_by_60_sq",
         "rawType": "float64",
         "type": "float"
        },
        {
         "name": "Card_dow_unique_count_for_state_des_30",
         "rawType": "float64",
         "type": "float"
        },
        {
         "name": "Card_dow_unique_count_for_Card_Merchdesc_30",
         "rawType": "float64",
         "type": "float"
        },
        {
         "name": "Cardnum_avg_0",
         "rawType": "float64",
         "type": "float"
        },
        {
         "name": "Card_dow_actual/toal_14",
         "rawType": "float64",
         "type": "float"
        },
        {
         "name": "Cardnum_total_amount_0_by_30",
         "rawType": "float64",
         "type": "float"
        },
        {
         "name": "Cardnum_count_0_by_60_sq",
         "rawType": "float64",
         "type": "float"
        },
        {
         "name": "Cardnum_count_0_by_60",
         "rawType": "float64",
         "type": "float"
        },
        {
         "name": "Cardnum_avg_1",
         "rawType": "float64",
         "type": "float"
        },
        {
         "name": "Cardnum_unique_count_for_card_state_60",
         "rawType": "float64",
         "type": "float"
        },
        {
         "name": "Card_dow_total_amount_0_by_60",
         "rawType": "float64",
         "type": "float"
        },
        {
         "name": "Cardnum_count_30",
         "rawType": "float64",
         "type": "float"
        },
        {
         "name": "Card_dow_unique_count_for_merch_state_60",
         "rawType": "float64",
         "type": "float"
        },
        {
         "name": "Card_dow_unique_count_for_merch_zip_60",
         "rawType": "float64",
         "type": "float"
        },
        {
         "name": "Cardnum_count_1_by_7_sq",
         "rawType": "float64",
         "type": "float"
        },
        {
         "name": "Cardnum_count_1_by_7",
         "rawType": "float64",
         "type": "float"
        },
        {
         "name": "Cardnum_actual/avg_0",
         "rawType": "float64",
         "type": "float"
        },
        {
         "name": "Cardnum_variability_max_7",
         "rawType": "float64",
         "type": "float"
        },
        {
         "name": "Cardnum_count_0_by_30_sq",
         "rawType": "float64",
         "type": "float"
        },
        {
         "name": "Cardnum_count_0_by_30",
         "rawType": "float64",
         "type": "float"
        },
        {
         "name": "Cardnum_actual/toal_7",
         "rawType": "float64",
         "type": "float"
        },
        {
         "name": "Card_Merchnum_Zip_total_amount_1_by_60",
         "rawType": "float64",
         "type": "float"
        },
        {
         "name": "card_merch_total_amount_1_by_60",
         "rawType": "float64",
         "type": "float"
        },
        {
         "name": "Card_Merchnum_State_total_amount_1_by_60",
         "rawType": "float64",
         "type": "float"
        },
        {
         "name": "card_state_count_1_by_30_sq",
         "rawType": "float64",
         "type": "float"
        },
        {
         "name": "card_state_count_1_by_30",
         "rawType": "float64",
         "type": "float"
        },
        {
         "name": "card_merch_count_1_by_60",
         "rawType": "float64",
         "type": "float"
        },
        {
         "name": "card_merch_count_1_by_60_sq",
         "rawType": "float64",
         "type": "float"
        },
        {
         "name": "Card_Merchnum_State_count_1_by_60",
         "rawType": "float64",
         "type": "float"
        },
        {
         "name": "Card_Merchnum_State_count_1_by_60_sq",
         "rawType": "float64",
         "type": "float"
        },
        {
         "name": "Card_Merchnum_Zip_count_1_by_60_sq",
         "rawType": "float64",
         "type": "float"
        },
        {
         "name": "Card_Merchnum_Zip_count_1_by_60",
         "rawType": "float64",
         "type": "float"
        },
        {
         "name": "Cardnum_avg_3",
         "rawType": "float64",
         "type": "float"
        },
        {
         "name": "Card_dow_avg_7",
         "rawType": "float64",
         "type": "float"
        },
        {
         "name": "Card_dow_variability_max_30",
         "rawType": "float64",
         "type": "float"
        },
        {
         "name": "Cardnum_unique_count_for_card_zip_60",
         "rawType": "float64",
         "type": "float"
        },
        {
         "name": "card_state_total_amount_1_by_30",
         "rawType": "float64",
         "type": "float"
        },
        {
         "name": "Card_dow_actual/max_14",
         "rawType": "float64",
         "type": "float"
        },
        {
         "name": "Card_dow_count_60",
         "rawType": "float64",
         "type": "float"
        },
        {
         "name": "card_state_vdratio_1by60",
         "rawType": "float64",
         "type": "float"
        },
        {
         "name": "card_state_total_1",
         "rawType": "float64",
         "type": "float"
        },
        {
         "name": "Card_dow_avg_14",
         "rawType": "float64",
         "type": "float"
        },
        {
         "name": "Cardnum_max_14",
         "rawType": "float64",
         "type": "float"
        },
        {
         "name": "card_state_total_3",
         "rawType": "float64",
         "type": "float"
        },
        {
         "name": "Cardnum_variability_avg_1",
         "rawType": "float64",
         "type": "float"
        },
        {
         "name": "Cardnum_total_60",
         "rawType": "float64",
         "type": "float"
        },
        {
         "name": "Cardnum_unique_count_for_Merchnum_60",
         "rawType": "float64",
         "type": "float"
        },
        {
         "name": "card_state_vdratio_1by30",
         "rawType": "float64",
         "type": "float"
        },
        {
         "name": "Card_dow_avg_30",
         "rawType": "float64",
         "type": "float"
        },
        {
         "name": "card_zip_total_amount_1_by_30",
         "rawType": "float64",
         "type": "float"
        },
        {
         "name": "Card_Merchdesc_vdratio_0by30",
         "rawType": "float64",
         "type": "float"
        },
        {
         "name": "Card_Merchdesc_vdratio_0by7",
         "rawType": "float64",
         "type": "float"
        },
        {
         "name": "Card_Merchdesc_vdratio_1by7",
         "rawType": "float64",
         "type": "float"
        },
        {
         "name": "Card_Merchdesc_vdratio_0by14",
         "rawType": "float64",
         "type": "float"
        },
        {
         "name": "Card_Merchdesc_vdratio_1by14",
         "rawType": "float64",
         "type": "float"
        },
        {
         "name": "Card_Merchdesc_vdratio_1by30",
         "rawType": "float64",
         "type": "float"
        },
        {
         "name": "Card_Merchdesc_day_since",
         "rawType": "float64",
         "type": "float"
        },
        {
         "name": "Card_Merchdesc_vdratio_1by60",
         "rawType": "float64",
         "type": "float"
        },
        {
         "name": "Card_Merchdesc_vdratio_0by60",
         "rawType": "float64",
         "type": "float"
        },
        {
         "name": "Cardnum_max_60",
         "rawType": "float64",
         "type": "float"
        },
        {
         "name": "Card_Merchdesc_State_day_since",
         "rawType": "float64",
         "type": "float"
        },
        {
         "name": "Card_Merchdesc_State_vdratio_0by7",
         "rawType": "float64",
         "type": "float"
        },
        {
         "name": "Card_Merchdesc_State_vdratio_1by30",
         "rawType": "float64",
         "type": "float"
        },
        {
         "name": "Card_Merchdesc_State_vdratio_0by14",
         "rawType": "float64",
         "type": "float"
        },
        {
         "name": "Card_Merchdesc_State_vdratio_1by14",
         "rawType": "float64",
         "type": "float"
        },
        {
         "name": "Card_Merchdesc_State_vdratio_0by30",
         "rawType": "float64",
         "type": "float"
        },
        {
         "name": "Card_Merchdesc_State_vdratio_1by7",
         "rawType": "float64",
         "type": "float"
        },
        {
         "name": "Card_Merchdesc_State_vdratio_0by60",
         "rawType": "float64",
         "type": "float"
        },
        {
         "name": "Card_Merchdesc_State_vdratio_1by60",
         "rawType": "float64",
         "type": "float"
        },
        {
         "name": "Card_Merchdesc_Zip_vdratio_0by7",
         "rawType": "float64",
         "type": "float"
        },
        {
         "name": "Card_Merchdesc_Zip_vdratio_1by30",
         "rawType": "float64",
         "type": "float"
        },
        {
         "name": "Card_Merchdesc_Zip_vdratio_1by7",
         "rawType": "float64",
         "type": "float"
        },
        {
         "name": "Card_Merchdesc_Zip_vdratio_1by14",
         "rawType": "float64",
         "type": "float"
        },
        {
         "name": "Card_Merchdesc_Zip_vdratio_0by30",
         "rawType": "float64",
         "type": "float"
        },
        {
         "name": "Card_Merchdesc_Zip_day_since",
         "rawType": "float64",
         "type": "float"
        },
        {
         "name": "Card_Merchdesc_Zip_vdratio_0by14",
         "rawType": "float64",
         "type": "float"
        },
        {
         "name": "Card_Merchdesc_Zip_vdratio_0by60",
         "rawType": "float64",
         "type": "float"
        },
        {
         "name": "Card_Merchdesc_Zip_vdratio_1by60",
         "rawType": "float64",
         "type": "float"
        },
        {
         "name": "card_zip_vdratio_0by7",
         "rawType": "float64",
         "type": "float"
        },
        {
         "name": "card_zip_day_since",
         "rawType": "float64",
         "type": "float"
        },
        {
         "name": "card_zip_vdratio_1by14",
         "rawType": "float64",
         "type": "float"
        },
        {
         "name": "card_zip_vdratio_1by7",
         "rawType": "float64",
         "type": "float"
        },
        {
         "name": "card_zip_vdratio_0by14",
         "rawType": "float64",
         "type": "float"
        },
        {
         "name": "card_zip_vdratio_1by30",
         "rawType": "float64",
         "type": "float"
        },
        {
         "name": "card_zip_vdratio_0by30",
         "rawType": "float64",
         "type": "float"
        },
        {
         "name": "card_zip_vdratio_1by60",
         "rawType": "float64",
         "type": "float"
        },
        {
         "name": "card_zip_vdratio_0by60",
         "rawType": "float64",
         "type": "float"
        },
        {
         "name": "Card_dow_unique_count_for_Card_Merchdesc_60",
         "rawType": "float64",
         "type": "float"
        },
        {
         "name": "Card_dow_unique_count_for_state_des_60",
         "rawType": "float64",
         "type": "float"
        },
        {
         "name": "card_zip_count_1_by_30",
         "rawType": "float64",
         "type": "float"
        },
        {
         "name": "card_zip_count_1_by_30_sq",
         "rawType": "float64",
         "type": "float"
        },
        {
         "name": "card_merch_vdratio_0by14",
         "rawType": "float64",
         "type": "float"
        },
        {
         "name": "card_merch_vdratio_1by7",
         "rawType": "float64",
         "type": "float"
        },
        {
         "name": "card_merch_vdratio_1by14",
         "rawType": "float64",
         "type": "float"
        },
        {
         "name": "card_merch_vdratio_0by7",
         "rawType": "float64",
         "type": "float"
        },
        {
         "name": "card_merch_day_since",
         "rawType": "float64",
         "type": "float"
        },
        {
         "name": "card_merch_vdratio_0by30",
         "rawType": "float64",
         "type": "float"
        },
        {
         "name": "card_merch_vdratio_1by30",
         "rawType": "float64",
         "type": "float"
        },
        {
         "name": "card_merch_vdratio_1by60",
         "rawType": "float64",
         "type": "float"
        },
        {
         "name": "card_merch_vdratio_0by60",
         "rawType": "float64",
         "type": "float"
        },
        {
         "name": "Card_Merchnum_State_vdratio_0by14",
         "rawType": "float64",
         "type": "float"
        },
        {
         "name": "Card_Merchnum_State_vdratio_0by7",
         "rawType": "float64",
         "type": "float"
        },
        {
         "name": "Card_Merchnum_State_vdratio_1by14",
         "rawType": "float64",
         "type": "float"
        },
        {
         "name": "Card_Merchnum_State_day_since",
         "rawType": "float64",
         "type": "float"
        },
        {
         "name": "Card_Merchnum_State_vdratio_1by7",
         "rawType": "float64",
         "type": "float"
        },
        {
         "name": "Card_Merchnum_State_vdratio_0by30",
         "rawType": "float64",
         "type": "float"
        },
        {
         "name": "Card_Merchnum_State_vdratio_1by30",
         "rawType": "float64",
         "type": "float"
        },
        {
         "name": "Card_Merchnum_State_vdratio_1by60",
         "rawType": "float64",
         "type": "float"
        },
        {
         "name": "Card_Merchnum_State_vdratio_0by60",
         "rawType": "float64",
         "type": "float"
        },
        {
         "name": "Card_Merchnum_Zip_day_since",
         "rawType": "float64",
         "type": "float"
        },
        {
         "name": "Card_Merchnum_Zip_vdratio_0by14",
         "rawType": "float64",
         "type": "float"
        },
        {
         "name": "Card_Merchnum_Zip_vdratio_1by7",
         "rawType": "float64",
         "type": "float"
        },
        {
         "name": "Card_Merchnum_Zip_vdratio_0by7",
         "rawType": "float64",
         "type": "float"
        },
        {
         "name": "Card_Merchnum_Zip_vdratio_1by14",
         "rawType": "float64",
         "type": "float"
        },
        {
         "name": "Card_Merchnum_Zip_vdratio_0by30",
         "rawType": "float64",
         "type": "float"
        },
        {
         "name": "Card_Merchnum_Zip_vdratio_1by30",
         "rawType": "float64",
         "type": "float"
        },
        {
         "name": "Card_Merchnum_Zip_vdratio_0by60",
         "rawType": "float64",
         "type": "float"
        },
        {
         "name": "Card_Merchnum_Zip_vdratio_1by60",
         "rawType": "float64",
         "type": "float"
        },
        {
         "name": "card_state_total_0",
         "rawType": "float64",
         "type": "float"
        },
        {
         "name": "Card_Merchnum_desc_day_since",
         "rawType": "float64",
         "type": "float"
        },
        {
         "name": "Card_Merchnum_desc_vdratio_1by30",
         "rawType": "float64",
         "type": "float"
        },
        {
         "name": "Card_Merchnum_desc_vdratio_1by14",
         "rawType": "float64",
         "type": "float"
        },
        {
         "name": "Card_Merchnum_desc_vdratio_0by30",
         "rawType": "float64",
         "type": "float"
        },
        {
         "name": "Card_Merchnum_desc_vdratio_1by7",
         "rawType": "float64",
         "type": "float"
        },
        {
         "name": "Card_Merchnum_desc_vdratio_0by14",
         "rawType": "float64",
         "type": "float"
        },
        {
         "name": "Card_Merchnum_desc_vdratio_0by7",
         "rawType": "float64",
         "type": "float"
        },
        {
         "name": "Card_Merchnum_desc_vdratio_1by60",
         "rawType": "float64",
         "type": "float"
        },
        {
         "name": "Card_Merchnum_desc_vdratio_0by60",
         "rawType": "float64",
         "type": "float"
        },
        {
         "name": "Cardnum_variability_med_0",
         "rawType": "float64",
         "type": "float"
        },
        {
         "name": "card_state_total_7",
         "rawType": "float64",
         "type": "float"
        },
        {
         "name": "card_state_max_3",
         "rawType": "float64",
         "type": "float"
        },
        {
         "name": "Card_Merchdesc_State_total_14",
         "rawType": "float64",
         "type": "float"
        },
        {
         "name": "Card_Merchdesc_total_14",
         "rawType": "float64",
         "type": "float"
        },
        {
         "name": "Card_Merchdesc_Zip_total_14",
         "rawType": "float64",
         "type": "float"
        },
        {
         "name": "card_zip_total_14",
         "rawType": "float64",
         "type": "float"
        },
        {
         "name": "card_state_max_1",
         "rawType": "float64",
         "type": "float"
        },
        {
         "name": "card_state_vdratio_0by60",
         "rawType": "float64",
         "type": "float"
        },
        {
         "name": "Card_Merchnum_desc_total_14",
         "rawType": "float64",
         "type": "float"
        },
        {
         "name": "card_zip_total_amount_0_by_60",
         "rawType": "float64",
         "type": "float"
        },
        {
         "name": "Card_Merchnum_State_total_14",
         "rawType": "float64",
         "type": "float"
        },
        {
         "name": "card_merch_total_14",
         "rawType": "float64",
         "type": "float"
        },
        {
         "name": "Card_Merchnum_Zip_total_14",
         "rawType": "float64",
         "type": "float"
        },
        {
         "name": "Cardnum_avg_7",
         "rawType": "float64",
         "type": "float"
        },
        {
         "name": "card_zip_count_0_by_60",
         "rawType": "float64",
         "type": "float"
        },
        {
         "name": "card_zip_count_0_by_60_sq",
         "rawType": "float64",
         "type": "float"
        },
        {
         "name": "card_state_total_14",
         "rawType": "float64",
         "type": "float"
        },
        {
         "name": "card_zip_total_7",
         "rawType": "float64",
         "type": "float"
        },
        {
         "name": "card_state_vdratio_1by14",
         "rawType": "float64",
         "type": "float"
        },
        {
         "name": "Card_Merchdesc_State_total_7",
         "rawType": "float64",
         "type": "float"
        },
        {
         "name": "Card_Merchdesc_total_7",
         "rawType": "float64",
         "type": "float"
        },
        {
         "name": "Card_Merchdesc_Zip_total_7",
         "rawType": "float64",
         "type": "float"
        },
        {
         "name": "Cardnum_actual/med_0",
         "rawType": "float64",
         "type": "float"
        },
        {
         "name": "card_zip_total_3",
         "rawType": "float64",
         "type": "float"
        },
        {
         "name": "Card_Merchnum_desc_total_7",
         "rawType": "float64",
         "type": "float"
        },
        {
         "name": "Card_Merchdesc_State_total_3",
         "rawType": "float64",
         "type": "float"
        },
        {
         "name": "Card_Merchdesc_total_3",
         "rawType": "float64",
         "type": "float"
        },
        {
         "name": "card_merch_total_7",
         "rawType": "float64",
         "type": "float"
        },
        {
         "name": "Card_Merchnum_State_total_7",
         "rawType": "float64",
         "type": "float"
        },
        {
         "name": "Card_Merchdesc_Zip_total_3",
         "rawType": "float64",
         "type": "float"
        },
        {
         "name": "Card_Merchnum_Zip_total_7",
         "rawType": "float64",
         "type": "float"
        },
        {
         "name": "Card_dow_actual/toal_30",
         "rawType": "float64",
         "type": "float"
        },
        {
         "name": "Card_dow_variability_avg_7",
         "rawType": "float64",
         "type": "float"
        },
        {
         "name": "card_zip_total_30",
         "rawType": "float64",
         "type": "float"
        },
        {
         "name": "Cardnum_total_amount_1_by_7",
         "rawType": "float64",
         "type": "float"
        },
        {
         "name": "Card_dow_count_0_by_14_sq",
         "rawType": "float64",
         "type": "float"
        },
        {
         "name": "Card_dow_count_0_by_14",
         "rawType": "float64",
         "type": "float"
        },
        {
         "name": "Card_Merchdesc_State_total_30",
         "rawType": "float64",
         "type": "float"
        },
        {
         "name": "Card_Merchdesc_total_30",
         "rawType": "float64",
         "type": "float"
        },
        {
         "name": "Card_Merchnum_desc_total_3",
         "rawType": "float64",
         "type": "float"
        },
        {
         "name": "Card_Merchnum_State_total_3",
         "rawType": "float64",
         "type": "float"
        },
        {
         "name": "card_merch_total_3",
         "rawType": "float64",
         "type": "float"
        },
        {
         "name": "Card_dow_total_amount_0_by_30",
         "rawType": "float64",
         "type": "float"
        },
        {
         "name": "Card_Merchnum_Zip_total_3",
         "rawType": "float64",
         "type": "float"
        },
        {
         "name": "Card_Merchnum_desc_total_30",
         "rawType": "float64",
         "type": "float"
        },
        {
         "name": "card_merch_total_30",
         "rawType": "float64",
         "type": "float"
        },
        {
         "name": "Card_Merchnum_State_total_30",
         "rawType": "float64",
         "type": "float"
        },
        {
         "name": "card_state_max_7",
         "rawType": "float64",
         "type": "float"
        },
        {
         "name": "state_des_total_3",
         "rawType": "float64",
         "type": "float"
        },
        {
         "name": "card_state_max_0",
         "rawType": "float64",
         "type": "float"
        },
        {
         "name": "Card_Merchdesc_Zip_total_30",
         "rawType": "float64",
         "type": "float"
        },
        {
         "name": "Merchdesc_Zip_total_3",
         "rawType": "float64",
         "type": "float"
        },
        {
         "name": "Card_Merchnum_Zip_total_30",
         "rawType": "float64",
         "type": "float"
        },
        {
         "name": "merch_state_total_3",
         "rawType": "float64",
         "type": "float"
        },
        {
         "name": "Merchnum_total_3",
         "rawType": "float64",
         "type": "float"
        },
        {
         "name": "High_Amount_For_Merchant",
         "rawType": "float64",
         "type": "float"
        },
        {
         "name": "Card_dow_avg_60",
         "rawType": "float64",
         "type": "float"
        },
        {
         "name": "merch_zip_total_3",
         "rawType": "float64",
         "type": "float"
        },
        {
         "name": "Card_Merchnum_Zip_total_amount_1_by_30",
         "rawType": "float64",
         "type": "float"
        },
        {
         "name": "Merchnum_desc_State_total_3",
         "rawType": "float64",
         "type": "float"
        },
        {
         "name": "Merchnum_desc_total_3",
         "rawType": "float64",
         "type": "float"
        },
        {
         "name": "card_merch_total_amount_1_by_30",
         "rawType": "float64",
         "type": "float"
        },
        {
         "name": "Card_Merchnum_State_total_amount_1_by_30",
         "rawType": "float64",
         "type": "float"
        },
        {
         "name": "card_zip_total_1",
         "rawType": "float64",
         "type": "float"
        },
        {
         "name": "state_des_total_1",
         "rawType": "float64",
         "type": "float"
        },
        {
         "name": "Merchdesc_Zip_total_1",
         "rawType": "float64",
         "type": "float"
        },
        {
         "name": "Cardnum_total_amount_0_by_14",
         "rawType": "float64",
         "type": "float"
        },
        {
         "name": "Merchnum_desc_Zip_total_3",
         "rawType": "float64",
         "type": "float"
        },
        {
         "name": "card_merch_total_1",
         "rawType": "float64",
         "type": "float"
        }
       ],
       "conversionMethod": "pd.DataFrame",
       "ref": "dafb08de-3dbb-4c6c-9e5c-fc2b3c89f4c8",
       "rows": [
        [
         "3515",
         "1551.02",
         "3.0",
         "7.0",
         "1964.73",
         "333.47",
         "1.0",
         "0.0006410256410256",
         "3.0",
         "3.0",
         "0.0012820512820512",
         "11.0",
         "3631.53",
         "3.0",
         "373.47",
         "0.0006944444444444",
         "4.0",
         "0.0013888888888888",
         "7.0",
         "930.41",
         "7.0",
         "0.0029761904761904",
         "0.0027472527472527",
         "0.0",
         "596.9399999999999",
         "333.47",
         "1.0",
         "1.0",
         "0.0059523809523809",
         "1.0",
         "1.0",
         "1.0",
         "3.0",
         "0.0194805194805194",
         "5.0",
         "0.2150004513159082",
         "373.47",
         "8.0",
         "8.0",
         "930.41",
         "1.0",
         "0.0019944444315855",
         "1.0",
         "7.0",
         "333.47",
         "12961.17",
         "0.0002136752136752",
         "3.0",
         "3.0",
         "19.0",
         "0.0012820512820512",
         "2.1367521367521368e-05",
         "30.0",
         "8.547008547008547e-05",
         "0.0025641025641025",
         "0.3584118829333305",
         "30.0",
         "333.47",
         "3.0",
         "39.0",
         "0.0004273504273504",
         "373.47",
         "3.0",
         "3.0",
         "3.0",
         "3.0",
         "596.9399999999999",
         "0.1697281560316176",
         "0.003988888863171",
         "0.0003924646781789",
         "0.0054945054945054",
         "0.0",
         "0.0009157509157509",
         "0.8928963504431413",
         "3.0",
         "3.0",
         "333.47",
         "19.0",
         "373.47",
         "983.66",
         "3.0",
         "3.0",
         "3.0",
         "0.0055555555555555",
         "9.25925925925926e-05",
         "0.0004288064529153",
         "0.0064935064935064",
         "30.0",
         "12961.17",
         "30.0",
         "1.0",
         "0.0",
         "0.0085476189925093",
         "0.0028352386831065",
         "0.3584118829333305",
         "0.0028352386831065",
         "0.0",
         "9.25925925925926e-05",
         "0.0055555555555555",
         "333.47",
         "0.0111111111111111",
         "0.0003703703703703",
         "0.0055555555555555",
         "9.25925925925926e-05",
         "3.0",
         "3.0",
         "333.47",
         "0.8928963504431413",
         "0.0008576129058307",
         "7.122507122507122e-06",
         "0.0004273504273504",
         "517.0066666666667",
         "19.0",
         "0.014881605840719",
         "39.0",
         "3.0",
         "3.0",
         "0.0055658627087198",
         "0.0389610389610389",
         "1.0",
         "650.1899999999999",
         "2.849002849002849e-05",
         "0.0008547008547008",
         "0.0918263101227306",
         "0.0028352386831065",
         "0.0028352386831065",
         "0.0028352386831065",
         "0.0003703703703703",
         "0.0111111111111111",
         "0.0055555555555555",
         "9.25925925925926e-05",
         "0.0055555555555555",
         "9.25925925925926e-05",
         "9.25925925925926e-05",
         "0.0055555555555555",
         "280.67571428571426",
         "124.49",
         "0.0",
         "30.0",
         "0.0056704773662131",
         "1.0",
         "3.0",
         "0.0011111111111111",
         "333.47",
         "124.49",
         "1593.38",
         "333.47",
         "183.53666666666663",
         "12961.17",
         "30.0",
         "0.0022222222222222",
         "124.49",
         "0.0056704773662131",
         "0.0022222222222222",
         "0.0095238095238095",
         "0.0095238095238095",
         "0.0047619047619047",
         "0.0047619047619047",
         "0.0022222222222222",
         "4.0",
         "0.0011111111111111",
         "0.0011111111111111",
         "1593.38",
         "4.0",
         "0.0095238095238095",
         "0.0022222222222222",
         "0.0047619047619047",
         "0.0047619047619047",
         "0.0022222222222222",
         "0.0095238095238095",
         "0.0011111111111111",
         "0.0011111111111111",
         "0.0095238095238095",
         "0.0022222222222222",
         "0.0095238095238095",
         "0.0047619047619047",
         "0.0022222222222222",
         "4.0",
         "0.0047619047619047",
         "0.0011111111111111",
         "0.0011111111111111",
         "0.0095238095238095",
         "4.0",
         "0.0047619047619047",
         "0.0095238095238095",
         "0.0047619047619047",
         "0.0022222222222222",
         "0.0022222222222222",
         "0.0011111111111111",
         "0.0011111111111111",
         "3.0",
         "3.0",
         "0.0111111111111111",
         "0.0003703703703703",
         "0.0047619047619047",
         "0.0095238095238095",
         "0.0047619047619047",
         "0.0095238095238095",
         "4.0",
         "0.0022222222222222",
         "0.0022222222222222",
         "0.0011111111111111",
         "0.0011111111111111",
         "0.0047619047619047",
         "0.0095238095238095",
         "0.0047619047619047",
         "4.0",
         "0.0095238095238095",
         "0.0022222222222222",
         "0.0022222222222222",
         "0.0011111111111111",
         "0.0011111111111111",
         "4.0",
         "0.0047619047619047",
         "0.0095238095238095",
         "0.0095238095238095",
         "0.0047619047619047",
         "0.0022222222222222",
         "0.0022222222222222",
         "0.0011111111111111",
         "0.0011111111111111",
         "333.47",
         "4.0",
         "0.0022222222222222",
         "0.0047619047619047",
         "0.0022222222222222",
         "0.0095238095238095",
         "0.0047619047619047",
         "0.0095238095238095",
         "0.0011111111111111",
         "0.0011111111111111",
         "0.0",
         "1960.27",
         "333.47",
         "1960.27",
         "1960.27",
         "1960.27",
         "1960.27",
         "333.47",
         "0.0011111111111111",
         "1960.27",
         "0.0028352386831065",
         "1960.27",
         "1960.27",
         "1960.27",
         "330.1390909090909",
         "0.0055555555555555",
         "9.25925925925926e-05",
         "1960.27",
         "1960.27",
         "0.0047619047619047",
         "1960.27",
         "1960.27",
         "1960.27",
         "1.0",
         "333.47",
         "1960.27",
         "333.47",
         "333.47",
         "1960.27",
         "1960.27",
         "333.47",
         "1960.27",
         "0.8928963504431413",
         "-208.98",
         "1960.27",
         "0.0610140314727637",
         "0.0017006802721088",
         "0.0238095238095238",
         "1960.27",
         "1960.27",
         "333.47",
         "333.47",
         "333.47",
         "0.029763211681438",
         "333.47",
         "1960.27",
         "1960.27",
         "1960.27",
         "983.66",
         "854.06",
         "333.47",
         "1960.27",
         "854.06",
         "1960.27",
         "854.06",
         "854.06",
         "0.0",
         "124.49",
         "854.06",
         "0.0056704773662131",
         "854.06",
         "854.06",
         "0.0056704773662131",
         "0.0056704773662131",
         "333.47",
         "333.47",
         "333.47",
         "0.0018377419410659",
         "854.06",
         "333.47"
        ],
        [
         "3516",
         "660.87",
         "2.0",
         "34.0",
         "834.91",
         "4.37",
         "1.0",
         "0.0001400560224089",
         "2.0",
         "2.0",
         "0.0002801120448179",
         "72.0",
         "997.73",
         "2.0",
         "109.97",
         "6.510416666666667e-05",
         "2.0",
         "0.0001302083333333",
         "2.0",
         "656.5",
         "3.0",
         "0.0002790178571428",
         "0.0006002400960384",
         "0.0",
         "652.13",
         "4.37",
         "1.0",
         "1.0",
         "0.0007142857142857",
         "1.0",
         "1.0",
         "1.0",
         "25.0",
         "0.0019841269841269",
         "2.0",
         "0.0066124956496739",
         "136.09",
         "2.0",
         "3.0",
         "656.5",
         "1.0",
         "0.0092830293631797",
         "1.0",
         "7.0",
         "15.4",
         "1186.52",
         "7.002801120448179e-05",
         "1.0",
         "1.0",
         "2.0",
         "0.0002801120448179",
         "4.668534080298786e-06",
         "2.0",
         "1.8674136321195144e-05",
         "0.0005602240896358",
         "0.0066565118050266",
         "3.0",
         "15.4",
         "32.0",
         "119.0",
         "0.0001400560224089",
         "136.09",
         "3.0",
         "3.0",
         "1.0",
         "1.0",
         "652.13",
         "0.0052340970883089",
         "0.0185660587263594",
         "8.574858514834505e-05",
         "0.0012004801920768",
         "11.03",
         "0.0003001200480192",
         "0.0397381103937437",
         "5.0",
         "5.0",
         "15.4",
         "2.0",
         "136.09",
         "656.5",
         "1.0",
         "1.0",
         "32.0",
         "0.0005208333333333",
         "8.680555555555556e-06",
         "6.13839912798211e-05",
         "0.0009920634920634",
         "2.0",
         "1186.52",
         "3.0",
         "0.2837662337662338",
         "11.03",
         "0.0397844115564845",
         "0.0001374161981308",
         "0.0066565118050266",
         "0.0001374161981308",
         "0.0",
         "2.3540489642184557e-06",
         "0.0001412429378531",
         "15.4",
         "0.0010416666666666",
         "3.472222222222222e-05",
         "0.0001412429378531",
         "2.3540489642184557e-06",
         "5.0",
         "5.0",
         "4.37",
         "0.0321111029465794",
         "0.0001227679825596",
         "2.334267040149393e-06",
         "0.0001400560224089",
         "330.435",
         "2.0",
         "0.0005351850491096",
         "119.0",
         "1.0",
         "1.0",
         "0.0005668934240362",
         "0.0039682539682539",
         "1.0",
         "652.13",
         "9.337068160597572e-06",
         "0.0002801120448179",
         "0.0043799424694055",
         "0.0001458942617149",
         "0.0001458942617149",
         "0.0001458942617149",
         "9.416195856873825e-06",
         "0.0002824858757062",
         "0.0001449275362318",
         "2.4154589371980677e-06",
         "0.0001449275362318",
         "2.4154589371980677e-06",
         "2.4154589371980677e-06",
         "0.0001449275362318",
         "24.55617647058823",
         "4.3988",
         "11.03",
         "2.0",
         "0.0002748323962617",
         "0.2837662337662338",
         "32.0",
         "4.7080979284369114e-05",
         "4.37",
         "4.2528125",
         "656.5",
         "178.41",
         "326.065",
         "1186.52",
         "3.0",
         "9.416195856873824e-05",
         "4.2528125",
         "0.0002748323962617",
         "0.0037037037037037",
         "0.0158730158730158",
         "0.0158730158730158",
         "0.0079365079365079",
         "0.0079365079365079",
         "0.0037037037037037",
         "2.0",
         "0.0018518518518518",
         "0.0018518518518518",
         "656.5",
         "2.0",
         "0.0158730158730158",
         "0.0037037037037037",
         "0.0079365079365079",
         "0.0079365079365079",
         "0.0037037037037037",
         "0.0158730158730158",
         "0.0018518518518518",
         "0.0018518518518518",
         "0.0158730158730158",
         "0.0037037037037037",
         "0.0158730158730158",
         "0.0079365079365079",
         "0.0037037037037037",
         "2.0",
         "0.0079365079365079",
         "0.0018518518518518",
         "0.0018518518518518",
         "0.0006706908115358",
         "2.0",
         "0.0002017756255044",
         "0.0006706908115358",
         "0.0002017756255044",
         "9.416195856873824e-05",
         "9.416195856873824e-05",
         "4.7080979284369114e-05",
         "4.7080979284369114e-05",
         "5.0",
         "5.0",
         "0.0002824858757062",
         "9.416195856873825e-06",
         "0.0002070393374741",
         "0.0006901311249137",
         "0.0002070393374741",
         "0.0006901311249137",
         "2.0",
         "9.66183574879227e-05",
         "9.66183574879227e-05",
         "4.830917874396135e-05",
         "4.830917874396135e-05",
         "0.0002070393374741",
         "0.0006901311249137",
         "0.0002070393374741",
         "2.0",
         "0.0006901311249137",
         "9.66183574879227e-05",
         "9.66183574879227e-05",
         "4.830917874396135e-05",
         "4.830917874396135e-05",
         "2.0",
         "0.0002070393374741",
         "0.0006901311249137",
         "0.0006901311249137",
         "0.0002070393374741",
         "9.66183574879227e-05",
         "9.66183574879227e-05",
         "4.830917874396135e-05",
         "4.830917874396135e-05",
         "4.37",
         "1475.0",
         "2.2583559168925024e-05",
         "4.8393341076267905e-05",
         "2.2583559168925024e-05",
         "9.67866821525358e-05",
         "4.8393341076267905e-05",
         "9.67866821525358e-05",
         "1.1291779584462512e-05",
         "1.1291779584462512e-05",
         "0.0",
         "341.23",
         "13.0",
         "21.17",
         "21.17",
         "21.17",
         "530.02",
         "4.37",
         "4.7080979284369114e-05",
         "4.37",
         "0.0001374161981308",
         "499.22",
         "499.22",
         "499.22",
         "13.85736111111111",
         "0.0001412429378531",
         "2.3540489642184557e-06",
         "530.02",
         "341.23",
         "0.0002017756255044",
         "21.17",
         "21.17",
         "21.17",
         "1.0",
         "178.41",
         "4.37",
         "17.37",
         "17.37",
         "324.43",
         "324.43",
         "17.37",
         "324.43",
         "0.0321111029465794",
         "0.0287999999999999",
         "530.02",
         "0.0946247982921231",
         "0.0001594387755102",
         "0.0022321428571428",
         "21.17",
         "21.17",
         "4.37",
         "165.41",
         "165.41",
         "0.0010703700982193",
         "165.41",
         "4.37",
         "499.22",
         "499.22",
         "15.4",
         "17.37",
         "4.37",
         "21.17",
         "17.37",
         "499.22",
         "740.84",
         "740.84",
         "0.0",
         "4.2528125",
         "740.84",
         "0.0002917885234298",
         "4.37",
         "4.37",
         "0.0002917885234298",
         "0.0002917885234298",
         "4.37",
         "4.37",
         "4.37",
         "0.000263074248342",
         "4.37",
         "4.37"
        ],
        [
         "3517",
         "2904.08",
         "7.0",
         "14.0",
         "8459.94",
         "271.93",
         "1.0",
         "0.0017676767676767",
         "4.0",
         "5.0",
         "0.0035353535353535",
         "17.0",
         "9674.14",
         "5.0",
         "271.93",
         "1.1291779584462512e-05",
         "6.0",
         "2.2583559168925024e-05",
         "12.0",
         "1380.45",
         "12.0",
         "4.8393341076267905e-05",
         "0.0075757575757575",
         "0.0",
         "1108.52",
         "271.93",
         "1.0",
         "1.0",
         "9.67866821525358e-05",
         "1.0",
         "1.0",
         "1.0",
         "1.0",
         "0.0294117647058823",
         "7.0",
         "0.0936372276245833",
         "271.93",
         "14.0",
         "14.0",
         "2472.0",
         "1.0",
         "0.0032695385574256",
         "1.0",
         "1475.0",
         "271.93",
         "14803.72",
         "0.0002525252525252",
         "1.0",
         "1.0",
         "10.0",
         "0.0035353535353535",
         "5.892255892255893e-05",
         "20.0",
         "0.0002356902356902",
         "0.007070707070707",
         "0.1969864899127096",
         "21.0",
         "271.93",
         "1.0",
         "33.0",
         "0.0005050505050505",
         "271.93",
         "1.0",
         "1.0",
         "1.0",
         "1.0",
         "2200.07",
         "0.0321432539710683",
         "0.0065390771148513",
         "0.001082251082251",
         "0.0151515151515151",
         "0.0",
         "0.001082251082251",
         "1.0",
         "1.0",
         "1.0",
         "271.93",
         "10.0",
         "271.93",
         "2472.0",
         "1.0",
         "1.0",
         "1.0",
         "0.0166666666666666",
         "0.0002777777777777",
         "0.000306150526129",
         "0.0042016806722689",
         "20.0",
         "14803.72",
         "21.0",
         "1.0",
         "0.0",
         "0.0140123081032528",
         "0.0036265478181239",
         "0.1100040453074433",
         "0.0042114221478585",
         "0.0",
         "8.333333333333333e-05",
         "0.005",
         "271.93",
         "0.0333333333333333",
         "0.0011111111111111",
         "0.0055555555555555",
         "9.25925925925926e-05",
         "1.0",
         "1.0",
         "271.93",
         "1.0",
         "0.000612301052258",
         "8.417508417508417e-06",
         "0.0005050505050505",
         "414.86857142857144",
         "10.0",
         "0.0166666666666666",
         "33.0",
         "1.0",
         "1.0",
         "0.0084033613445378",
         "0.0588235294117647",
         "1.0",
         "2200.07",
         "3.367003367003367e-05",
         "0.001010101010101",
         "0.0281089585224112",
         "0.0042114221478585",
         "0.0042114221478585",
         "0.0042114221478585",
         "0.0003333333333333",
         "0.01",
         "0.0055555555555555",
         "9.25925925925926e-05",
         "0.0055555555555555",
         "9.25925925925926e-05",
         "9.25925925925926e-05",
         "0.0055555555555555",
         "604.2814285714286",
         "271.93",
         "0.0",
         "20.0",
         "0.0072530956362478",
         "1.0",
         "1.0",
         "0.0025",
         "582.94",
         "271.93",
         "2472.0",
         "955.0",
         "142.9385714285714",
         "14803.72",
         "21.0",
         "0.005",
         "271.93",
         "0.008422844295717",
         "0.0018518518518518",
         "0.0238095238095238",
         "0.0714285714285714",
         "0.0039682539682539",
         "0.0119047619047619",
         "0.0055555555555555",
         "1.0",
         "0.0027777777777777",
         "0.0009259259259259",
         "2472.0",
         "1.0",
         "0.0238095238095238",
         "0.0055555555555555",
         "0.0039682539682539",
         "0.0119047619047619",
         "0.0018518518518518",
         "0.0714285714285714",
         "0.0009259259259259",
         "0.0027777777777777",
         "0.0238095238095238",
         "0.0055555555555555",
         "0.0714285714285714",
         "0.0119047619047619",
         "0.0018518518518518",
         "1.0",
         "0.0039682539682539",
         "0.0009259259259259",
         "0.0027777777777777",
         "0.0238095238095238",
         "1.0",
         "0.0119047619047619",
         "0.0714285714285714",
         "0.0039682539682539",
         "0.0055555555555555",
         "0.0018518518518518",
         "0.0027777777777777",
         "0.0009259259259259",
         "1.0",
         "1.0",
         "0.0111111111111111",
         "0.0003703703703703",
         "0.0039682539682539",
         "0.0714285714285714",
         "0.0119047619047619",
         "0.0238095238095238",
         "1.0",
         "0.0018518518518518",
         "0.0055555555555555",
         "0.0027777777777777",
         "0.0009259259259259",
         "0.0039682539682539",
         "0.0238095238095238",
         "0.0119047619047619",
         "1.0",
         "0.0714285714285714",
         "0.0018518518518518",
         "0.0055555555555555",
         "0.0027777777777777",
         "0.0009259259259259",
         "1.0",
         "0.0039682539682539",
         "0.0714285714285714",
         "0.0238095238095238",
         "0.0119047619047619",
         "0.0018518518518518",
         "0.0055555555555555",
         "0.0009259259259259",
         "0.0027777777777777",
         "271.93",
         "1.0",
         "0.0055555555555555",
         "0.0119047619047619",
         "0.0018518518518518",
         "0.0714285714285714",
         "0.0039682539682539",
         "0.0238095238095238",
         "0.0027777777777777",
         "0.0009259259259259",
         "0.0",
         "955.0",
         "372.06",
         "2306.98",
         "2306.98",
         "2306.98",
         "2306.98",
         "278.73",
         "0.0008333333333333",
         "2306.98",
         "0.0019645452785315",
         "2306.98",
         "2306.98",
         "2306.98",
         "569.0670588235295",
         "0.0018518518518518",
         "3.08641975308642e-05",
         "2679.04",
         "582.94",
         "0.0107142857142857",
         "582.94",
         "582.94",
         "582.94",
         "1.0",
         "582.94",
         "582.94",
         "582.94",
         "582.94",
         "582.94",
         "582.94",
         "582.94",
         "582.94",
         "1.0",
         "0.0",
         "2306.98",
         "0.0428842844354714",
         "0.0051020408163265",
         "0.0714285714285714",
         "2306.98",
         "2306.98",
         "582.94",
         "582.94",
         "582.94",
         "0.0333333333333333",
         "582.94",
         "2306.98",
         "2306.98",
         "2306.98",
         "372.06",
         "582.94",
         "271.93",
         "2306.98",
         "582.94",
         "2306.98",
         "582.94",
         "582.94",
         "0.0",
         "271.93",
         "582.94",
         "0.008422844295717",
         "582.94",
         "582.94",
         "0.008422844295717",
         "0.008422844295717",
         "582.94",
         "582.94",
         "582.94",
         "0.00131207368341",
         "582.94",
         "582.94"
        ],
        [
         "3518",
         "664.49",
         "3.0",
         "35.0",
         "838.53",
         "7.99",
         "2.0",
         "0.0004166666666666",
         "2.0",
         "2.0",
         "0.0008333333333333",
         "73.0",
         "1001.35",
         "2.0",
         "113.59",
         "0.001010101010101",
         "2.0",
         "0.002020202020202",
         "2.0",
         "656.5",
         "3.0",
         "0.0043290043290043",
         "0.0017857142857142",
         "0.75",
         "652.88",
         "4.37",
         "1.0",
         "1.0",
         "0.0109890109890109",
         "0.4530663329161452",
         "1.0",
         "1.0",
         "26.0",
         "0.0058708414872798",
         "2.0",
         "0.0054477870246354",
         "139.71",
         "2.0",
         "3.0",
         "656.5",
         "0.8283752860411899",
         "0.0093054878697744",
         "0.0",
         "0.0",
         "15.4",
         "1190.14",
         "0.0002777777777777",
         "1.0",
         "1.0",
         "2.0",
         "0.0004166666666666",
         "6.944444444444445e-06",
         "2.0",
         "2.777777777777778e-05",
         "0.0008333333333333",
         "0.0055140898705255",
         "3.0",
         "15.4",
         "33.0",
         "120.0",
         "0.0005555555555555",
         "139.71",
         "3.0",
         "3.0",
         "1.0",
         "1.0",
         "652.88",
         "0.0043170786972439",
         "0.0186109757395488",
         "0.0001275510204081",
         "0.0017857142857142",
         "11.78",
         "0.0011904761904761",
         "0.0318690025530416",
         "5.0",
         "5.0",
         "15.4",
         "2.0",
         "139.71",
         "656.5",
         "1.0",
         "1.0",
         "33.0",
         "0.001010101010101",
         "1.6835016835016834e-05",
         "0.0001118915981873",
         "0.0039138943248532",
         "2.0",
         "1190.14",
         "3.0",
         "0.235064935064935",
         "11.78",
         "0.0398806622990332",
         "0.0002495440121929",
         "0.0055140898705255",
         "0.0002495440121929",
         "0.375",
         "4.668534080298786e-06",
         "0.0002801120448179",
         "15.4",
         "0.002020202020202",
         "6.734006734006734e-05",
         "0.0002801120448179",
         "4.668534080298786e-06",
         "5.0",
         "5.0",
         "3.995",
         "0.0259108152601818",
         "0.0002237831963746",
         "4.6296296296296296e-06",
         "0.0002777777777777",
         "221.49666666666667",
         "2.0",
         "0.0009531648891751",
         "120.0",
         "1.0",
         "1.0",
         "0.0008386916410399",
         "0.0058708414872798",
         "0.9061326658322904",
         "652.88",
         "1.851851851851852e-05",
         "0.0005555555555555",
         "0.0036151195885554",
         "0.0002648291040224",
         "0.0002648291040224",
         "0.0002648291040224",
         "1.8674136321195144e-05",
         "0.0005602240896358",
         "0.000287356321839",
         "4.789272030651341e-06",
         "0.000287356321839",
         "4.789272030651341e-06",
         "4.789272030651341e-06",
         "0.000287356321839",
         "23.958",
         "4.368846153846154",
         "11.78",
         "2.0",
         "0.0004990880243859",
         "0.235064935064935",
         "33.0",
         "0.0002801120448179",
         "7.99",
         "4.233636363636364",
         "656.5",
         "182.03",
         "217.8766666666667",
         "1190.14",
         "3.0",
         "0.0005602240896358",
         "4.233636363636364",
         "0.0004990880243859",
         "0.0166666666666666",
         "0.0714285714285714",
         "0.0714285714285714",
         "0.0357142857142857",
         "0.0357142857142857",
         "0.0166666666666666",
         "0.0",
         "0.0083333333333333",
         "0.0083333333333333",
         "656.5",
         "0.0",
         "0.0714285714285714",
         "0.0166666666666666",
         "0.0357142857142857",
         "0.0357142857142857",
         "0.0166666666666666",
         "0.0714285714285714",
         "0.0083333333333333",
         "0.0083333333333333",
         "0.0714285714285714",
         "0.0166666666666666",
         "0.0714285714285714",
         "0.0357142857142857",
         "0.0166666666666666",
         "0.0",
         "0.0357142857142857",
         "0.0083333333333333",
         "0.0083333333333333",
         "0.0039682539682539",
         "0.0",
         "0.0012004801920768",
         "0.0039682539682539",
         "0.0012004801920768",
         "0.0005602240896358",
         "0.0005602240896358",
         "0.0002801120448179",
         "0.0002801120448179",
         "5.0",
         "5.0",
         "0.0005602240896358",
         "1.8674136321195144e-05",
         "0.001231527093596",
         "0.0040816326530612",
         "0.001231527093596",
         "0.0040816326530612",
         "0.0",
         "0.0005747126436781",
         "0.0005747126436781",
         "0.000287356321839",
         "0.000287356321839",
         "0.001231527093596",
         "0.0040816326530612",
         "0.001231527093596",
         "0.0",
         "0.0040816326530612",
         "0.0005747126436781",
         "0.0005747126436781",
         "0.000287356321839",
         "0.000287356321839",
         "0.0",
         "0.001231527093596",
         "0.0040816326530612",
         "0.0040816326530612",
         "0.001231527093596",
         "0.0005747126436781",
         "0.0005747126436781",
         "0.000287356321839",
         "0.000287356321839",
         "7.99",
         "0.0",
         "0.0333333333333333",
         "0.0714285714285714",
         "0.0333333333333333",
         "0.1428571428571428",
         "0.0714285714285714",
         "0.1428571428571428",
         "0.0166666666666666",
         "0.0166666666666666",
         "0.375",
         "344.85",
         "13.0",
         "24.79",
         "24.79",
         "24.79",
         "533.64",
         "4.37",
         "0.0002801120448179",
         "7.99",
         "0.0002495440121929",
         "502.84",
         "502.84",
         "502.84",
         "13.717123287671232",
         "0.0002801120448179",
         "4.668534080298786e-06",
         "533.64",
         "344.85",
         "0.0012004801920768",
         "24.79",
         "24.79",
         "24.79",
         "0.9061326658322904",
         "182.03",
         "7.99",
         "20.99",
         "20.99",
         "328.05",
         "328.05",
         "20.99",
         "328.05",
         "0.0259108152601818",
         "0.7488461538461538",
         "533.64",
         "0.094799163985762",
         "0.0003092145949288",
         "0.0043290043290043",
         "24.79",
         "24.79",
         "7.99",
         "169.03",
         "169.03",
         "0.0019063297783503",
         "169.03",
         "7.99",
         "502.84",
         "502.84",
         "15.4",
         "20.99",
         "4.37",
         "24.79",
         "20.99",
         "502.84",
         "744.46",
         "744.46",
         "0.0",
         "4.233636363636364",
         "744.46",
         "0.0005296582080449",
         "7.99",
         "7.99",
         "0.0005296582080449",
         "0.0005296582080449",
         "7.99",
         "7.99",
         "7.99",
         "0.0004795354208028",
         "7.99",
         "7.99"
        ],
        [
         "3519",
         "16.28",
         "1.0",
         "1.0",
         "16.28",
         "16.28",
         "1.0",
         "1.1291779584462512e-05",
         "1.0",
         "1.0",
         "2.2583559168925024e-05",
         "1.0",
         "16.28",
         "1.0",
         "16.28",
         "1.1291779584462512e-05",
         "1.0",
         "2.2583559168925024e-05",
         "1.0",
         "16.28",
         "1.0",
         "4.8393341076267905e-05",
         "4.8393341076267905e-05",
         "0.0",
         "0.0",
         "16.28",
         "1.0",
         "1.0",
         "9.67866821525358e-05",
         "1.0",
         "1.0",
         "1.0",
         "1.0",
         "9.67866821525358e-05",
         "1.0",
         "1.0",
         "16.28",
         "1.0",
         "1.0",
         "16.28",
         "1.0",
         "0.0166666666666666",
         "1475.0",
         "1475.0",
         "16.28",
         "16.28",
         "1.1291779584462512e-05",
         "1.0",
         "1.0",
         "1.0",
         "0.0166666666666666",
         "0.0002777777777777",
         "1.0",
         "0.0011111111111111",
         "0.0333333333333333",
         "1.0",
         "1.0",
         "16.28",
         "1.0",
         "1.0",
         "2.2583559168925024e-05",
         "16.28",
         "1.0",
         "1.0",
         "1.0",
         "1.0",
         "0.0",
         "1.0",
         "0.0333333333333333",
         "0.0051020408163265",
         "0.0714285714285714",
         "0.0",
         "4.8393341076267905e-05",
         "1.0",
         "1.0",
         "1.0",
         "16.28",
         "1.0",
         "16.28",
         "16.28",
         "1.0",
         "1.0",
         "1.0",
         "0.0166666666666666",
         "0.0002777777777777",
         "0.0166666666666666",
         "9.67866821525358e-05",
         "1.0",
         "16.28",
         "1.0",
         "1.0",
         "0.0",
         "0.0714285714285714",
         "0.0166666666666666",
         "1.0",
         "0.0166666666666666",
         "0.0",
         "0.0002777777777777",
         "0.0166666666666666",
         "16.28",
         "0.0333333333333333",
         "0.0011111111111111",
         "0.0166666666666666",
         "0.0002777777777777",
         "1.0",
         "1.0",
         "16.28",
         "1.0",
         "0.0333333333333333",
         "0.0002777777777777",
         "0.0166666666666666",
         "16.28",
         "1.0",
         "0.0166666666666666",
         "1.0",
         "1.0",
         "1.0",
         "0.0204081632653061",
         "0.1428571428571428",
         "1.0",
         "0.0",
         "0.0011111111111111",
         "0.0333333333333333",
         "1.0",
         "0.0166666666666666",
         "0.0166666666666666",
         "0.0166666666666666",
         "0.0011111111111111",
         "0.0333333333333333",
         "0.0166666666666666",
         "0.0002777777777777",
         "0.0166666666666666",
         "0.0002777777777777",
         "0.0002777777777777",
         "0.0166666666666666",
         "16.28",
         "16.28",
         "0.0",
         "1.0",
         "0.0333333333333333",
         "1.0",
         "1.0",
         "1.1291779584462512e-05",
         "16.28",
         "16.28",
         "16.28",
         "16.28",
         "0.0",
         "16.28",
         "1.0",
         "2.2583559168925024e-05",
         "16.28",
         "0.0333333333333333",
         "2.2583559168925024e-05",
         "9.67866821525358e-05",
         "9.67866821525358e-05",
         "4.8393341076267905e-05",
         "4.8393341076267905e-05",
         "2.2583559168925024e-05",
         "1475.0",
         "1.1291779584462512e-05",
         "1.1291779584462512e-05",
         "16.28",
         "1475.0",
         "9.67866821525358e-05",
         "2.2583559168925024e-05",
         "4.8393341076267905e-05",
         "4.8393341076267905e-05",
         "2.2583559168925024e-05",
         "9.67866821525358e-05",
         "1.1291779584462512e-05",
         "1.1291779584462512e-05",
         "9.67866821525358e-05",
         "2.2583559168925024e-05",
         "9.67866821525358e-05",
         "4.8393341076267905e-05",
         "2.2583559168925024e-05",
         "1475.0",
         "4.8393341076267905e-05",
         "1.1291779584462512e-05",
         "1.1291779584462512e-05",
         "9.67866821525358e-05",
         "1475.0",
         "4.8393341076267905e-05",
         "9.67866821525358e-05",
         "4.8393341076267905e-05",
         "2.2583559168925024e-05",
         "2.2583559168925024e-05",
         "1.1291779584462512e-05",
         "1.1291779584462512e-05",
         "1.0",
         "1.0",
         "0.0333333333333333",
         "0.0011111111111111",
         "4.8393341076267905e-05",
         "9.67866821525358e-05",
         "4.8393341076267905e-05",
         "9.67866821525358e-05",
         "1475.0",
         "2.2583559168925024e-05",
         "2.2583559168925024e-05",
         "1.1291779584462512e-05",
         "1.1291779584462512e-05",
         "4.8393341076267905e-05",
         "9.67866821525358e-05",
         "4.8393341076267905e-05",
         "1475.0",
         "9.67866821525358e-05",
         "2.2583559168925024e-05",
         "2.2583559168925024e-05",
         "1.1291779584462512e-05",
         "1.1291779584462512e-05",
         "1475.0",
         "4.8393341076267905e-05",
         "9.67866821525358e-05",
         "9.67866821525358e-05",
         "4.8393341076267905e-05",
         "2.2583559168925024e-05",
         "2.2583559168925024e-05",
         "1.1291779584462512e-05",
         "1.1291779584462512e-05",
         "16.28",
         "1475.0",
         "2.2583559168925024e-05",
         "4.8393341076267905e-05",
         "2.2583559168925024e-05",
         "9.67866821525358e-05",
         "4.8393341076267905e-05",
         "9.67866821525358e-05",
         "1.1291779584462512e-05",
         "1.1291779584462512e-05",
         "0.0",
         "16.28",
         "16.28",
         "16.28",
         "16.28",
         "16.28",
         "16.28",
         "16.28",
         "1.1291779584462512e-05",
         "16.28",
         "0.0166666666666666",
         "16.28",
         "16.28",
         "16.28",
         "16.28",
         "0.0166666666666666",
         "0.0002777777777777",
         "16.28",
         "16.28",
         "4.8393341076267905e-05",
         "16.28",
         "16.28",
         "16.28",
         "1.0",
         "16.28",
         "16.28",
         "16.28",
         "16.28",
         "16.28",
         "16.28",
         "16.28",
         "16.28",
         "1.0",
         "0.0",
         "16.28",
         "0.1428571428571428",
         "0.0051020408163265",
         "0.0714285714285714",
         "16.28",
         "16.28",
         "16.28",
         "16.28",
         "16.28",
         "0.0333333333333333",
         "16.28",
         "16.28",
         "16.28",
         "16.28",
         "16.28",
         "130.15",
         "16.28",
         "16.28",
         "130.15",
         "16.28",
         "130.15",
         "130.15",
         "0.0",
         "16.28",
         "130.15",
         "0.0333333333333333",
         "130.15",
         "130.15",
         "0.0333333333333333",
         "0.0333333333333333",
         "16.28",
         "16.28",
         "16.28",
         "0.0714285714285714",
         "130.15",
         "16.28"
        ]
       ],
       "shape": {
        "columns": 300,
        "rows": 5
       }
      },
      "text/html": [
       "<div>\n",
       "<style scoped>\n",
       "    .dataframe tbody tr th:only-of-type {\n",
       "        vertical-align: middle;\n",
       "    }\n",
       "\n",
       "    .dataframe tbody tr th {\n",
       "        vertical-align: top;\n",
       "    }\n",
       "\n",
       "    .dataframe thead th {\n",
       "        text-align: right;\n",
       "    }\n",
       "</style>\n",
       "<table border=\"1\" class=\"dataframe\">\n",
       "  <thead>\n",
       "    <tr style=\"text-align: right;\">\n",
       "      <th></th>\n",
       "      <th>Cardnum_total_1</th>\n",
       "      <th>Cardnum_count_1</th>\n",
       "      <th>Cardnum_count_3</th>\n",
       "      <th>Cardnum_total_3</th>\n",
       "      <th>Cardnum_total_0</th>\n",
       "      <th>Cardnum_count_0</th>\n",
       "      <th>Cardnum_vdratio_1by60</th>\n",
       "      <th>Cardnum_unique_count_for_card_state_1</th>\n",
       "      <th>Cardnum_unique_count_for_card_zip_1</th>\n",
       "      <th>Cardnum_vdratio_1by30</th>\n",
       "      <th>...</th>\n",
       "      <th>Merchnum_desc_State_total_3</th>\n",
       "      <th>Merchnum_desc_total_3</th>\n",
       "      <th>card_merch_total_amount_1_by_30</th>\n",
       "      <th>Card_Merchnum_State_total_amount_1_by_30</th>\n",
       "      <th>card_zip_total_1</th>\n",
       "      <th>state_des_total_1</th>\n",
       "      <th>Merchdesc_Zip_total_1</th>\n",
       "      <th>Cardnum_total_amount_0_by_14</th>\n",
       "      <th>Merchnum_desc_Zip_total_3</th>\n",
       "      <th>card_merch_total_1</th>\n",
       "    </tr>\n",
       "    <tr>\n",
       "      <th>Recnum</th>\n",
       "      <th></th>\n",
       "      <th></th>\n",
       "      <th></th>\n",
       "      <th></th>\n",
       "      <th></th>\n",
       "      <th></th>\n",
       "      <th></th>\n",
       "      <th></th>\n",
       "      <th></th>\n",
       "      <th></th>\n",
       "      <th></th>\n",
       "      <th></th>\n",
       "      <th></th>\n",
       "      <th></th>\n",
       "      <th></th>\n",
       "      <th></th>\n",
       "      <th></th>\n",
       "      <th></th>\n",
       "      <th></th>\n",
       "      <th></th>\n",
       "      <th></th>\n",
       "    </tr>\n",
       "  </thead>\n",
       "  <tbody>\n",
       "    <tr>\n",
       "      <th>3515</th>\n",
       "      <td>1551.02</td>\n",
       "      <td>3.0</td>\n",
       "      <td>7.0</td>\n",
       "      <td>1964.73</td>\n",
       "      <td>333.47</td>\n",
       "      <td>1.0</td>\n",
       "      <td>0.000641</td>\n",
       "      <td>3.0</td>\n",
       "      <td>3.0</td>\n",
       "      <td>0.001282</td>\n",
       "      <td>...</td>\n",
       "      <td>854.06</td>\n",
       "      <td>854.06</td>\n",
       "      <td>0.005670</td>\n",
       "      <td>0.005670</td>\n",
       "      <td>333.47</td>\n",
       "      <td>333.47</td>\n",
       "      <td>333.47</td>\n",
       "      <td>0.001838</td>\n",
       "      <td>854.06</td>\n",
       "      <td>333.47</td>\n",
       "    </tr>\n",
       "    <tr>\n",
       "      <th>3516</th>\n",
       "      <td>660.87</td>\n",
       "      <td>2.0</td>\n",
       "      <td>34.0</td>\n",
       "      <td>834.91</td>\n",
       "      <td>4.37</td>\n",
       "      <td>1.0</td>\n",
       "      <td>0.000140</td>\n",
       "      <td>2.0</td>\n",
       "      <td>2.0</td>\n",
       "      <td>0.000280</td>\n",
       "      <td>...</td>\n",
       "      <td>4.37</td>\n",
       "      <td>4.37</td>\n",
       "      <td>0.000292</td>\n",
       "      <td>0.000292</td>\n",
       "      <td>4.37</td>\n",
       "      <td>4.37</td>\n",
       "      <td>4.37</td>\n",
       "      <td>0.000263</td>\n",
       "      <td>4.37</td>\n",
       "      <td>4.37</td>\n",
       "    </tr>\n",
       "    <tr>\n",
       "      <th>3517</th>\n",
       "      <td>2904.08</td>\n",
       "      <td>7.0</td>\n",
       "      <td>14.0</td>\n",
       "      <td>8459.94</td>\n",
       "      <td>271.93</td>\n",
       "      <td>1.0</td>\n",
       "      <td>0.001768</td>\n",
       "      <td>4.0</td>\n",
       "      <td>5.0</td>\n",
       "      <td>0.003535</td>\n",
       "      <td>...</td>\n",
       "      <td>582.94</td>\n",
       "      <td>582.94</td>\n",
       "      <td>0.008423</td>\n",
       "      <td>0.008423</td>\n",
       "      <td>582.94</td>\n",
       "      <td>582.94</td>\n",
       "      <td>582.94</td>\n",
       "      <td>0.001312</td>\n",
       "      <td>582.94</td>\n",
       "      <td>582.94</td>\n",
       "    </tr>\n",
       "    <tr>\n",
       "      <th>3518</th>\n",
       "      <td>664.49</td>\n",
       "      <td>3.0</td>\n",
       "      <td>35.0</td>\n",
       "      <td>838.53</td>\n",
       "      <td>7.99</td>\n",
       "      <td>2.0</td>\n",
       "      <td>0.000417</td>\n",
       "      <td>2.0</td>\n",
       "      <td>2.0</td>\n",
       "      <td>0.000833</td>\n",
       "      <td>...</td>\n",
       "      <td>7.99</td>\n",
       "      <td>7.99</td>\n",
       "      <td>0.000530</td>\n",
       "      <td>0.000530</td>\n",
       "      <td>7.99</td>\n",
       "      <td>7.99</td>\n",
       "      <td>7.99</td>\n",
       "      <td>0.000480</td>\n",
       "      <td>7.99</td>\n",
       "      <td>7.99</td>\n",
       "    </tr>\n",
       "    <tr>\n",
       "      <th>3519</th>\n",
       "      <td>16.28</td>\n",
       "      <td>1.0</td>\n",
       "      <td>1.0</td>\n",
       "      <td>16.28</td>\n",
       "      <td>16.28</td>\n",
       "      <td>1.0</td>\n",
       "      <td>0.000011</td>\n",
       "      <td>1.0</td>\n",
       "      <td>1.0</td>\n",
       "      <td>0.000023</td>\n",
       "      <td>...</td>\n",
       "      <td>130.15</td>\n",
       "      <td>130.15</td>\n",
       "      <td>0.033333</td>\n",
       "      <td>0.033333</td>\n",
       "      <td>16.28</td>\n",
       "      <td>16.28</td>\n",
       "      <td>16.28</td>\n",
       "      <td>0.071429</td>\n",
       "      <td>130.15</td>\n",
       "      <td>16.28</td>\n",
       "    </tr>\n",
       "  </tbody>\n",
       "</table>\n",
       "<p>5 rows × 300 columns</p>\n",
       "</div>"
      ],
      "text/plain": [
       "        Cardnum_total_1  Cardnum_count_1  Cardnum_count_3  Cardnum_total_3  \\\n",
       "Recnum                                                                       \n",
       "3515            1551.02              3.0              7.0          1964.73   \n",
       "3516             660.87              2.0             34.0           834.91   \n",
       "3517            2904.08              7.0             14.0          8459.94   \n",
       "3518             664.49              3.0             35.0           838.53   \n",
       "3519              16.28              1.0              1.0            16.28   \n",
       "\n",
       "        Cardnum_total_0  Cardnum_count_0  Cardnum_vdratio_1by60  \\\n",
       "Recnum                                                            \n",
       "3515             333.47              1.0               0.000641   \n",
       "3516               4.37              1.0               0.000140   \n",
       "3517             271.93              1.0               0.001768   \n",
       "3518               7.99              2.0               0.000417   \n",
       "3519              16.28              1.0               0.000011   \n",
       "\n",
       "        Cardnum_unique_count_for_card_state_1  \\\n",
       "Recnum                                          \n",
       "3515                                      3.0   \n",
       "3516                                      2.0   \n",
       "3517                                      4.0   \n",
       "3518                                      2.0   \n",
       "3519                                      1.0   \n",
       "\n",
       "        Cardnum_unique_count_for_card_zip_1  Cardnum_vdratio_1by30  ...  \\\n",
       "Recnum                                                              ...   \n",
       "3515                                    3.0               0.001282  ...   \n",
       "3516                                    2.0               0.000280  ...   \n",
       "3517                                    5.0               0.003535  ...   \n",
       "3518                                    2.0               0.000833  ...   \n",
       "3519                                    1.0               0.000023  ...   \n",
       "\n",
       "        Merchnum_desc_State_total_3  Merchnum_desc_total_3  \\\n",
       "Recnum                                                       \n",
       "3515                         854.06                 854.06   \n",
       "3516                           4.37                   4.37   \n",
       "3517                         582.94                 582.94   \n",
       "3518                           7.99                   7.99   \n",
       "3519                         130.15                 130.15   \n",
       "\n",
       "        card_merch_total_amount_1_by_30  \\\n",
       "Recnum                                    \n",
       "3515                           0.005670   \n",
       "3516                           0.000292   \n",
       "3517                           0.008423   \n",
       "3518                           0.000530   \n",
       "3519                           0.033333   \n",
       "\n",
       "        Card_Merchnum_State_total_amount_1_by_30  card_zip_total_1  \\\n",
       "Recnum                                                               \n",
       "3515                                    0.005670            333.47   \n",
       "3516                                    0.000292              4.37   \n",
       "3517                                    0.008423            582.94   \n",
       "3518                                    0.000530              7.99   \n",
       "3519                                    0.033333             16.28   \n",
       "\n",
       "        state_des_total_1  Merchdesc_Zip_total_1  \\\n",
       "Recnum                                             \n",
       "3515               333.47                 333.47   \n",
       "3516                 4.37                   4.37   \n",
       "3517               582.94                 582.94   \n",
       "3518                 7.99                   7.99   \n",
       "3519                16.28                  16.28   \n",
       "\n",
       "        Cardnum_total_amount_0_by_14  Merchnum_desc_Zip_total_3  \\\n",
       "Recnum                                                            \n",
       "3515                        0.001838                     854.06   \n",
       "3516                        0.000263                       4.37   \n",
       "3517                        0.001312                     582.94   \n",
       "3518                        0.000480                       7.99   \n",
       "3519                        0.071429                     130.15   \n",
       "\n",
       "        card_merch_total_1  \n",
       "Recnum                      \n",
       "3515                333.47  \n",
       "3516                  4.37  \n",
       "3517                582.94  \n",
       "3518                  7.99  \n",
       "3519                 16.28  \n",
       "\n",
       "[5 rows x 300 columns]"
      ]
     },
     "execution_count": 11,
     "metadata": {},
     "output_type": "execute_result"
    }
   ],
   "source": [
    "vars_keep_df = pd.DataFrame({'col':vars_keep})\n",
    "vars_keep_df.to_csv('features/vars_keep_filter.csv',index=False)\n",
    "df_keep = df_top.filter(vars_keep, axis=1)\n",
    "df_keep.head()"
   ]
  },
  {
   "cell_type": "code",
   "execution_count": 12,
   "metadata": {},
   "outputs": [
    {
     "data": {
      "text/plain": [
       "(81893, 300)"
      ]
     },
     "execution_count": 12,
     "metadata": {},
     "output_type": "execute_result"
    }
   ],
   "source": [
    "df_keep.shape"
   ]
  },
  {
   "cell_type": "code",
   "execution_count": 13,
   "metadata": {},
   "outputs": [
    {
     "data": {
      "application/vnd.microsoft.datawrangler.viewer.v0+json": {
       "columns": [
        {
         "name": "Recnum",
         "rawType": "int64",
         "type": "integer"
        },
        {
         "name": "Fraud",
         "rawType": "float64",
         "type": "float"
        }
       ],
       "conversionMethod": "pd.DataFrame",
       "ref": "7fddfcdc-fc6a-4437-8042-8a64391b3bd5",
       "rows": [
        [
         "3515",
         "0.0"
        ],
        [
         "3516",
         "0.0"
        ],
        [
         "3517",
         "0.0"
        ],
        [
         "3518",
         "0.0"
        ],
        [
         "3519",
         "0.0"
        ]
       ],
       "shape": {
        "columns": 1,
        "rows": 5
       }
      },
      "text/html": [
       "<div>\n",
       "<style scoped>\n",
       "    .dataframe tbody tr th:only-of-type {\n",
       "        vertical-align: middle;\n",
       "    }\n",
       "\n",
       "    .dataframe tbody tr th {\n",
       "        vertical-align: top;\n",
       "    }\n",
       "\n",
       "    .dataframe thead th {\n",
       "        text-align: right;\n",
       "    }\n",
       "</style>\n",
       "<table border=\"1\" class=\"dataframe\">\n",
       "  <thead>\n",
       "    <tr style=\"text-align: right;\">\n",
       "      <th></th>\n",
       "      <th>Fraud</th>\n",
       "    </tr>\n",
       "    <tr>\n",
       "      <th>Recnum</th>\n",
       "      <th></th>\n",
       "    </tr>\n",
       "  </thead>\n",
       "  <tbody>\n",
       "    <tr>\n",
       "      <th>3515</th>\n",
       "      <td>0.0</td>\n",
       "    </tr>\n",
       "    <tr>\n",
       "      <th>3516</th>\n",
       "      <td>0.0</td>\n",
       "    </tr>\n",
       "    <tr>\n",
       "      <th>3517</th>\n",
       "      <td>0.0</td>\n",
       "    </tr>\n",
       "    <tr>\n",
       "      <th>3518</th>\n",
       "      <td>0.0</td>\n",
       "    </tr>\n",
       "    <tr>\n",
       "      <th>3519</th>\n",
       "      <td>0.0</td>\n",
       "    </tr>\n",
       "  </tbody>\n",
       "</table>\n",
       "</div>"
      ],
      "text/plain": [
       "        Fraud\n",
       "Recnum       \n",
       "3515      0.0\n",
       "3516      0.0\n",
       "3517      0.0\n",
       "3518      0.0\n",
       "3519      0.0"
      ]
     },
     "execution_count": 13,
     "metadata": {},
     "output_type": "execute_result"
    }
   ],
   "source": [
    "Y.head()"
   ]
  },
  {
   "cell_type": "code",
   "execution_count": 14,
   "metadata": {},
   "outputs": [],
   "source": [
    "Y = Y.values.ravel()\n",
    "Y_save = Y.copy()"
   ]
  },
  {
   "cell_type": "code",
   "execution_count": 15,
   "metadata": {},
   "outputs": [
    {
     "name": "stdout",
     "output_type": "stream",
     "text": [
      "[0. 0. 0. ... 0. 0. 0.]\n"
     ]
    }
   ],
   "source": [
    "# Y = np.array(Y)\n",
    "X = df_keep\n",
    "print(Y)"
   ]
  },
  {
   "cell_type": "code",
   "execution_count": 16,
   "metadata": {},
   "outputs": [
    {
     "name": "stdout",
     "output_type": "stream",
     "text": [
      "time to here: 0:00:51.570466\n"
     ]
    }
   ],
   "source": [
    "print('time to here:', dt.datetime.now() - start_time)"
   ]
  },
  {
   "cell_type": "code",
   "execution_count": 17,
   "metadata": {},
   "outputs": [
    {
     "name": "stdout",
     "output_type": "stream",
     "text": [
      "(81893, 300) (81893,)\n"
     ]
    }
   ],
   "source": [
    "print(X.shape,Y.shape)"
   ]
  },
  {
   "cell_type": "code",
   "execution_count": 18,
   "metadata": {},
   "outputs": [
    {
     "name": "stdout",
     "output_type": "stream",
     "text": [
      "<class 'pandas.core.frame.DataFrame'> <class 'numpy.ndarray'>\n"
     ]
    }
   ],
   "source": [
    "print(type(X),type(Y))"
   ]
  },
  {
   "cell_type": "code",
   "execution_count": 19,
   "metadata": {},
   "outputs": [],
   "source": [
    "# I'd like to define a scoring for the wrapper that's KS, but I haven't gotten around to this yet.\n",
    "# def KSscore(classifier, x,y)"
   ]
  },
  {
   "cell_type": "code",
   "execution_count": 20,
   "metadata": {},
   "outputs": [],
   "source": [
    "def fdr(classifier, x, y, cutoff=0.03):\n",
    "    # Calculates FDR score for the given classifier on dataset x and y with cutoff value\n",
    "    return fdr_prob(y, classifier.predict_proba(x), cutoff)\n",
    "\n",
    "def fdr_prob(y, y_prob, cutoff=0.03):\n",
    "    if len(y_prob.shape) > 1:  # Check if y_prob is multi-dimensional\n",
    "        y_prob = y_prob[:, -1]  # Use the last column if it's for the positive class\n",
    "    y_prob = y_prob.flatten()  # Ensure y_prob is 1D\n",
    "    num_fraud = np.sum(y == 1)  # Count the total number of frauds\n",
    "\n",
    "    # Sort the proba list from high to low while retaining the true (not predicted) fraud label\n",
    "    sorted_prob = np.array(sorted(zip(y_prob, y), key=lambda x: x[0], reverse=True))\n",
    "    cutoff_index = int(len(y) * cutoff)  # Calculate index for cutoff\n",
    "    cutoff_bin = sorted_prob[:cutoff_index, 1]  # Get labels up to the cutoff\n",
    "\n",
    "    # Return the FDR score (#fraud_in_cutoff / #total_fraud)\n",
    "    return np.sum(cutoff_bin == 1) / num_fraud if num_fraud > 0 else 0"
   ]
  },
  {
   "cell_type": "markdown",
   "metadata": {},
   "source": [
    "## Run a wrapper on the remaining top variables"
   ]
  },
  {
   "cell_type": "code",
   "execution_count": 21,
   "metadata": {},
   "outputs": [],
   "source": [
    "# This is a parallel running parameter. You can try it set to -1, but sometimes the data is too large to\n",
    "# be divided into that many threads and the next cell quits. A safe value is 1 for no parallelization but it \n",
    "# the runs slower. You might experiment to see how big you can set this for your data on your machine.\n",
    "njobs = -1"
   ]
  },
  {
   "cell_type": "code",
   "execution_count": 22,
   "metadata": {
    "scrolled": false
   },
   "outputs": [
    {
     "name": "stdout",
     "output_type": "stream",
     "text": [
      "CPU times: user 15.7 s, sys: 4.24 s, total: 19.9 s\n",
      "Wall time: 10min 42s\n"
     ]
    },
    {
     "data": {
      "text/html": [
       "<style>#sk-container-id-1 {\n",
       "  /* Definition of color scheme common for light and dark mode */\n",
       "  --sklearn-color-text: black;\n",
       "  --sklearn-color-line: gray;\n",
       "  /* Definition of color scheme for unfitted estimators */\n",
       "  --sklearn-color-unfitted-level-0: #fff5e6;\n",
       "  --sklearn-color-unfitted-level-1: #f6e4d2;\n",
       "  --sklearn-color-unfitted-level-2: #ffe0b3;\n",
       "  --sklearn-color-unfitted-level-3: chocolate;\n",
       "  /* Definition of color scheme for fitted estimators */\n",
       "  --sklearn-color-fitted-level-0: #f0f8ff;\n",
       "  --sklearn-color-fitted-level-1: #d4ebff;\n",
       "  --sklearn-color-fitted-level-2: #b3dbfd;\n",
       "  --sklearn-color-fitted-level-3: cornflowerblue;\n",
       "\n",
       "  /* Specific color for light theme */\n",
       "  --sklearn-color-text-on-default-background: var(--sg-text-color, var(--theme-code-foreground, var(--jp-content-font-color1, black)));\n",
       "  --sklearn-color-background: var(--sg-background-color, var(--theme-background, var(--jp-layout-color0, white)));\n",
       "  --sklearn-color-border-box: var(--sg-text-color, var(--theme-code-foreground, var(--jp-content-font-color1, black)));\n",
       "  --sklearn-color-icon: #696969;\n",
       "\n",
       "  @media (prefers-color-scheme: dark) {\n",
       "    /* Redefinition of color scheme for dark theme */\n",
       "    --sklearn-color-text-on-default-background: var(--sg-text-color, var(--theme-code-foreground, var(--jp-content-font-color1, white)));\n",
       "    --sklearn-color-background: var(--sg-background-color, var(--theme-background, var(--jp-layout-color0, #111)));\n",
       "    --sklearn-color-border-box: var(--sg-text-color, var(--theme-code-foreground, var(--jp-content-font-color1, white)));\n",
       "    --sklearn-color-icon: #878787;\n",
       "  }\n",
       "}\n",
       "\n",
       "#sk-container-id-1 {\n",
       "  color: var(--sklearn-color-text);\n",
       "}\n",
       "\n",
       "#sk-container-id-1 pre {\n",
       "  padding: 0;\n",
       "}\n",
       "\n",
       "#sk-container-id-1 input.sk-hidden--visually {\n",
       "  border: 0;\n",
       "  clip: rect(1px 1px 1px 1px);\n",
       "  clip: rect(1px, 1px, 1px, 1px);\n",
       "  height: 1px;\n",
       "  margin: -1px;\n",
       "  overflow: hidden;\n",
       "  padding: 0;\n",
       "  position: absolute;\n",
       "  width: 1px;\n",
       "}\n",
       "\n",
       "#sk-container-id-1 div.sk-dashed-wrapped {\n",
       "  border: 1px dashed var(--sklearn-color-line);\n",
       "  margin: 0 0.4em 0.5em 0.4em;\n",
       "  box-sizing: border-box;\n",
       "  padding-bottom: 0.4em;\n",
       "  background-color: var(--sklearn-color-background);\n",
       "}\n",
       "\n",
       "#sk-container-id-1 div.sk-container {\n",
       "  /* jupyter's `normalize.less` sets `[hidden] { display: none; }`\n",
       "     but bootstrap.min.css set `[hidden] { display: none !important; }`\n",
       "     so we also need the `!important` here to be able to override the\n",
       "     default hidden behavior on the sphinx rendered scikit-learn.org.\n",
       "     See: https://github.com/scikit-learn/scikit-learn/issues/21755 */\n",
       "  display: inline-block !important;\n",
       "  position: relative;\n",
       "}\n",
       "\n",
       "#sk-container-id-1 div.sk-text-repr-fallback {\n",
       "  display: none;\n",
       "}\n",
       "\n",
       "div.sk-parallel-item,\n",
       "div.sk-serial,\n",
       "div.sk-item {\n",
       "  /* draw centered vertical line to link estimators */\n",
       "  background-image: linear-gradient(var(--sklearn-color-text-on-default-background), var(--sklearn-color-text-on-default-background));\n",
       "  background-size: 2px 100%;\n",
       "  background-repeat: no-repeat;\n",
       "  background-position: center center;\n",
       "}\n",
       "\n",
       "/* Parallel-specific style estimator block */\n",
       "\n",
       "#sk-container-id-1 div.sk-parallel-item::after {\n",
       "  content: \"\";\n",
       "  width: 100%;\n",
       "  border-bottom: 2px solid var(--sklearn-color-text-on-default-background);\n",
       "  flex-grow: 1;\n",
       "}\n",
       "\n",
       "#sk-container-id-1 div.sk-parallel {\n",
       "  display: flex;\n",
       "  align-items: stretch;\n",
       "  justify-content: center;\n",
       "  background-color: var(--sklearn-color-background);\n",
       "  position: relative;\n",
       "}\n",
       "\n",
       "#sk-container-id-1 div.sk-parallel-item {\n",
       "  display: flex;\n",
       "  flex-direction: column;\n",
       "}\n",
       "\n",
       "#sk-container-id-1 div.sk-parallel-item:first-child::after {\n",
       "  align-self: flex-end;\n",
       "  width: 50%;\n",
       "}\n",
       "\n",
       "#sk-container-id-1 div.sk-parallel-item:last-child::after {\n",
       "  align-self: flex-start;\n",
       "  width: 50%;\n",
       "}\n",
       "\n",
       "#sk-container-id-1 div.sk-parallel-item:only-child::after {\n",
       "  width: 0;\n",
       "}\n",
       "\n",
       "/* Serial-specific style estimator block */\n",
       "\n",
       "#sk-container-id-1 div.sk-serial {\n",
       "  display: flex;\n",
       "  flex-direction: column;\n",
       "  align-items: center;\n",
       "  background-color: var(--sklearn-color-background);\n",
       "  padding-right: 1em;\n",
       "  padding-left: 1em;\n",
       "}\n",
       "\n",
       "\n",
       "/* Toggleable style: style used for estimator/Pipeline/ColumnTransformer box that is\n",
       "clickable and can be expanded/collapsed.\n",
       "- Pipeline and ColumnTransformer use this feature and define the default style\n",
       "- Estimators will overwrite some part of the style using the `sk-estimator` class\n",
       "*/\n",
       "\n",
       "/* Pipeline and ColumnTransformer style (default) */\n",
       "\n",
       "#sk-container-id-1 div.sk-toggleable {\n",
       "  /* Default theme specific background. It is overwritten whether we have a\n",
       "  specific estimator or a Pipeline/ColumnTransformer */\n",
       "  background-color: var(--sklearn-color-background);\n",
       "}\n",
       "\n",
       "/* Toggleable label */\n",
       "#sk-container-id-1 label.sk-toggleable__label {\n",
       "  cursor: pointer;\n",
       "  display: block;\n",
       "  width: 100%;\n",
       "  margin-bottom: 0;\n",
       "  padding: 0.5em;\n",
       "  box-sizing: border-box;\n",
       "  text-align: center;\n",
       "}\n",
       "\n",
       "#sk-container-id-1 label.sk-toggleable__label-arrow:before {\n",
       "  /* Arrow on the left of the label */\n",
       "  content: \"▸\";\n",
       "  float: left;\n",
       "  margin-right: 0.25em;\n",
       "  color: var(--sklearn-color-icon);\n",
       "}\n",
       "\n",
       "#sk-container-id-1 label.sk-toggleable__label-arrow:hover:before {\n",
       "  color: var(--sklearn-color-text);\n",
       "}\n",
       "\n",
       "/* Toggleable content - dropdown */\n",
       "\n",
       "#sk-container-id-1 div.sk-toggleable__content {\n",
       "  max-height: 0;\n",
       "  max-width: 0;\n",
       "  overflow: hidden;\n",
       "  text-align: left;\n",
       "  /* unfitted */\n",
       "  background-color: var(--sklearn-color-unfitted-level-0);\n",
       "}\n",
       "\n",
       "#sk-container-id-1 div.sk-toggleable__content.fitted {\n",
       "  /* fitted */\n",
       "  background-color: var(--sklearn-color-fitted-level-0);\n",
       "}\n",
       "\n",
       "#sk-container-id-1 div.sk-toggleable__content pre {\n",
       "  margin: 0.2em;\n",
       "  border-radius: 0.25em;\n",
       "  color: var(--sklearn-color-text);\n",
       "  /* unfitted */\n",
       "  background-color: var(--sklearn-color-unfitted-level-0);\n",
       "}\n",
       "\n",
       "#sk-container-id-1 div.sk-toggleable__content.fitted pre {\n",
       "  /* unfitted */\n",
       "  background-color: var(--sklearn-color-fitted-level-0);\n",
       "}\n",
       "\n",
       "#sk-container-id-1 input.sk-toggleable__control:checked~div.sk-toggleable__content {\n",
       "  /* Expand drop-down */\n",
       "  max-height: 200px;\n",
       "  max-width: 100%;\n",
       "  overflow: auto;\n",
       "}\n",
       "\n",
       "#sk-container-id-1 input.sk-toggleable__control:checked~label.sk-toggleable__label-arrow:before {\n",
       "  content: \"▾\";\n",
       "}\n",
       "\n",
       "/* Pipeline/ColumnTransformer-specific style */\n",
       "\n",
       "#sk-container-id-1 div.sk-label input.sk-toggleable__control:checked~label.sk-toggleable__label {\n",
       "  color: var(--sklearn-color-text);\n",
       "  background-color: var(--sklearn-color-unfitted-level-2);\n",
       "}\n",
       "\n",
       "#sk-container-id-1 div.sk-label.fitted input.sk-toggleable__control:checked~label.sk-toggleable__label {\n",
       "  background-color: var(--sklearn-color-fitted-level-2);\n",
       "}\n",
       "\n",
       "/* Estimator-specific style */\n",
       "\n",
       "/* Colorize estimator box */\n",
       "#sk-container-id-1 div.sk-estimator input.sk-toggleable__control:checked~label.sk-toggleable__label {\n",
       "  /* unfitted */\n",
       "  background-color: var(--sklearn-color-unfitted-level-2);\n",
       "}\n",
       "\n",
       "#sk-container-id-1 div.sk-estimator.fitted input.sk-toggleable__control:checked~label.sk-toggleable__label {\n",
       "  /* fitted */\n",
       "  background-color: var(--sklearn-color-fitted-level-2);\n",
       "}\n",
       "\n",
       "#sk-container-id-1 div.sk-label label.sk-toggleable__label,\n",
       "#sk-container-id-1 div.sk-label label {\n",
       "  /* The background is the default theme color */\n",
       "  color: var(--sklearn-color-text-on-default-background);\n",
       "}\n",
       "\n",
       "/* On hover, darken the color of the background */\n",
       "#sk-container-id-1 div.sk-label:hover label.sk-toggleable__label {\n",
       "  color: var(--sklearn-color-text);\n",
       "  background-color: var(--sklearn-color-unfitted-level-2);\n",
       "}\n",
       "\n",
       "/* Label box, darken color on hover, fitted */\n",
       "#sk-container-id-1 div.sk-label.fitted:hover label.sk-toggleable__label.fitted {\n",
       "  color: var(--sklearn-color-text);\n",
       "  background-color: var(--sklearn-color-fitted-level-2);\n",
       "}\n",
       "\n",
       "/* Estimator label */\n",
       "\n",
       "#sk-container-id-1 div.sk-label label {\n",
       "  font-family: monospace;\n",
       "  font-weight: bold;\n",
       "  display: inline-block;\n",
       "  line-height: 1.2em;\n",
       "}\n",
       "\n",
       "#sk-container-id-1 div.sk-label-container {\n",
       "  text-align: center;\n",
       "}\n",
       "\n",
       "/* Estimator-specific */\n",
       "#sk-container-id-1 div.sk-estimator {\n",
       "  font-family: monospace;\n",
       "  border: 1px dotted var(--sklearn-color-border-box);\n",
       "  border-radius: 0.25em;\n",
       "  box-sizing: border-box;\n",
       "  margin-bottom: 0.5em;\n",
       "  /* unfitted */\n",
       "  background-color: var(--sklearn-color-unfitted-level-0);\n",
       "}\n",
       "\n",
       "#sk-container-id-1 div.sk-estimator.fitted {\n",
       "  /* fitted */\n",
       "  background-color: var(--sklearn-color-fitted-level-0);\n",
       "}\n",
       "\n",
       "/* on hover */\n",
       "#sk-container-id-1 div.sk-estimator:hover {\n",
       "  /* unfitted */\n",
       "  background-color: var(--sklearn-color-unfitted-level-2);\n",
       "}\n",
       "\n",
       "#sk-container-id-1 div.sk-estimator.fitted:hover {\n",
       "  /* fitted */\n",
       "  background-color: var(--sklearn-color-fitted-level-2);\n",
       "}\n",
       "\n",
       "/* Specification for estimator info (e.g. \"i\" and \"?\") */\n",
       "\n",
       "/* Common style for \"i\" and \"?\" */\n",
       "\n",
       ".sk-estimator-doc-link,\n",
       "a:link.sk-estimator-doc-link,\n",
       "a:visited.sk-estimator-doc-link {\n",
       "  float: right;\n",
       "  font-size: smaller;\n",
       "  line-height: 1em;\n",
       "  font-family: monospace;\n",
       "  background-color: var(--sklearn-color-background);\n",
       "  border-radius: 1em;\n",
       "  height: 1em;\n",
       "  width: 1em;\n",
       "  text-decoration: none !important;\n",
       "  margin-left: 1ex;\n",
       "  /* unfitted */\n",
       "  border: var(--sklearn-color-unfitted-level-1) 1pt solid;\n",
       "  color: var(--sklearn-color-unfitted-level-1);\n",
       "}\n",
       "\n",
       ".sk-estimator-doc-link.fitted,\n",
       "a:link.sk-estimator-doc-link.fitted,\n",
       "a:visited.sk-estimator-doc-link.fitted {\n",
       "  /* fitted */\n",
       "  border: var(--sklearn-color-fitted-level-1) 1pt solid;\n",
       "  color: var(--sklearn-color-fitted-level-1);\n",
       "}\n",
       "\n",
       "/* On hover */\n",
       "div.sk-estimator:hover .sk-estimator-doc-link:hover,\n",
       ".sk-estimator-doc-link:hover,\n",
       "div.sk-label-container:hover .sk-estimator-doc-link:hover,\n",
       ".sk-estimator-doc-link:hover {\n",
       "  /* unfitted */\n",
       "  background-color: var(--sklearn-color-unfitted-level-3);\n",
       "  color: var(--sklearn-color-background);\n",
       "  text-decoration: none;\n",
       "}\n",
       "\n",
       "div.sk-estimator.fitted:hover .sk-estimator-doc-link.fitted:hover,\n",
       ".sk-estimator-doc-link.fitted:hover,\n",
       "div.sk-label-container:hover .sk-estimator-doc-link.fitted:hover,\n",
       ".sk-estimator-doc-link.fitted:hover {\n",
       "  /* fitted */\n",
       "  background-color: var(--sklearn-color-fitted-level-3);\n",
       "  color: var(--sklearn-color-background);\n",
       "  text-decoration: none;\n",
       "}\n",
       "\n",
       "/* Span, style for the box shown on hovering the info icon */\n",
       ".sk-estimator-doc-link span {\n",
       "  display: none;\n",
       "  z-index: 9999;\n",
       "  position: relative;\n",
       "  font-weight: normal;\n",
       "  right: .2ex;\n",
       "  padding: .5ex;\n",
       "  margin: .5ex;\n",
       "  width: min-content;\n",
       "  min-width: 20ex;\n",
       "  max-width: 50ex;\n",
       "  color: var(--sklearn-color-text);\n",
       "  box-shadow: 2pt 2pt 4pt #999;\n",
       "  /* unfitted */\n",
       "  background: var(--sklearn-color-unfitted-level-0);\n",
       "  border: .5pt solid var(--sklearn-color-unfitted-level-3);\n",
       "}\n",
       "\n",
       ".sk-estimator-doc-link.fitted span {\n",
       "  /* fitted */\n",
       "  background: var(--sklearn-color-fitted-level-0);\n",
       "  border: var(--sklearn-color-fitted-level-3);\n",
       "}\n",
       "\n",
       ".sk-estimator-doc-link:hover span {\n",
       "  display: block;\n",
       "}\n",
       "\n",
       "/* \"?\"-specific style due to the `<a>` HTML tag */\n",
       "\n",
       "#sk-container-id-1 a.estimator_doc_link {\n",
       "  float: right;\n",
       "  font-size: 1rem;\n",
       "  line-height: 1em;\n",
       "  font-family: monospace;\n",
       "  background-color: var(--sklearn-color-background);\n",
       "  border-radius: 1rem;\n",
       "  height: 1rem;\n",
       "  width: 1rem;\n",
       "  text-decoration: none;\n",
       "  /* unfitted */\n",
       "  color: var(--sklearn-color-unfitted-level-1);\n",
       "  border: var(--sklearn-color-unfitted-level-1) 1pt solid;\n",
       "}\n",
       "\n",
       "#sk-container-id-1 a.estimator_doc_link.fitted {\n",
       "  /* fitted */\n",
       "  border: var(--sklearn-color-fitted-level-1) 1pt solid;\n",
       "  color: var(--sklearn-color-fitted-level-1);\n",
       "}\n",
       "\n",
       "/* On hover */\n",
       "#sk-container-id-1 a.estimator_doc_link:hover {\n",
       "  /* unfitted */\n",
       "  background-color: var(--sklearn-color-unfitted-level-3);\n",
       "  color: var(--sklearn-color-background);\n",
       "  text-decoration: none;\n",
       "}\n",
       "\n",
       "#sk-container-id-1 a.estimator_doc_link.fitted:hover {\n",
       "  /* fitted */\n",
       "  background-color: var(--sklearn-color-fitted-level-3);\n",
       "}\n",
       "</style><div id=\"sk-container-id-1\" class=\"sk-top-container\"><div class=\"sk-text-repr-fallback\"><pre>SequentialFeatureSelector(cv=2,\n",
       "                          estimator=&lt;catboost.core.CatBoostClassifier object at 0x3d43fee80&gt;,\n",
       "                          k_features=(30, 30), n_jobs=-1,\n",
       "                          scoring=&lt;function fdr at 0x3dce4f0d0&gt;)</pre><b>In a Jupyter environment, please rerun this cell to show the HTML representation or trust the notebook. <br />On GitHub, the HTML representation is unable to render, please try loading this page with nbviewer.org.</b></div><div class=\"sk-container\" hidden><div class=\"sk-item sk-dashed-wrapped\"><div class=\"sk-label-container\"><div class=\"sk-label fitted sk-toggleable\"><input class=\"sk-toggleable__control sk-hidden--visually\" id=\"sk-estimator-id-1\" type=\"checkbox\" ><label for=\"sk-estimator-id-1\" class=\"sk-toggleable__label fitted sk-toggleable__label-arrow fitted\">&nbsp;SequentialFeatureSelector<span class=\"sk-estimator-doc-link fitted\">i<span>Fitted</span></span></label><div class=\"sk-toggleable__content fitted\"><pre>SequentialFeatureSelector(cv=2,\n",
       "                          estimator=&lt;catboost.core.CatBoostClassifier object at 0x3d43fee80&gt;,\n",
       "                          k_features=(30, 30), n_jobs=-1,\n",
       "                          scoring=&lt;function fdr at 0x3dce4f0d0&gt;)</pre></div> </div></div><div class=\"sk-parallel\"><div class=\"sk-parallel-item\"><div class=\"sk-item\"><div class=\"sk-label-container\"><div class=\"sk-label fitted sk-toggleable\"><input class=\"sk-toggleable__control sk-hidden--visually\" id=\"sk-estimator-id-2\" type=\"checkbox\" ><label for=\"sk-estimator-id-2\" class=\"sk-toggleable__label fitted sk-toggleable__label-arrow fitted\">estimator: CatBoostClassifier</label><div class=\"sk-toggleable__content fitted\"><pre>&lt;catboost.core.CatBoostClassifier object at 0x3d43fee80&gt;</pre></div> </div></div><div class=\"sk-serial\"><div class=\"sk-item\"><div class=\"sk-estimator fitted sk-toggleable\"><input class=\"sk-toggleable__control sk-hidden--visually\" id=\"sk-estimator-id-3\" type=\"checkbox\" ><label for=\"sk-estimator-id-3\" class=\"sk-toggleable__label fitted sk-toggleable__label-arrow fitted\">CatBoostClassifier</label><div class=\"sk-toggleable__content fitted\"><pre>&lt;catboost.core.CatBoostClassifier object at 0x3d43fee80&gt;</pre></div> </div></div></div></div></div></div></div></div></div>"
      ],
      "text/plain": [
       "SequentialFeatureSelector(cv=2,\n",
       "                          estimator=<catboost.core.CatBoostClassifier object at 0x3d43fee80>,\n",
       "                          k_features=(30, 30), n_jobs=-1,\n",
       "                          scoring=<function fdr at 0x3dce4f0d0>)"
      ]
     },
     "execution_count": 22,
     "metadata": {},
     "output_type": "execute_result"
    }
   ],
   "source": [
    "%%time\n",
    "import warnings \n",
    "warnings.filterwarnings(\"ignore\") \n",
    "# Keep the classifier settings simple. You don't need really good models, only good \n",
    "# enough to evaluate which variables help and in which order and combinations.\n",
    "\n",
    "# If you're doing forward selection it's enough to stop at num_out_of_wrapper variables. \n",
    "# If you're doing backward selection you need to go through all the variables to get a sorted list of num_out_of_wrapper variables.\n",
    "\n",
    "nfeatures = len(X.columns)\n",
    "# clf = RandomForestClassifier(n_estimators=5) # simple, fast nonlinear model for the wrapper\n",
    "# clf = LGBMClassifier(n_estimators=20,num_leaves=4) # simple, fast nonlinear model for the wrapper\n",
    "clf = CatBoostClassifier(verbose=0,iterations=20,depth=3)\n",
    "sfs = SFS(clf,k_features=num_out_of_wrapper,forward=True,verbose=0,scoring=fdr,cv=2,n_jobs=njobs) # use for forward selection\n",
    "# sfs = SFS(clf,k_features=1,forward=False,verbose=0,scoring=fdr,cv=2,n_jobs=njobs) # use for backward selection\n",
    "sfs.fit(X,Y)"
   ]
  },
  {
   "cell_type": "code",
   "execution_count": null,
   "metadata": {
    "scrolled": false
   },
   "outputs": [
    {
     "data": {
      "image/png": "[encoded data removed]",
      "text/plain": [
       "<Figure size 1000x600 with 1 Axes>"
      ]
     },
     "metadata": {},
     "output_type": "display_data"
    }
   ],
   "source": [
    "from mlxtend.plotting import plot_sequential_feature_selection as plot_sfs\n",
    "fig1 = plot_sfs(sfs.get_metric_dict(),kind='std_dev', figsize=(10, 6))\n",
    "plt.xticks(np.arange(0, num_out_of_wrapper, step=1))\n",
    "plt.yticks(np.arange(0,1,step=.02))\n",
    "plt.ylim([.5,.8])\n",
    "plt.xlim(0,num_out_of_wrapper)\n",
    "plt.title('Stepwise Selection')\n",
    "plt.grid()\n",
    "plt.savefig('features/performance_nvars.png')\n",
    "plt.show()"
   ]
  },
  {
   "cell_type": "code",
   "execution_count": 24,
   "metadata": {},
   "outputs": [],
   "source": [
    "vars_FS = pd.DataFrame.from_dict(sfs.get_metric_dict()).T"
   ]
  },
  {
   "cell_type": "code",
   "execution_count": 25,
   "metadata": {},
   "outputs": [],
   "source": [
    "ordered_vars_FS = vars_FS.copy()\n",
    "for i in range(len(ordered_vars_FS)):\n",
    "    ordered_vars_FS.loc[i+1,'add variables in this order'] = int(i+1)\n",
    "    if i+1 == 1:\n",
    "        ordered_vars_FS.loc[i+1,'variable name'] = (list(ordered_vars_FS.loc[i+1,'feature_names'])[0])\n",
    "    else:\n",
    "        ordered_vars_FS.loc[i+1,'variable name'] = (list(set(ordered_vars_FS.loc[i+1,'feature_names']) - set(ordered_vars_FS.loc[i,'feature_names'])))[0]\n",
    "# You might also need this following line. It converts a list to a string\n",
    "#         ordered_vars_FS.loc[i+1,'variable name'] = ordered_vars_FS.loc[i+1,'variable name'][0]"
   ]
  },
  {
   "cell_type": "code",
   "execution_count": 26,
   "metadata": {
    "scrolled": false
   },
   "outputs": [
    {
     "data": {
      "application/vnd.microsoft.datawrangler.viewer.v0+json": {
       "columns": [
        {
         "name": "index",
         "rawType": "int64",
         "type": "integer"
        },
        {
         "name": "feature_idx",
         "rawType": "object",
         "type": "unknown"
        },
        {
         "name": "cv_scores",
         "rawType": "object",
         "type": "unknown"
        },
        {
         "name": "avg_score",
         "rawType": "object",
         "type": "unknown"
        },
        {
         "name": "feature_names",
         "rawType": "object",
         "type": "unknown"
        },
        {
         "name": "ci_bound",
         "rawType": "object",
         "type": "unknown"
        },
        {
         "name": "std_dev",
         "rawType": "object",
         "type": "unknown"
        },
        {
         "name": "std_err",
         "rawType": "object",
         "type": "unknown"
        },
        {
         "name": "add variables in this order",
         "rawType": "float64",
         "type": "float"
        },
        {
         "name": "variable name",
         "rawType": "object",
         "type": "string"
        }
       ],
       "conversionMethod": "pd.DataFrame",
       "ref": "9278f47a-7ff6-424c-a0f6-4e3f847f4470",
       "rows": [
        [
         "1",
         "(7,)",
         "[0.50303644 0.50658561]",
         "0.5048110251077776",
         "('Cardnum_unique_count_for_card_state_1',)",
         "0.007635435303417341",
         "0.0017745878608140808",
         "0.0017745878608140806",
         "1.0",
         "Cardnum_unique_count_for_card_state_1"
        ],
        [
         "2",
         "(7, 256)",
         "[0.64271255 0.64336373]",
         "0.6430381395386995",
         "('Cardnum_unique_count_for_card_state_1', 'Card_Merchdesc_State_total_3')",
         "0.0014008961044986524",
         "0.00032558893141199086",
         "0.00032558893141199086",
         "2.0",
         "Card_Merchdesc_State_total_3"
        ],
        [
         "3",
         "(7, 123, 256)",
         "[0.65890688 0.67274569]",
         "0.6658262883066914",
         "('Cardnum_unique_count_for_card_state_1', 'Card_Merchnum_Zip_total_amount_1_by_60', 'Card_Merchdesc_State_total_3')",
         "0.029771799890094312",
         "0.006919405715598348",
         "0.006919405715598347",
         "3.0",
         "Card_Merchnum_Zip_total_amount_1_by_60"
        ],
        [
         "4",
         "(7, 24, 123, 256)",
         "[0.67307692 0.68490375]",
         "0.6789903359052296",
         "('Cardnum_unique_count_for_card_state_1', 'Cardnum_max_0', 'Card_Merchnum_Zip_total_amount_1_by_60', 'Card_Merchdesc_State_total_3')",
         "0.025443361847532844",
         "0.00591341282830643",
         "0.00591341282830643",
         "4.0",
         "Cardnum_max_0"
        ],
        [
         "5",
         "(7, 24, 123, 256, 258)",
         "[0.67813765 0.6899696 ]",
         "0.6840536283425421",
         "('Cardnum_unique_count_for_card_state_1', 'Cardnum_max_0', 'Card_Merchnum_Zip_total_amount_1_by_60', 'Card_Merchdesc_State_total_3', 'card_merch_total_7')",
         "0.02545439252552108",
         "0.0059159765206797665",
         "0.0059159765206797665",
         "5.0",
         "card_merch_total_7"
        ],
        [
         "6",
         "(7, 24, 84, 123, 256, 258)",
         "[0.68016194 0.69300912]",
         "0.6865855309304357",
         "('Cardnum_unique_count_for_card_state_1', 'Cardnum_max_0', 'Cardnum_total_amount_0_by_60', 'Card_Merchnum_Zip_total_amount_1_by_60', 'Card_Merchdesc_State_total_3', 'card_merch_total_7')",
         "0.027638466767180476",
         "0.006423587610597692",
         "0.006423587610597692",
         "6.0",
         "Cardnum_total_amount_0_by_60"
        ],
        [
         "7",
         "(7, 24, 84, 123, 240, 256, 258)",
         "[0.68825911 0.70111449]",
         "0.6946867988301358",
         "('Cardnum_unique_count_for_card_state_1', 'Cardnum_max_0', 'Cardnum_total_amount_0_by_60', 'Card_Merchnum_Zip_total_amount_1_by_60', 'card_zip_total_amount_0_by_60', 'Card_Merchdesc_State_total_3', 'card_merch_total_7')",
         "0.027656115851961555",
         "0.006427689518395008",
         "0.006427689518395007",
         "7.0",
         "card_zip_total_amount_0_by_60"
        ],
        [
         "8",
         "(7, 24, 84, 123, 240, 256, 258, 278)",
         "[0.68016194 0.70618034]",
         "0.6931711438990275",
         "('Cardnum_unique_count_for_card_state_1', 'Cardnum_max_0', 'Cardnum_total_amount_0_by_60', 'Card_Merchnum_Zip_total_amount_1_by_60', 'card_zip_total_amount_0_by_60', 'Card_Merchdesc_State_total_3', 'card_merch_total_7', 'card_state_max_7')",
         "0.055974072383213974",
         "0.013009200579189417",
         "0.013009200579189417",
         "8.0",
         "card_state_max_7"
        ],
        [
         "9",
         "(7, 20, 24, 84, 123, 240, 256, 258, 278)",
         "[0.69736842 0.6970618 ]",
         "0.6972151122487069",
         "('Cardnum_unique_count_for_card_state_1', 'Card_dow_vdratio_0by14', 'Cardnum_max_0', 'Cardnum_total_amount_0_by_60', 'Card_Merchnum_Zip_total_amount_1_by_60', 'card_zip_total_amount_0_by_60', 'Card_Merchdesc_State_total_3', 'card_merch_total_7', 'card_state_max_7')",
         "0.0006596345436929222",
         "0.00015330880392466772",
         "0.00015330880392466772",
         "9.0",
         "Card_dow_vdratio_0by14"
        ],
        [
         "10",
         "(7, 20, 24, 60, 84, 123, 240, 256, 258, 278)",
         "[0.69433198 0.70314083]",
         "0.6987364073030367",
         "('Cardnum_unique_count_for_card_state_1', 'Card_dow_vdratio_0by14', 'Cardnum_max_0', 'Card_dow_total_30', 'Cardnum_total_amount_0_by_60', 'Card_Merchnum_Zip_total_amount_1_by_60', 'card_zip_total_amount_0_by_60', 'Card_Merchdesc_State_total_3', 'card_merch_total_7', 'card_state_max_7')",
         "0.01895070478369099",
         "0.004404423497368637",
         "0.004404423497368636",
         "10.0",
         "Card_dow_total_30"
        ],
        [
         "11",
         "(7, 20, 24, 60, 84, 123, 240, 256, 258, 278, 286)",
         "[0.69635628 0.70111449]",
         "0.6987353818260873",
         "('Cardnum_unique_count_for_card_state_1', 'Card_dow_vdratio_0by14', 'Cardnum_max_0', 'Card_dow_total_30', 'Cardnum_total_amount_0_by_60', 'Card_Merchnum_Zip_total_amount_1_by_60', 'card_zip_total_amount_0_by_60', 'Card_Merchdesc_State_total_3', 'card_merch_total_7', 'card_state_max_7', 'High_Amount_For_Merchant')",
         "0.010236469173029648",
         "0.0023791065224435526",
         "0.0023791065224435526",
         "11.0",
         "High_Amount_For_Merchant"
        ],
        [
         "12",
         "(7, 20, 24, 60, 84, 123, 230, 240, 256, 258, 278, 286)",
         "[0.69939271 0.70618034]",
         "0.7027865285144121",
         "('Cardnum_unique_count_for_card_state_1', 'Card_dow_vdratio_0by14', 'Cardnum_max_0', 'Card_dow_total_30', 'Cardnum_total_amount_0_by_60', 'Card_Merchnum_Zip_total_amount_1_by_60', 'Cardnum_variability_med_0', 'card_zip_total_amount_0_by_60', 'Card_Merchdesc_State_total_3', 'card_merch_total_7', 'card_state_max_7', 'High_Amount_For_Merchant')",
         "0.014602411520750981",
         "0.0033938159638047805",
         "0.0033938159638047805",
         "12.0",
         "Cardnum_variability_med_0"
        ],
        [
         "13",
         "(7, 20, 24, 60, 84, 123, 230, 240, 256, 258, 278, 286, 287)",
         "[0.69433198 0.70719352]",
         "0.7007627497549109",
         "('Cardnum_unique_count_for_card_state_1', 'Card_dow_vdratio_0by14', 'Cardnum_max_0', 'Card_dow_total_30', 'Cardnum_total_amount_0_by_60', 'Card_Merchnum_Zip_total_amount_1_by_60', 'Cardnum_variability_med_0', 'card_zip_total_amount_0_by_60', 'Card_Merchdesc_State_total_3', 'card_merch_total_7', 'card_state_max_7', 'High_Amount_For_Merchant', 'Card_dow_avg_60')",
         "0.02766935266554749",
         "0.0064307659492430225",
         "0.0064307659492430225",
         "13.0",
         "Card_dow_avg_60"
        ],
        [
         "14",
         "(7, 20, 24, 60, 84, 123, 230, 240, 247, 256, 258, 278, 286, 287)",
         "[0.70951417 0.69807497]",
         "0.7037945723556025",
         "('Cardnum_unique_count_for_card_state_1', 'Card_dow_vdratio_0by14', 'Cardnum_max_0', 'Card_dow_total_30', 'Cardnum_total_amount_0_by_60', 'Card_Merchnum_Zip_total_amount_1_by_60', 'Cardnum_variability_med_0', 'card_zip_total_amount_0_by_60', 'card_state_total_14', 'Card_Merchdesc_State_total_3', 'card_merch_total_7', 'card_state_max_7', 'High_Amount_For_Merchant', 'Card_dow_avg_60')",
         "0.024609442591626545",
         "0.005719597684883226",
         "0.0057195976848832255",
         "14.0",
         "card_state_total_14"
        ],
        [
         "15",
         "(7, 20, 24, 60, 84, 106, 123, 230, 240, 247, 256, 258, 278, 286, 287)",
         "[0.70647773 0.704154  ]",
         "0.7053158674099324",
         "('Cardnum_unique_count_for_card_state_1', 'Card_dow_vdratio_0by14', 'Cardnum_max_0', 'Card_dow_total_30', 'Cardnum_total_amount_0_by_60', 'Card_dow_actual/toal_14', 'Card_Merchnum_Zip_total_amount_1_by_60', 'Cardnum_variability_med_0', 'card_zip_total_amount_0_by_60', 'card_state_total_14', 'Card_Merchdesc_State_total_3', 'card_merch_total_7', 'card_state_max_7', 'High_Amount_For_Merchant', 'Card_dow_avg_60')",
         "0.004999103264242393",
         "0.0011618653835898662",
         "0.0011618653835898662",
         "15.0",
         "Card_dow_actual/toal_14"
        ],
        [
         "16",
         "(7, 20, 24, 29, 60, 84, 106, 123, 230, 240, 247, 256, 258, 278, 286, 287)",
         "[0.70546559 0.70618034]",
         "0.7058229657613757",
         "('Cardnum_unique_count_for_card_state_1', 'Card_dow_vdratio_0by14', 'Cardnum_max_0', 'Card_dow_unique_count_for_Card_Merchdesc_1', 'Card_dow_total_30', 'Cardnum_total_amount_0_by_60', 'Card_dow_actual/toal_14', 'Card_Merchnum_Zip_total_amount_1_by_60', 'Cardnum_variability_med_0', 'card_zip_total_amount_0_by_60', 'card_state_total_14', 'Card_Merchdesc_State_total_3', 'card_merch_total_7', 'card_state_max_7', 'High_Amount_For_Merchant', 'Card_dow_avg_60')",
         "0.001537676511552166",
         "0.0003573787168412168",
         "0.0003573787168412168",
         "16.0",
         "Card_dow_unique_count_for_Card_Merchdesc_1"
        ],
        [
         "17",
         "(7, 20, 24, 29, 60, 82, 84, 106, 123, 230, 240, 247, 256, 258, 278, 286, 287)",
         "[0.70445344 0.71225937]",
         "0.7083564065646932",
         "('Cardnum_unique_count_for_card_state_1', 'Card_dow_vdratio_0by14', 'Cardnum_max_0', 'Card_dow_unique_count_for_Card_Merchdesc_1', 'Card_dow_total_30', 'Card_dow_count_0_by_60', 'Cardnum_total_amount_0_by_60', 'Card_dow_actual/toal_14', 'Card_Merchnum_Zip_total_amount_1_by_60', 'Cardnum_variability_med_0', 'card_zip_total_amount_0_by_60', 'card_state_total_14', 'Card_Merchdesc_State_total_3', 'card_merch_total_7', 'card_state_max_7', 'High_Amount_For_Merchant', 'Card_dow_avg_60')",
         "0.016793104169203224",
         "0.0039029652691466854",
         "0.0039029652691466854",
         "17.0",
         "Card_dow_count_0_by_60"
        ],
        [
         "18",
         "(7, 20, 24, 29, 60, 82, 84, 106, 123, 230, 240, 247, 256, 258, 278, 286, 287, 290)",
         "[0.69736842 0.70921986]",
         "0.70329413960433",
         "('Cardnum_unique_count_for_card_state_1', 'Card_dow_vdratio_0by14', 'Cardnum_max_0', 'Card_dow_unique_count_for_Card_Merchdesc_1', 'Card_dow_total_30', 'Card_dow_count_0_by_60', 'Cardnum_total_amount_0_by_60', 'Card_dow_actual/toal_14', 'Card_Merchnum_Zip_total_amount_1_by_60', 'Cardnum_variability_med_0', 'card_zip_total_amount_0_by_60', 'card_state_total_14', 'Card_Merchdesc_State_total_3', 'card_merch_total_7', 'card_state_max_7', 'High_Amount_For_Merchant', 'Card_dow_avg_60', 'Merchnum_desc_State_total_3')",
         "0.025496309101876332",
         "0.005925718551698433",
         "0.005925718551698433",
         "18.0",
         "Merchnum_desc_State_total_3"
        ],
        [
         "19",
         "(7, 20, 24, 29, 60, 82, 84, 106, 111, 123, 230, 240, 247, 256, 258, 278, 286, 287, 290)",
         "[0.71255061 0.70618034]",
         "0.7093654758828332",
         "('Cardnum_unique_count_for_card_state_1', 'Card_dow_vdratio_0by14', 'Cardnum_max_0', 'Card_dow_unique_count_for_Card_Merchdesc_1', 'Card_dow_total_30', 'Card_dow_count_0_by_60', 'Cardnum_total_amount_0_by_60', 'Card_dow_actual/toal_14', 'Cardnum_unique_count_for_card_state_60', 'Card_Merchnum_Zip_total_amount_1_by_60', 'Cardnum_variability_med_0', 'card_zip_total_amount_0_by_60', 'card_state_total_14', 'Card_Merchdesc_State_total_3', 'card_merch_total_7', 'card_state_max_7', 'High_Amount_For_Merchant', 'Card_dow_avg_60', 'Merchnum_desc_State_total_3')",
         "0.013704514332512957",
         "0.003185131404616237",
         "0.0031851314046162367",
         "19.0",
         "Cardnum_unique_count_for_card_state_60"
        ],
        [
         "20",
         "(7, 20, 24, 29, 60, 65, 82, 84, 106, 111, 123, 230, 240, 247, 256, 258, 278, 286, 287, 290)",
         "[0.701417   0.70314083]",
         "0.7022789174244941",
         "('Cardnum_unique_count_for_card_state_1', 'Card_dow_vdratio_0by14', 'Cardnum_max_0', 'Card_dow_unique_count_for_Card_Merchdesc_1', 'Card_dow_total_30', 'Cardnum_variability_max_3', 'Card_dow_count_0_by_60', 'Cardnum_total_amount_0_by_60', 'Card_dow_actual/toal_14', 'Cardnum_unique_count_for_card_state_60', 'Card_Merchnum_Zip_total_amount_1_by_60', 'Cardnum_variability_med_0', 'card_zip_total_amount_0_by_60', 'card_state_total_14', 'Card_Merchdesc_State_total_3', 'card_merch_total_7', 'card_state_max_7', 'High_Amount_For_Merchant', 'Card_dow_avg_60', 'Merchnum_desc_State_total_3')",
         "0.0037085139396256296",
         "0.0008619133759111275",
         "0.0008619133759111275",
         "20.0",
         "Cardnum_variability_max_3"
        ],
        [
         "21",
         "(7, 20, 24, 26, 29, 60, 65, 82, 84, 106, 111, 123, 230, 240, 247, 256, 258, 278, 286, 287, 290)",
         "[0.70748988 0.68794326]",
         "0.6977165704769288",
         "('Cardnum_unique_count_for_card_state_1', 'Card_dow_vdratio_0by14', 'Cardnum_max_0', 'Card_dow_unique_count_for_merch_zip_1', 'Card_dow_unique_count_for_Card_Merchdesc_1', 'Card_dow_total_30', 'Cardnum_variability_max_3', 'Card_dow_count_0_by_60', 'Cardnum_total_amount_0_by_60', 'Card_dow_actual/toal_14', 'Cardnum_unique_count_for_card_state_60', 'Card_Merchnum_Zip_total_amount_1_by_60', 'Cardnum_variability_med_0', 'card_zip_total_amount_0_by_60', 'card_state_total_14', 'Card_Merchdesc_State_total_3', 'card_merch_total_7', 'card_state_max_7', 'High_Amount_For_Merchant', 'Card_dow_avg_60', 'Merchnum_desc_State_total_3')",
         "0.042051150626534695",
         "0.009773308065581299",
         "0.009773308065581299",
         "21.0",
         "Card_dow_unique_count_for_merch_zip_1"
        ],
        [
         "22",
         "(7, 20, 24, 26, 29, 60, 65, 82, 84, 85, 106, 111, 123, 230, 240, 247, 256, 258, 278, 286, 287, 290)",
         "[0.69736842 0.6970618 ]",
         "0.6972151122487069",
         "('Cardnum_unique_count_for_card_state_1', 'Card_dow_vdratio_0by14', 'Cardnum_max_0', 'Card_dow_unique_count_for_merch_zip_1', 'Card_dow_unique_count_for_Card_Merchdesc_1', 'Card_dow_total_30', 'Cardnum_variability_max_3', 'Card_dow_count_0_by_60', 'Cardnum_total_amount_0_by_60', 'Cardnum_vdratio_0by7', 'Card_dow_actual/toal_14', 'Cardnum_unique_count_for_card_state_60', 'Card_Merchnum_Zip_total_amount_1_by_60', 'Cardnum_variability_med_0', 'card_zip_total_amount_0_by_60', 'card_state_total_14', 'Card_Merchdesc_State_total_3', 'card_merch_total_7', 'card_state_max_7', 'High_Amount_For_Merchant', 'Card_dow_avg_60', 'Merchnum_desc_State_total_3')",
         "0.0006596345436929222",
         "0.00015330880392466772",
         "0.00015330880392466772",
         "22.0",
         "Cardnum_vdratio_0by7"
        ],
        [
         "23",
         "(7, 20, 24, 26, 29, 38, 60, 65, 82, 84, 85, 106, 111, 123, 230, 240, 247, 256, 258, 278, 286, 287, 290)",
         "[0.70546559 0.69604863]",
         "0.7007571096316897",
         "('Cardnum_unique_count_for_card_state_1', 'Card_dow_vdratio_0by14', 'Cardnum_max_0', 'Card_dow_unique_count_for_merch_zip_1', 'Card_dow_unique_count_for_Card_Merchdesc_1', 'Cardnum_max_3', 'Card_dow_total_30', 'Cardnum_variability_max_3', 'Card_dow_count_0_by_60', 'Cardnum_total_amount_0_by_60', 'Cardnum_vdratio_0by7', 'Card_dow_actual/toal_14', 'Cardnum_unique_count_for_card_state_60', 'Card_Merchnum_Zip_total_amount_1_by_60', 'Cardnum_variability_med_0', 'card_zip_total_amount_0_by_60', 'card_state_total_14', 'Card_Merchdesc_State_total_3', 'card_merch_total_7', 'card_state_max_7', 'High_Amount_For_Merchant', 'Card_dow_avg_60', 'Merchnum_desc_State_total_3')",
         "0.020258943193089077",
         "0.004708477412844747",
         "0.004708477412844747",
         "23.0",
         "Cardnum_max_3"
        ],
        [
         "24",
         "(7, 20, 24, 26, 29, 38, 60, 63, 65, 82, 84, 85, 106, 111, 123, 230, 240, 247, 256, 258, 278, 286, 287, 290)",
         "[0.70748988 0.69098278]",
         "0.6992363273158346",
         "('Cardnum_unique_count_for_card_state_1', 'Card_dow_vdratio_0by14', 'Cardnum_max_0', 'Card_dow_unique_count_for_merch_zip_1', 'Card_dow_unique_count_for_Card_Merchdesc_1', 'Cardnum_max_3', 'Card_dow_total_30', 'Card_dow_unique_count_for_merch_state_14', 'Cardnum_variability_max_3', 'Card_dow_count_0_by_60', 'Cardnum_total_amount_0_by_60', 'Cardnum_vdratio_0by7', 'Card_dow_actual/toal_14', 'Cardnum_unique_count_for_card_state_60', 'Card_Merchnum_Zip_total_amount_1_by_60', 'Cardnum_variability_med_0', 'card_zip_total_amount_0_by_60', 'card_state_total_14', 'Card_Merchdesc_State_total_3', 'card_merch_total_7', 'card_state_max_7', 'High_Amount_For_Merchant', 'Card_dow_avg_60', 'Merchnum_desc_State_total_3')",
         "0.035512164715142444",
         "0.008253551226675537",
         "0.008253551226675537",
         "24.0",
         "Card_dow_unique_count_for_merch_state_14"
        ],
        [
         "25",
         "(7, 20, 24, 26, 29, 38, 60, 63, 65, 82, 84, 85, 106, 111, 123, 230, 240, 247, 256, 258, 275, 278, 286, 287, 290)",
         "[0.69230769 0.70010132]",
         "0.6962045047151431",
         "('Cardnum_unique_count_for_card_state_1', 'Card_dow_vdratio_0by14', 'Cardnum_max_0', 'Card_dow_unique_count_for_merch_zip_1', 'Card_dow_unique_count_for_Card_Merchdesc_1', 'Cardnum_max_3', 'Card_dow_total_30', 'Card_dow_unique_count_for_merch_state_14', 'Cardnum_variability_max_3', 'Card_dow_count_0_by_60', 'Cardnum_total_amount_0_by_60', 'Cardnum_vdratio_0by7', 'Card_dow_actual/toal_14', 'Cardnum_unique_count_for_card_state_60', 'Card_Merchnum_Zip_total_amount_1_by_60', 'Cardnum_variability_med_0', 'card_zip_total_amount_0_by_60', 'card_state_total_14', 'Card_Merchdesc_State_total_3', 'card_merch_total_7', 'Card_Merchnum_desc_total_30', 'card_state_max_7', 'High_Amount_For_Merchant', 'Card_dow_avg_60', 'Merchnum_desc_State_total_3')",
         "0.016766630542031598",
         "0.0038968124074507116",
         "0.003896812407450711",
         "25.0",
         "Card_Merchnum_desc_total_30"
        ],
        [
         "26",
         "(7, 20, 24, 26, 29, 38, 60, 63, 65, 81, 82, 84, 85, 106, 111, 123, 230, 240, 247, 256, 258, 275, 278, 286, 287, 290)",
         "[0.69534413 0.68693009]",
         "0.6911371103700331",
         "('Cardnum_unique_count_for_card_state_1', 'Card_dow_vdratio_0by14', 'Cardnum_max_0', 'Card_dow_unique_count_for_merch_zip_1', 'Card_dow_unique_count_for_Card_Merchdesc_1', 'Cardnum_max_3', 'Card_dow_total_30', 'Card_dow_unique_count_for_merch_state_14', 'Cardnum_variability_max_3', 'Card_dow_count_30', 'Card_dow_count_0_by_60', 'Cardnum_total_amount_0_by_60', 'Cardnum_vdratio_0by7', 'Card_dow_actual/toal_14', 'Cardnum_unique_count_for_card_state_60', 'Card_Merchnum_Zip_total_amount_1_by_60', 'Cardnum_variability_med_0', 'card_zip_total_amount_0_by_60', 'card_state_total_14', 'Card_Merchdesc_State_total_3', 'card_merch_total_7', 'Card_Merchnum_desc_total_30', 'card_state_max_7', 'High_Amount_For_Merchant', 'Card_dow_avg_60', 'Merchnum_desc_State_total_3')",
         "0.018101342578601066",
         "0.00420701918462274",
         "0.004207019184622739",
         "26.0",
         "Card_dow_count_30"
        ],
        [
         "27",
         "(2, 7, 20, 24, 26, 29, 38, 60, 63, 65, 81, 82, 84, 85, 106, 111, 123, 230, 240, 247, 256, 258, 275, 278, 286, 287, 290)",
         "[0.70647773 0.68794326]",
         "0.6972104976024349",
         "('Cardnum_count_3', 'Cardnum_unique_count_for_card_state_1', 'Card_dow_vdratio_0by14', 'Cardnum_max_0', 'Card_dow_unique_count_for_merch_zip_1', 'Card_dow_unique_count_for_Card_Merchdesc_1', 'Cardnum_max_3', 'Card_dow_total_30', 'Card_dow_unique_count_for_merch_state_14', 'Cardnum_variability_max_3', 'Card_dow_count_30', 'Card_dow_count_0_by_60', 'Cardnum_total_amount_0_by_60', 'Cardnum_vdratio_0by7', 'Card_dow_actual/toal_14', 'Cardnum_unique_count_for_card_state_60', 'Card_Merchnum_Zip_total_amount_1_by_60', 'Cardnum_variability_med_0', 'card_zip_total_amount_0_by_60', 'card_state_total_14', 'Card_Merchdesc_State_total_3', 'card_merch_total_7', 'Card_Merchnum_desc_total_30', 'card_state_max_7', 'High_Amount_For_Merchant', 'Card_dow_avg_60', 'Merchnum_desc_State_total_3')",
         "0.03987369479166815",
         "0.009267235191087353",
         "0.009267235191087353",
         "27.0",
         "Cardnum_count_3"
        ],
        [
         "28",
         "(2, 7, 20, 24, 26, 29, 30, 38, 60, 63, 65, 81, 82, 84, 85, 106, 111, 123, 230, 240, 247, 256, 258, 275, 278, 286, 287, 290)",
         "[0.69838057 0.69908815]",
         "0.6987343563491379",
         "('Cardnum_count_3', 'Cardnum_unique_count_for_card_state_1', 'Card_dow_vdratio_0by14', 'Cardnum_max_0', 'Card_dow_unique_count_for_merch_zip_1', 'Card_dow_unique_count_for_Card_Merchdesc_1', 'Card_dow_unique_count_for_state_des_1', 'Cardnum_max_3', 'Card_dow_total_30', 'Card_dow_unique_count_for_merch_state_14', 'Cardnum_variability_max_3', 'Card_dow_count_30', 'Card_dow_count_0_by_60', 'Cardnum_total_amount_0_by_60', 'Cardnum_vdratio_0by7', 'Card_dow_actual/toal_14', 'Cardnum_unique_count_for_card_state_60', 'Card_Merchnum_Zip_total_amount_1_by_60', 'Cardnum_variability_med_0', 'card_zip_total_amount_0_by_60', 'card_state_total_14', 'Card_Merchdesc_State_total_3', 'card_merch_total_7', 'Card_Merchnum_desc_total_30', 'card_state_max_7', 'High_Amount_For_Merchant', 'Card_dow_avg_60', 'Merchnum_desc_State_total_3')",
         "0.001522233562368778",
         "0.00035378954751857927",
         "0.00035378954751857927",
         "28.0",
         "Card_dow_unique_count_for_state_des_1"
        ],
        [
         "29",
         "(2, 7, 20, 24, 26, 29, 30, 38, 60, 61, 63, 65, 81, 82, 84, 85, 106, 111, 123, 230, 240, 247, 256, 258, 275, 278, 286, 287, 290)",
         "[0.701417   0.70820669]",
         "0.7048118454893371",
         "('Cardnum_count_3', 'Cardnum_unique_count_for_card_state_1', 'Card_dow_vdratio_0by14', 'Cardnum_max_0', 'Card_dow_unique_count_for_merch_zip_1', 'Card_dow_unique_count_for_Card_Merchdesc_1', 'Card_dow_unique_count_for_state_des_1', 'Cardnum_max_3', 'Card_dow_total_30', 'Card_dow_unique_count_for_state_des_7', 'Card_dow_unique_count_for_merch_state_14', 'Cardnum_variability_max_3', 'Card_dow_count_30', 'Card_dow_count_0_by_60', 'Cardnum_total_amount_0_by_60', 'Cardnum_vdratio_0by7', 'Card_dow_actual/toal_14', 'Cardnum_unique_count_for_card_state_60', 'Card_Merchnum_Zip_total_amount_1_by_60', 'Cardnum_variability_med_0', 'card_zip_total_amount_0_by_60', 'card_state_total_14', 'Card_Merchdesc_State_total_3', 'card_merch_total_7', 'Card_Merchnum_desc_total_30', 'card_state_max_7', 'High_Amount_For_Merchant', 'Card_dow_avg_60', 'Merchnum_desc_State_total_3')",
         "0.014606823791946132",
         "0.0033948414407540817",
         "0.0033948414407540812",
         "29.0",
         "Card_dow_unique_count_for_state_des_7"
        ],
        [
         "30",
         "(2, 7, 20, 24, 26, 29, 30, 38, 60, 61, 63, 65, 81, 82, 84, 85, 106, 111, 123, 230, 240, 241, 247, 256, 258, 275, 278, 286, 287, 290)",
         "[0.70445344 0.6970618 ]",
         "0.7007576223701644",
         "('Cardnum_count_3', 'Cardnum_unique_count_for_card_state_1', 'Card_dow_vdratio_0by14', 'Cardnum_max_0', 'Card_dow_unique_count_for_merch_zip_1', 'Card_dow_unique_count_for_Card_Merchdesc_1', 'Card_dow_unique_count_for_state_des_1', 'Cardnum_max_3', 'Card_dow_total_30', 'Card_dow_unique_count_for_state_des_7', 'Card_dow_unique_count_for_merch_state_14', 'Cardnum_variability_max_3', 'Card_dow_count_30', 'Card_dow_count_0_by_60', 'Cardnum_total_amount_0_by_60', 'Cardnum_vdratio_0by7', 'Card_dow_actual/toal_14', 'Cardnum_unique_count_for_card_state_60', 'Card_Merchnum_Zip_total_amount_1_by_60', 'Cardnum_variability_med_0', 'card_zip_total_amount_0_by_60', 'Card_Merchnum_State_total_14', 'card_state_total_14', 'Card_Merchdesc_State_total_3', 'card_merch_total_7', 'Card_Merchnum_desc_total_30', 'card_state_max_7', 'High_Amount_For_Merchant', 'Card_dow_avg_60', 'Merchnum_desc_State_total_3')",
         "0.015901825387758285",
         "0.003695818925382177",
         "0.0036958189253821767",
         "30.0",
         "Card_Merchnum_State_total_14"
        ]
       ],
       "shape": {
        "columns": 9,
        "rows": 30
       }
      },
      "text/html": [
       "<div>\n",
       "<style scoped>\n",
       "    .dataframe tbody tr th:only-of-type {\n",
       "        vertical-align: middle;\n",
       "    }\n",
       "\n",
       "    .dataframe tbody tr th {\n",
       "        vertical-align: top;\n",
       "    }\n",
       "\n",
       "    .dataframe thead th {\n",
       "        text-align: right;\n",
       "    }\n",
       "</style>\n",
       "<table border=\"1\" class=\"dataframe\">\n",
       "  <thead>\n",
       "    <tr style=\"text-align: right;\">\n",
       "      <th></th>\n",
       "      <th>feature_idx</th>\n",
       "      <th>cv_scores</th>\n",
       "      <th>avg_score</th>\n",
       "      <th>feature_names</th>\n",
       "      <th>ci_bound</th>\n",
       "      <th>std_dev</th>\n",
       "      <th>std_err</th>\n",
       "      <th>add variables in this order</th>\n",
       "      <th>variable name</th>\n",
       "    </tr>\n",
       "  </thead>\n",
       "  <tbody>\n",
       "    <tr>\n",
       "      <th>1</th>\n",
       "      <td>(7,)</td>\n",
       "      <td>[0.5030364372469636, 0.5065856129685917]</td>\n",
       "      <td>0.504811</td>\n",
       "      <td>(Cardnum_unique_count_for_card_state_1,)</td>\n",
       "      <td>0.007635</td>\n",
       "      <td>0.001775</td>\n",
       "      <td>0.001775</td>\n",
       "      <td>1.0</td>\n",
       "      <td>Cardnum_unique_count_for_card_state_1</td>\n",
       "    </tr>\n",
       "    <tr>\n",
       "      <th>2</th>\n",
       "      <td>(7, 256)</td>\n",
       "      <td>[0.6427125506072875, 0.6433637284701115]</td>\n",
       "      <td>0.643038</td>\n",
       "      <td>(Cardnum_unique_count_for_card_state_1, Card_M...</td>\n",
       "      <td>0.001401</td>\n",
       "      <td>0.000326</td>\n",
       "      <td>0.000326</td>\n",
       "      <td>2.0</td>\n",
       "      <td>Card_Merchdesc_State_total_3</td>\n",
       "    </tr>\n",
       "    <tr>\n",
       "      <th>3</th>\n",
       "      <td>(7, 123, 256)</td>\n",
       "      <td>[0.6589068825910931, 0.6727456940222898]</td>\n",
       "      <td>0.665826</td>\n",
       "      <td>(Cardnum_unique_count_for_card_state_1, Card_M...</td>\n",
       "      <td>0.029772</td>\n",
       "      <td>0.006919</td>\n",
       "      <td>0.006919</td>\n",
       "      <td>3.0</td>\n",
       "      <td>Card_Merchnum_Zip_total_amount_1_by_60</td>\n",
       "    </tr>\n",
       "    <tr>\n",
       "      <th>4</th>\n",
       "      <td>(7, 24, 123, 256)</td>\n",
       "      <td>[0.6730769230769231, 0.684903748733536]</td>\n",
       "      <td>0.67899</td>\n",
       "      <td>(Cardnum_unique_count_for_card_state_1, Cardnu...</td>\n",
       "      <td>0.025443</td>\n",
       "      <td>0.005913</td>\n",
       "      <td>0.005913</td>\n",
       "      <td>4.0</td>\n",
       "      <td>Cardnum_max_0</td>\n",
       "    </tr>\n",
       "    <tr>\n",
       "      <th>5</th>\n",
       "      <td>(7, 24, 123, 256, 258)</td>\n",
       "      <td>[0.6781376518218624, 0.6899696048632219]</td>\n",
       "      <td>0.684054</td>\n",
       "      <td>(Cardnum_unique_count_for_card_state_1, Cardnu...</td>\n",
       "      <td>0.025454</td>\n",
       "      <td>0.005916</td>\n",
       "      <td>0.005916</td>\n",
       "      <td>5.0</td>\n",
       "      <td>card_merch_total_7</td>\n",
       "    </tr>\n",
       "    <tr>\n",
       "      <th>6</th>\n",
       "      <td>(7, 24, 84, 123, 256, 258)</td>\n",
       "      <td>[0.680161943319838, 0.6930091185410334]</td>\n",
       "      <td>0.686586</td>\n",
       "      <td>(Cardnum_unique_count_for_card_state_1, Cardnu...</td>\n",
       "      <td>0.027638</td>\n",
       "      <td>0.006424</td>\n",
       "      <td>0.006424</td>\n",
       "      <td>6.0</td>\n",
       "      <td>Cardnum_total_amount_0_by_60</td>\n",
       "    </tr>\n",
       "    <tr>\n",
       "      <th>7</th>\n",
       "      <td>(7, 24, 84, 123, 240, 256, 258)</td>\n",
       "      <td>[0.6882591093117408, 0.7011144883485309]</td>\n",
       "      <td>0.694687</td>\n",
       "      <td>(Cardnum_unique_count_for_card_state_1, Cardnu...</td>\n",
       "      <td>0.027656</td>\n",
       "      <td>0.006428</td>\n",
       "      <td>0.006428</td>\n",
       "      <td>7.0</td>\n",
       "      <td>card_zip_total_amount_0_by_60</td>\n",
       "    </tr>\n",
       "    <tr>\n",
       "      <th>8</th>\n",
       "      <td>(7, 24, 84, 123, 240, 256, 258, 278)</td>\n",
       "      <td>[0.680161943319838, 0.7061803444782169]</td>\n",
       "      <td>0.693171</td>\n",
       "      <td>(Cardnum_unique_count_for_card_state_1, Cardnu...</td>\n",
       "      <td>0.055974</td>\n",
       "      <td>0.013009</td>\n",
       "      <td>0.013009</td>\n",
       "      <td>8.0</td>\n",
       "      <td>card_state_max_7</td>\n",
       "    </tr>\n",
       "    <tr>\n",
       "      <th>9</th>\n",
       "      <td>(7, 20, 24, 84, 123, 240, 256, 258, 278)</td>\n",
       "      <td>[0.6973684210526315, 0.6970618034447822]</td>\n",
       "      <td>0.697215</td>\n",
       "      <td>(Cardnum_unique_count_for_card_state_1, Card_d...</td>\n",
       "      <td>0.00066</td>\n",
       "      <td>0.000153</td>\n",
       "      <td>0.000153</td>\n",
       "      <td>9.0</td>\n",
       "      <td>Card_dow_vdratio_0by14</td>\n",
       "    </tr>\n",
       "    <tr>\n",
       "      <th>10</th>\n",
       "      <td>(7, 20, 24, 60, 84, 123, 240, 256, 258, 278)</td>\n",
       "      <td>[0.694331983805668, 0.7031408308004052]</td>\n",
       "      <td>0.698736</td>\n",
       "      <td>(Cardnum_unique_count_for_card_state_1, Card_d...</td>\n",
       "      <td>0.018951</td>\n",
       "      <td>0.004404</td>\n",
       "      <td>0.004404</td>\n",
       "      <td>10.0</td>\n",
       "      <td>Card_dow_total_30</td>\n",
       "    </tr>\n",
       "    <tr>\n",
       "      <th>11</th>\n",
       "      <td>(7, 20, 24, 60, 84, 123, 240, 256, 258, 278, 286)</td>\n",
       "      <td>[0.6963562753036437, 0.7011144883485309]</td>\n",
       "      <td>0.698735</td>\n",
       "      <td>(Cardnum_unique_count_for_card_state_1, Card_d...</td>\n",
       "      <td>0.010236</td>\n",
       "      <td>0.002379</td>\n",
       "      <td>0.002379</td>\n",
       "      <td>11.0</td>\n",
       "      <td>High_Amount_For_Merchant</td>\n",
       "    </tr>\n",
       "    <tr>\n",
       "      <th>12</th>\n",
       "      <td>(7, 20, 24, 60, 84, 123, 230, 240, 256, 258, 2...</td>\n",
       "      <td>[0.6993927125506073, 0.7061803444782169]</td>\n",
       "      <td>0.702787</td>\n",
       "      <td>(Cardnum_unique_count_for_card_state_1, Card_d...</td>\n",
       "      <td>0.014602</td>\n",
       "      <td>0.003394</td>\n",
       "      <td>0.003394</td>\n",
       "      <td>12.0</td>\n",
       "      <td>Cardnum_variability_med_0</td>\n",
       "    </tr>\n",
       "    <tr>\n",
       "      <th>13</th>\n",
       "      <td>(7, 20, 24, 60, 84, 123, 230, 240, 256, 258, 2...</td>\n",
       "      <td>[0.694331983805668, 0.707193515704154]</td>\n",
       "      <td>0.700763</td>\n",
       "      <td>(Cardnum_unique_count_for_card_state_1, Card_d...</td>\n",
       "      <td>0.027669</td>\n",
       "      <td>0.006431</td>\n",
       "      <td>0.006431</td>\n",
       "      <td>13.0</td>\n",
       "      <td>Card_dow_avg_60</td>\n",
       "    </tr>\n",
       "    <tr>\n",
       "      <th>14</th>\n",
       "      <td>(7, 20, 24, 60, 84, 123, 230, 240, 247, 256, 2...</td>\n",
       "      <td>[0.7095141700404858, 0.6980749746707193]</td>\n",
       "      <td>0.703795</td>\n",
       "      <td>(Cardnum_unique_count_for_card_state_1, Card_d...</td>\n",
       "      <td>0.024609</td>\n",
       "      <td>0.00572</td>\n",
       "      <td>0.00572</td>\n",
       "      <td>14.0</td>\n",
       "      <td>card_state_total_14</td>\n",
       "    </tr>\n",
       "    <tr>\n",
       "      <th>15</th>\n",
       "      <td>(7, 20, 24, 60, 84, 106, 123, 230, 240, 247, 2...</td>\n",
       "      <td>[0.7064777327935222, 0.7041540020263425]</td>\n",
       "      <td>0.705316</td>\n",
       "      <td>(Cardnum_unique_count_for_card_state_1, Card_d...</td>\n",
       "      <td>0.004999</td>\n",
       "      <td>0.001162</td>\n",
       "      <td>0.001162</td>\n",
       "      <td>15.0</td>\n",
       "      <td>Card_dow_actual/toal_14</td>\n",
       "    </tr>\n",
       "    <tr>\n",
       "      <th>16</th>\n",
       "      <td>(7, 20, 24, 29, 60, 84, 106, 123, 230, 240, 24...</td>\n",
       "      <td>[0.7054655870445344, 0.7061803444782169]</td>\n",
       "      <td>0.705823</td>\n",
       "      <td>(Cardnum_unique_count_for_card_state_1, Card_d...</td>\n",
       "      <td>0.001538</td>\n",
       "      <td>0.000357</td>\n",
       "      <td>0.000357</td>\n",
       "      <td>16.0</td>\n",
       "      <td>Card_dow_unique_count_for_Card_Merchdesc_1</td>\n",
       "    </tr>\n",
       "    <tr>\n",
       "      <th>17</th>\n",
       "      <td>(7, 20, 24, 29, 60, 82, 84, 106, 123, 230, 240...</td>\n",
       "      <td>[0.7044534412955465, 0.7122593718338399]</td>\n",
       "      <td>0.708356</td>\n",
       "      <td>(Cardnum_unique_count_for_card_state_1, Card_d...</td>\n",
       "      <td>0.016793</td>\n",
       "      <td>0.003903</td>\n",
       "      <td>0.003903</td>\n",
       "      <td>17.0</td>\n",
       "      <td>Card_dow_count_0_by_60</td>\n",
       "    </tr>\n",
       "    <tr>\n",
       "      <th>18</th>\n",
       "      <td>(7, 20, 24, 29, 60, 82, 84, 106, 123, 230, 240...</td>\n",
       "      <td>[0.6973684210526315, 0.7092198581560284]</td>\n",
       "      <td>0.703294</td>\n",
       "      <td>(Cardnum_unique_count_for_card_state_1, Card_d...</td>\n",
       "      <td>0.025496</td>\n",
       "      <td>0.005926</td>\n",
       "      <td>0.005926</td>\n",
       "      <td>18.0</td>\n",
       "      <td>Merchnum_desc_State_total_3</td>\n",
       "    </tr>\n",
       "    <tr>\n",
       "      <th>19</th>\n",
       "      <td>(7, 20, 24, 29, 60, 82, 84, 106, 111, 123, 230...</td>\n",
       "      <td>[0.7125506072874493, 0.7061803444782169]</td>\n",
       "      <td>0.709365</td>\n",
       "      <td>(Cardnum_unique_count_for_card_state_1, Card_d...</td>\n",
       "      <td>0.013705</td>\n",
       "      <td>0.003185</td>\n",
       "      <td>0.003185</td>\n",
       "      <td>19.0</td>\n",
       "      <td>Cardnum_unique_count_for_card_state_60</td>\n",
       "    </tr>\n",
       "    <tr>\n",
       "      <th>20</th>\n",
       "      <td>(7, 20, 24, 29, 60, 65, 82, 84, 106, 111, 123,...</td>\n",
       "      <td>[0.701417004048583, 0.7031408308004052]</td>\n",
       "      <td>0.702279</td>\n",
       "      <td>(Cardnum_unique_count_for_card_state_1, Card_d...</td>\n",
       "      <td>0.003709</td>\n",
       "      <td>0.000862</td>\n",
       "      <td>0.000862</td>\n",
       "      <td>20.0</td>\n",
       "      <td>Cardnum_variability_max_3</td>\n",
       "    </tr>\n",
       "    <tr>\n",
       "      <th>21</th>\n",
       "      <td>(7, 20, 24, 26, 29, 60, 65, 82, 84, 106, 111, ...</td>\n",
       "      <td>[0.7074898785425101, 0.6879432624113475]</td>\n",
       "      <td>0.697717</td>\n",
       "      <td>(Cardnum_unique_count_for_card_state_1, Card_d...</td>\n",
       "      <td>0.042051</td>\n",
       "      <td>0.009773</td>\n",
       "      <td>0.009773</td>\n",
       "      <td>21.0</td>\n",
       "      <td>Card_dow_unique_count_for_merch_zip_1</td>\n",
       "    </tr>\n",
       "    <tr>\n",
       "      <th>22</th>\n",
       "      <td>(7, 20, 24, 26, 29, 60, 65, 82, 84, 85, 106, 1...</td>\n",
       "      <td>[0.6973684210526315, 0.6970618034447822]</td>\n",
       "      <td>0.697215</td>\n",
       "      <td>(Cardnum_unique_count_for_card_state_1, Card_d...</td>\n",
       "      <td>0.00066</td>\n",
       "      <td>0.000153</td>\n",
       "      <td>0.000153</td>\n",
       "      <td>22.0</td>\n",
       "      <td>Cardnum_vdratio_0by7</td>\n",
       "    </tr>\n",
       "    <tr>\n",
       "      <th>23</th>\n",
       "      <td>(7, 20, 24, 26, 29, 38, 60, 65, 82, 84, 85, 10...</td>\n",
       "      <td>[0.7054655870445344, 0.6960486322188449]</td>\n",
       "      <td>0.700757</td>\n",
       "      <td>(Cardnum_unique_count_for_card_state_1, Card_d...</td>\n",
       "      <td>0.020259</td>\n",
       "      <td>0.004708</td>\n",
       "      <td>0.004708</td>\n",
       "      <td>23.0</td>\n",
       "      <td>Cardnum_max_3</td>\n",
       "    </tr>\n",
       "    <tr>\n",
       "      <th>24</th>\n",
       "      <td>(7, 20, 24, 26, 29, 38, 60, 63, 65, 82, 84, 85...</td>\n",
       "      <td>[0.7074898785425101, 0.690982776089159]</td>\n",
       "      <td>0.699236</td>\n",
       "      <td>(Cardnum_unique_count_for_card_state_1, Card_d...</td>\n",
       "      <td>0.035512</td>\n",
       "      <td>0.008254</td>\n",
       "      <td>0.008254</td>\n",
       "      <td>24.0</td>\n",
       "      <td>Card_dow_unique_count_for_merch_state_14</td>\n",
       "    </tr>\n",
       "    <tr>\n",
       "      <th>25</th>\n",
       "      <td>(7, 20, 24, 26, 29, 38, 60, 63, 65, 82, 84, 85...</td>\n",
       "      <td>[0.6923076923076923, 0.7001013171225937]</td>\n",
       "      <td>0.696205</td>\n",
       "      <td>(Cardnum_unique_count_for_card_state_1, Card_d...</td>\n",
       "      <td>0.016767</td>\n",
       "      <td>0.003897</td>\n",
       "      <td>0.003897</td>\n",
       "      <td>25.0</td>\n",
       "      <td>Card_Merchnum_desc_total_30</td>\n",
       "    </tr>\n",
       "    <tr>\n",
       "      <th>26</th>\n",
       "      <td>(7, 20, 24, 26, 29, 38, 60, 63, 65, 81, 82, 84...</td>\n",
       "      <td>[0.6953441295546559, 0.6869300911854104]</td>\n",
       "      <td>0.691137</td>\n",
       "      <td>(Cardnum_unique_count_for_card_state_1, Card_d...</td>\n",
       "      <td>0.018101</td>\n",
       "      <td>0.004207</td>\n",
       "      <td>0.004207</td>\n",
       "      <td>26.0</td>\n",
       "      <td>Card_dow_count_30</td>\n",
       "    </tr>\n",
       "    <tr>\n",
       "      <th>27</th>\n",
       "      <td>(2, 7, 20, 24, 26, 29, 38, 60, 63, 65, 81, 82,...</td>\n",
       "      <td>[0.7064777327935222, 0.6879432624113475]</td>\n",
       "      <td>0.69721</td>\n",
       "      <td>(Cardnum_count_3, Cardnum_unique_count_for_car...</td>\n",
       "      <td>0.039874</td>\n",
       "      <td>0.009267</td>\n",
       "      <td>0.009267</td>\n",
       "      <td>27.0</td>\n",
       "      <td>Cardnum_count_3</td>\n",
       "    </tr>\n",
       "    <tr>\n",
       "      <th>28</th>\n",
       "      <td>(2, 7, 20, 24, 26, 29, 30, 38, 60, 63, 65, 81,...</td>\n",
       "      <td>[0.6983805668016194, 0.6990881458966566]</td>\n",
       "      <td>0.698734</td>\n",
       "      <td>(Cardnum_count_3, Cardnum_unique_count_for_car...</td>\n",
       "      <td>0.001522</td>\n",
       "      <td>0.000354</td>\n",
       "      <td>0.000354</td>\n",
       "      <td>28.0</td>\n",
       "      <td>Card_dow_unique_count_for_state_des_1</td>\n",
       "    </tr>\n",
       "    <tr>\n",
       "      <th>29</th>\n",
       "      <td>(2, 7, 20, 24, 26, 29, 30, 38, 60, 61, 63, 65,...</td>\n",
       "      <td>[0.701417004048583, 0.7082066869300911]</td>\n",
       "      <td>0.704812</td>\n",
       "      <td>(Cardnum_count_3, Cardnum_unique_count_for_car...</td>\n",
       "      <td>0.014607</td>\n",
       "      <td>0.003395</td>\n",
       "      <td>0.003395</td>\n",
       "      <td>29.0</td>\n",
       "      <td>Card_dow_unique_count_for_state_des_7</td>\n",
       "    </tr>\n",
       "    <tr>\n",
       "      <th>30</th>\n",
       "      <td>(2, 7, 20, 24, 26, 29, 30, 38, 60, 61, 63, 65,...</td>\n",
       "      <td>[0.7044534412955465, 0.6970618034447822]</td>\n",
       "      <td>0.700758</td>\n",
       "      <td>(Cardnum_count_3, Cardnum_unique_count_for_car...</td>\n",
       "      <td>0.015902</td>\n",
       "      <td>0.003696</td>\n",
       "      <td>0.003696</td>\n",
       "      <td>30.0</td>\n",
       "      <td>Card_Merchnum_State_total_14</td>\n",
       "    </tr>\n",
       "  </tbody>\n",
       "</table>\n",
       "</div>"
      ],
      "text/plain": [
       "                                          feature_idx  \\\n",
       "1                                                (7,)   \n",
       "2                                            (7, 256)   \n",
       "3                                       (7, 123, 256)   \n",
       "4                                   (7, 24, 123, 256)   \n",
       "5                              (7, 24, 123, 256, 258)   \n",
       "6                          (7, 24, 84, 123, 256, 258)   \n",
       "7                     (7, 24, 84, 123, 240, 256, 258)   \n",
       "8                (7, 24, 84, 123, 240, 256, 258, 278)   \n",
       "9            (7, 20, 24, 84, 123, 240, 256, 258, 278)   \n",
       "10       (7, 20, 24, 60, 84, 123, 240, 256, 258, 278)   \n",
       "11  (7, 20, 24, 60, 84, 123, 240, 256, 258, 278, 286)   \n",
       "12  (7, 20, 24, 60, 84, 123, 230, 240, 256, 258, 2...   \n",
       "13  (7, 20, 24, 60, 84, 123, 230, 240, 256, 258, 2...   \n",
       "14  (7, 20, 24, 60, 84, 123, 230, 240, 247, 256, 2...   \n",
       "15  (7, 20, 24, 60, 84, 106, 123, 230, 240, 247, 2...   \n",
       "16  (7, 20, 24, 29, 60, 84, 106, 123, 230, 240, 24...   \n",
       "17  (7, 20, 24, 29, 60, 82, 84, 106, 123, 230, 240...   \n",
       "18  (7, 20, 24, 29, 60, 82, 84, 106, 123, 230, 240...   \n",
       "19  (7, 20, 24, 29, 60, 82, 84, 106, 111, 123, 230...   \n",
       "20  (7, 20, 24, 29, 60, 65, 82, 84, 106, 111, 123,...   \n",
       "21  (7, 20, 24, 26, 29, 60, 65, 82, 84, 106, 111, ...   \n",
       "22  (7, 20, 24, 26, 29, 60, 65, 82, 84, 85, 106, 1...   \n",
       "23  (7, 20, 24, 26, 29, 38, 60, 65, 82, 84, 85, 10...   \n",
       "24  (7, 20, 24, 26, 29, 38, 60, 63, 65, 82, 84, 85...   \n",
       "25  (7, 20, 24, 26, 29, 38, 60, 63, 65, 82, 84, 85...   \n",
       "26  (7, 20, 24, 26, 29, 38, 60, 63, 65, 81, 82, 84...   \n",
       "27  (2, 7, 20, 24, 26, 29, 38, 60, 63, 65, 81, 82,...   \n",
       "28  (2, 7, 20, 24, 26, 29, 30, 38, 60, 63, 65, 81,...   \n",
       "29  (2, 7, 20, 24, 26, 29, 30, 38, 60, 61, 63, 65,...   \n",
       "30  (2, 7, 20, 24, 26, 29, 30, 38, 60, 61, 63, 65,...   \n",
       "\n",
       "                                   cv_scores avg_score  \\\n",
       "1   [0.5030364372469636, 0.5065856129685917]  0.504811   \n",
       "2   [0.6427125506072875, 0.6433637284701115]  0.643038   \n",
       "3   [0.6589068825910931, 0.6727456940222898]  0.665826   \n",
       "4    [0.6730769230769231, 0.684903748733536]   0.67899   \n",
       "5   [0.6781376518218624, 0.6899696048632219]  0.684054   \n",
       "6    [0.680161943319838, 0.6930091185410334]  0.686586   \n",
       "7   [0.6882591093117408, 0.7011144883485309]  0.694687   \n",
       "8    [0.680161943319838, 0.7061803444782169]  0.693171   \n",
       "9   [0.6973684210526315, 0.6970618034447822]  0.697215   \n",
       "10   [0.694331983805668, 0.7031408308004052]  0.698736   \n",
       "11  [0.6963562753036437, 0.7011144883485309]  0.698735   \n",
       "12  [0.6993927125506073, 0.7061803444782169]  0.702787   \n",
       "13    [0.694331983805668, 0.707193515704154]  0.700763   \n",
       "14  [0.7095141700404858, 0.6980749746707193]  0.703795   \n",
       "15  [0.7064777327935222, 0.7041540020263425]  0.705316   \n",
       "16  [0.7054655870445344, 0.7061803444782169]  0.705823   \n",
       "17  [0.7044534412955465, 0.7122593718338399]  0.708356   \n",
       "18  [0.6973684210526315, 0.7092198581560284]  0.703294   \n",
       "19  [0.7125506072874493, 0.7061803444782169]  0.709365   \n",
       "20   [0.701417004048583, 0.7031408308004052]  0.702279   \n",
       "21  [0.7074898785425101, 0.6879432624113475]  0.697717   \n",
       "22  [0.6973684210526315, 0.6970618034447822]  0.697215   \n",
       "23  [0.7054655870445344, 0.6960486322188449]  0.700757   \n",
       "24   [0.7074898785425101, 0.690982776089159]  0.699236   \n",
       "25  [0.6923076923076923, 0.7001013171225937]  0.696205   \n",
       "26  [0.6953441295546559, 0.6869300911854104]  0.691137   \n",
       "27  [0.7064777327935222, 0.6879432624113475]   0.69721   \n",
       "28  [0.6983805668016194, 0.6990881458966566]  0.698734   \n",
       "29   [0.701417004048583, 0.7082066869300911]  0.704812   \n",
       "30  [0.7044534412955465, 0.6970618034447822]  0.700758   \n",
       "\n",
       "                                        feature_names  ci_bound   std_dev  \\\n",
       "1            (Cardnum_unique_count_for_card_state_1,)  0.007635  0.001775   \n",
       "2   (Cardnum_unique_count_for_card_state_1, Card_M...  0.001401  0.000326   \n",
       "3   (Cardnum_unique_count_for_card_state_1, Card_M...  0.029772  0.006919   \n",
       "4   (Cardnum_unique_count_for_card_state_1, Cardnu...  0.025443  0.005913   \n",
       "5   (Cardnum_unique_count_for_card_state_1, Cardnu...  0.025454  0.005916   \n",
       "6   (Cardnum_unique_count_for_card_state_1, Cardnu...  0.027638  0.006424   \n",
       "7   (Cardnum_unique_count_for_card_state_1, Cardnu...  0.027656  0.006428   \n",
       "8   (Cardnum_unique_count_for_card_state_1, Cardnu...  0.055974  0.013009   \n",
       "9   (Cardnum_unique_count_for_card_state_1, Card_d...   0.00066  0.000153   \n",
       "10  (Cardnum_unique_count_for_card_state_1, Card_d...  0.018951  0.004404   \n",
       "11  (Cardnum_unique_count_for_card_state_1, Card_d...  0.010236  0.002379   \n",
       "12  (Cardnum_unique_count_for_card_state_1, Card_d...  0.014602  0.003394   \n",
       "13  (Cardnum_unique_count_for_card_state_1, Card_d...  0.027669  0.006431   \n",
       "14  (Cardnum_unique_count_for_card_state_1, Card_d...  0.024609   0.00572   \n",
       "15  (Cardnum_unique_count_for_card_state_1, Card_d...  0.004999  0.001162   \n",
       "16  (Cardnum_unique_count_for_card_state_1, Card_d...  0.001538  0.000357   \n",
       "17  (Cardnum_unique_count_for_card_state_1, Card_d...  0.016793  0.003903   \n",
       "18  (Cardnum_unique_count_for_card_state_1, Card_d...  0.025496  0.005926   \n",
       "19  (Cardnum_unique_count_for_card_state_1, Card_d...  0.013705  0.003185   \n",
       "20  (Cardnum_unique_count_for_card_state_1, Card_d...  0.003709  0.000862   \n",
       "21  (Cardnum_unique_count_for_card_state_1, Card_d...  0.042051  0.009773   \n",
       "22  (Cardnum_unique_count_for_card_state_1, Card_d...   0.00066  0.000153   \n",
       "23  (Cardnum_unique_count_for_card_state_1, Card_d...  0.020259  0.004708   \n",
       "24  (Cardnum_unique_count_for_card_state_1, Card_d...  0.035512  0.008254   \n",
       "25  (Cardnum_unique_count_for_card_state_1, Card_d...  0.016767  0.003897   \n",
       "26  (Cardnum_unique_count_for_card_state_1, Card_d...  0.018101  0.004207   \n",
       "27  (Cardnum_count_3, Cardnum_unique_count_for_car...  0.039874  0.009267   \n",
       "28  (Cardnum_count_3, Cardnum_unique_count_for_car...  0.001522  0.000354   \n",
       "29  (Cardnum_count_3, Cardnum_unique_count_for_car...  0.014607  0.003395   \n",
       "30  (Cardnum_count_3, Cardnum_unique_count_for_car...  0.015902  0.003696   \n",
       "\n",
       "     std_err  add variables in this order  \\\n",
       "1   0.001775                          1.0   \n",
       "2   0.000326                          2.0   \n",
       "3   0.006919                          3.0   \n",
       "4   0.005913                          4.0   \n",
       "5   0.005916                          5.0   \n",
       "6   0.006424                          6.0   \n",
       "7   0.006428                          7.0   \n",
       "8   0.013009                          8.0   \n",
       "9   0.000153                          9.0   \n",
       "10  0.004404                         10.0   \n",
       "11  0.002379                         11.0   \n",
       "12  0.003394                         12.0   \n",
       "13  0.006431                         13.0   \n",
       "14   0.00572                         14.0   \n",
       "15  0.001162                         15.0   \n",
       "16  0.000357                         16.0   \n",
       "17  0.003903                         17.0   \n",
       "18  0.005926                         18.0   \n",
       "19  0.003185                         19.0   \n",
       "20  0.000862                         20.0   \n",
       "21  0.009773                         21.0   \n",
       "22  0.000153                         22.0   \n",
       "23  0.004708                         23.0   \n",
       "24  0.008254                         24.0   \n",
       "25  0.003897                         25.0   \n",
       "26  0.004207                         26.0   \n",
       "27  0.009267                         27.0   \n",
       "28  0.000354                         28.0   \n",
       "29  0.003395                         29.0   \n",
       "30  0.003696                         30.0   \n",
       "\n",
       "                                 variable name  \n",
       "1        Cardnum_unique_count_for_card_state_1  \n",
       "2                 Card_Merchdesc_State_total_3  \n",
       "3       Card_Merchnum_Zip_total_amount_1_by_60  \n",
       "4                                Cardnum_max_0  \n",
       "5                           card_merch_total_7  \n",
       "6                 Cardnum_total_amount_0_by_60  \n",
       "7                card_zip_total_amount_0_by_60  \n",
       "8                             card_state_max_7  \n",
       "9                       Card_dow_vdratio_0by14  \n",
       "10                           Card_dow_total_30  \n",
       "11                    High_Amount_For_Merchant  \n",
       "12                   Cardnum_variability_med_0  \n",
       "13                             Card_dow_avg_60  \n",
       "14                         card_state_total_14  \n",
       "15                     Card_dow_actual/toal_14  \n",
       "16  Card_dow_unique_count_for_Card_Merchdesc_1  \n",
       "17                      Card_dow_count_0_by_60  \n",
       "18                 Merchnum_desc_State_total_3  \n",
       "19      Cardnum_unique_count_for_card_state_60  \n",
       "20                   Cardnum_variability_max_3  \n",
       "21       Card_dow_unique_count_for_merch_zip_1  \n",
       "22                        Cardnum_vdratio_0by7  \n",
       "23                               Cardnum_max_3  \n",
       "24    Card_dow_unique_count_for_merch_state_14  \n",
       "25                 Card_Merchnum_desc_total_30  \n",
       "26                           Card_dow_count_30  \n",
       "27                             Cardnum_count_3  \n",
       "28       Card_dow_unique_count_for_state_des_1  \n",
       "29       Card_dow_unique_count_for_state_des_7  \n",
       "30                Card_Merchnum_State_total_14  "
      ]
     },
     "execution_count": 26,
     "metadata": {},
     "output_type": "execute_result"
    }
   ],
   "source": [
    "ordered_vars_FS"
   ]
  },
  {
   "cell_type": "code",
   "execution_count": 27,
   "metadata": {},
   "outputs": [],
   "source": [
    "ordered_vars_FS.to_csv('data/Wrapper_selection_info.csv', index=False)"
   ]
  },
  {
   "cell_type": "code",
   "execution_count": 28,
   "metadata": {
    "scrolled": false
   },
   "outputs": [
    {
     "data": {
      "text/plain": [
       "1          Cardnum_unique_count_for_card_state_1\n",
       "2                   Card_Merchdesc_State_total_3\n",
       "3         Card_Merchnum_Zip_total_amount_1_by_60\n",
       "4                                  Cardnum_max_0\n",
       "5                             card_merch_total_7\n",
       "6                   Cardnum_total_amount_0_by_60\n",
       "7                  card_zip_total_amount_0_by_60\n",
       "8                               card_state_max_7\n",
       "9                         Card_dow_vdratio_0by14\n",
       "10                             Card_dow_total_30\n",
       "11                      High_Amount_For_Merchant\n",
       "12                     Cardnum_variability_med_0\n",
       "13                               Card_dow_avg_60\n",
       "14                           card_state_total_14\n",
       "15                       Card_dow_actual/toal_14\n",
       "16    Card_dow_unique_count_for_Card_Merchdesc_1\n",
       "17                        Card_dow_count_0_by_60\n",
       "18                   Merchnum_desc_State_total_3\n",
       "19        Cardnum_unique_count_for_card_state_60\n",
       "20                     Cardnum_variability_max_3\n",
       "21         Card_dow_unique_count_for_merch_zip_1\n",
       "22                          Cardnum_vdratio_0by7\n",
       "23                                 Cardnum_max_3\n",
       "24      Card_dow_unique_count_for_merch_state_14\n",
       "25                   Card_Merchnum_desc_total_30\n",
       "26                             Card_dow_count_30\n",
       "27                               Cardnum_count_3\n",
       "28         Card_dow_unique_count_for_state_des_1\n",
       "29         Card_dow_unique_count_for_state_des_7\n",
       "30                  Card_Merchnum_State_total_14\n",
       "Name: variable name, dtype: object"
      ]
     },
     "execution_count": 28,
     "metadata": {},
     "output_type": "execute_result"
    }
   ],
   "source": [
    "vars_keep = ordered_vars_FS['variable name']\n",
    "vars_keep_list = ordered_vars_FS['variable name'].tolist()\n",
    "vars_keep.to_csv('features/final_vars_list.csv',index=False)\n",
    "vars_keep"
   ]
  },
  {
   "cell_type": "code",
   "execution_count": 29,
   "metadata": {},
   "outputs": [
    {
     "data": {
      "application/vnd.microsoft.datawrangler.viewer.v0+json": {
       "columns": [
        {
         "name": "variable",
         "rawType": "object",
         "type": "string"
        },
        {
         "name": "filter score",
         "rawType": "float64",
         "type": "float"
        }
       ],
       "conversionMethod": "pd.DataFrame",
       "ref": "4029fb28-6b6c-40d1-8f35-dab133616be5",
       "rows": [
        [
         "Cardnum_total_1",
         "0.5911137143420107"
        ],
        [
         "Cardnum_count_1",
         "0.5769274709108482"
        ],
        [
         "Cardnum_count_3",
         "0.5721987062055063"
        ],
        [
         "Cardnum_total_3",
         "0.569584754753369"
        ],
        [
         "Cardnum_total_0",
         "0.5550795831550124"
        ],
        [
         "Cardnum_count_0",
         "0.5290724258187427"
        ],
        [
         "Cardnum_vdratio_1by60",
         "0.519909147382396"
        ],
        [
         "Cardnum_unique_count_for_card_state_1",
         "0.5186059951957085"
        ],
        [
         "Cardnum_unique_count_for_card_zip_1",
         "0.5172084487865884"
        ],
        [
         "Cardnum_vdratio_1by30",
         "0.516475862442548"
        ],
        [
         "Cardnum_count_7",
         "0.5163992459359451"
        ],
        [
         "Cardnum_total_7",
         "0.5159873870717485"
        ],
        [
         "Cardnum_unique_count_for_Merchnum_1",
         "0.5132776602346519"
        ],
        [
         "Card_dow_total_7",
         "0.5087544606639527"
        ],
        [
         "Card_dow_vdratio_0by60",
         "0.5084477665556563"
        ],
        [
         "Cardnum_unique_count_for_card_state_3",
         "0.508357110341898"
        ],
        [
         "Card_dow_vdratio_0by30",
         "0.5076936391446802"
        ],
        [
         "Cardnum_unique_count_for_card_zip_3",
         "0.5068666712494231"
        ],
        [
         "Cardnum_max_1",
         "0.5048046652882496"
        ],
        [
         "Cardnum_unique_count_for_Merchnum_3",
         "0.503767545278214"
        ],
        [
         "Card_dow_vdratio_0by14",
         "0.5026571349557347"
        ],
        [
         "Cardnum_vdratio_1by14",
         "0.4973964642872869"
        ],
        [
         "Cardnum_variability_max_0",
         "0.496485467224158"
        ],
        [
         "Cardnum_variability_max_1",
         "0.49347540089351083"
        ],
        [
         "Cardnum_max_0",
         "0.49231631409536547"
        ],
        [
         "Card_dow_unique_count_for_merch_state_1",
         "0.49093766046906934"
        ],
        [
         "Card_dow_unique_count_for_merch_zip_1",
         "0.49073745525872875"
        ],
        [
         "Card_dow_vdratio_0by7",
         "0.490635686388675"
        ],
        [
         "Cardnum_actual/toal_0",
         "0.48947656157688213"
        ],
        [
         "Card_dow_unique_count_for_Card_Merchdesc_1",
         "0.48688598218236984"
        ],
        [
         "Card_dow_unique_count_for_state_des_1",
         "0.48687346935672354"
        ],
        [
         "Card_dow_count_7",
         "0.4798436118540491"
        ],
        [
         "Cardnum_vdratio_1by7",
         "0.4774157562134099"
        ],
        [
         "Cardnum_unique_count_for_card_state_7",
         "0.47619034193592735"
        ],
        [
         "Cardnum_actual/toal_1",
         "0.4755878953142161"
        ],
        [
         "Card_dow_total_14",
         "0.4748283192804269"
        ],
        [
         "Cardnum_unique_count_for_card_zip_7",
         "0.47442357530392704"
        ],
        [
         "Cardnum_unique_count_for_Merchnum_7",
         "0.4680367503273133"
        ],
        [
         "Cardnum_max_3",
         "0.4662718780420817"
        ],
        [
         "Cardnum_actual/max_0",
         "0.46097038071618346"
        ],
        [
         "Cardnum_total_amount_1_by_60",
         "0.4574137668325223"
        ],
        [
         "Cardnum_day_since",
         "0.45108180188490676"
        ],
        [
         "Card_dow_day_since",
         "0.45108180188490676"
        ],
        [
         "Card_dow_max_7",
         "0.45069759161368256"
        ],
        [
         "Cardnum_total_14",
         "0.44937880948225095"
        ],
        [
         "Cardnum_vdratio_0by60",
         "0.44692144891551816"
        ],
        [
         "Card_dow_unique_count_for_merch_zip_7",
         "0.4468895047803746"
        ],
        [
         "Card_dow_unique_count_for_merch_state_7",
         "0.44606453893722076"
        ],
        [
         "Cardnum_unique_count_for_card_state_14",
         "0.44169299481335456"
        ],
        [
         "Cardnum_count_1_by_60",
         "0.4361311736935422"
        ]
       ],
       "shape": {
        "columns": 1,
        "rows": 2650
       }
      },
      "text/html": [
       "<div>\n",
       "<style scoped>\n",
       "    .dataframe tbody tr th:only-of-type {\n",
       "        vertical-align: middle;\n",
       "    }\n",
       "\n",
       "    .dataframe tbody tr th {\n",
       "        vertical-align: top;\n",
       "    }\n",
       "\n",
       "    .dataframe thead th {\n",
       "        text-align: right;\n",
       "    }\n",
       "</style>\n",
       "<table border=\"1\" class=\"dataframe\">\n",
       "  <thead>\n",
       "    <tr style=\"text-align: right;\">\n",
       "      <th></th>\n",
       "      <th>filter score</th>\n",
       "    </tr>\n",
       "    <tr>\n",
       "      <th>variable</th>\n",
       "      <th></th>\n",
       "    </tr>\n",
       "  </thead>\n",
       "  <tbody>\n",
       "    <tr>\n",
       "      <th>Cardnum_total_1</th>\n",
       "      <td>0.591114</td>\n",
       "    </tr>\n",
       "    <tr>\n",
       "      <th>Cardnum_count_1</th>\n",
       "      <td>0.576927</td>\n",
       "    </tr>\n",
       "    <tr>\n",
       "      <th>Cardnum_count_3</th>\n",
       "      <td>0.572199</td>\n",
       "    </tr>\n",
       "    <tr>\n",
       "      <th>Cardnum_total_3</th>\n",
       "      <td>0.569585</td>\n",
       "    </tr>\n",
       "    <tr>\n",
       "      <th>Cardnum_total_0</th>\n",
       "      <td>0.555080</td>\n",
       "    </tr>\n",
       "    <tr>\n",
       "      <th>...</th>\n",
       "      <td>...</td>\n",
       "    </tr>\n",
       "    <tr>\n",
       "      <th>Merchnum_desc_Zip_unique_count_for_Merchnum_desc_State_14</th>\n",
       "      <td>0.000013</td>\n",
       "    </tr>\n",
       "    <tr>\n",
       "      <th>merch_zip_unique_count_for_merch_state_3</th>\n",
       "      <td>0.000000</td>\n",
       "    </tr>\n",
       "    <tr>\n",
       "      <th>Merchant_dominance_score</th>\n",
       "      <td>0.000000</td>\n",
       "    </tr>\n",
       "    <tr>\n",
       "      <th>merch_zip_unique_count_for_merch_state_1</th>\n",
       "      <td>0.000000</td>\n",
       "    </tr>\n",
       "    <tr>\n",
       "      <th>card_merch_unique_count_for_Cardnum_1</th>\n",
       "      <td>0.000000</td>\n",
       "    </tr>\n",
       "  </tbody>\n",
       "</table>\n",
       "<p>2650 rows × 1 columns</p>\n",
       "</div>"
      ],
      "text/plain": [
       "                                                    filter score\n",
       "variable                                                        \n",
       "Cardnum_total_1                                         0.591114\n",
       "Cardnum_count_1                                         0.576927\n",
       "Cardnum_count_3                                         0.572199\n",
       "Cardnum_total_3                                         0.569585\n",
       "Cardnum_total_0                                         0.555080\n",
       "...                                                          ...\n",
       "Merchnum_desc_Zip_unique_count_for_Merchnum_des...      0.000013\n",
       "merch_zip_unique_count_for_merch_state_3                0.000000\n",
       "Merchant_dominance_score                                0.000000\n",
       "merch_zip_unique_count_for_merch_state_1                0.000000\n",
       "card_merch_unique_count_for_Cardnum_1                   0.000000\n",
       "\n",
       "[2650 rows x 1 columns]"
      ]
     },
     "execution_count": 29,
     "metadata": {},
     "output_type": "execute_result"
    }
   ],
   "source": [
    "filter_score.set_index('variable',drop=True,inplace=True)\n",
    "filter_score = filter_score.iloc[1:,:]\n",
    "filter_score"
   ]
  },
  {
   "cell_type": "code",
   "execution_count": 30,
   "metadata": {
    "scrolled": true
   },
   "outputs": [
    {
     "data": {
      "application/vnd.microsoft.datawrangler.viewer.v0+json": {
       "columns": [
        {
         "name": "variable",
         "rawType": "object",
         "type": "string"
        }
       ],
       "conversionMethod": "pd.DataFrame",
       "ref": "f12cc4e0-0af5-47da-9564-9e808f6475bd",
       "rows": [
        [
         "Cardnum_unique_count_for_card_state_1"
        ],
        [
         "Card_Merchdesc_State_total_3"
        ],
        [
         "Card_Merchnum_Zip_total_amount_1_by_60"
        ],
        [
         "Cardnum_max_0"
        ],
        [
         "card_merch_total_7"
        ]
       ],
       "shape": {
        "columns": 0,
        "rows": 5
       }
      },
      "text/html": [
       "<div>\n",
       "<style scoped>\n",
       "    .dataframe tbody tr th:only-of-type {\n",
       "        vertical-align: middle;\n",
       "    }\n",
       "\n",
       "    .dataframe tbody tr th {\n",
       "        vertical-align: top;\n",
       "    }\n",
       "\n",
       "    .dataframe thead th {\n",
       "        text-align: right;\n",
       "    }\n",
       "</style>\n",
       "<table border=\"1\" class=\"dataframe\">\n",
       "  <thead>\n",
       "    <tr style=\"text-align: right;\">\n",
       "      <th></th>\n",
       "    </tr>\n",
       "    <tr>\n",
       "      <th>variable</th>\n",
       "    </tr>\n",
       "  </thead>\n",
       "  <tbody>\n",
       "    <tr>\n",
       "      <th>Cardnum_unique_count_for_card_state_1</th>\n",
       "    </tr>\n",
       "    <tr>\n",
       "      <th>Card_Merchdesc_State_total_3</th>\n",
       "    </tr>\n",
       "    <tr>\n",
       "      <th>Card_Merchnum_Zip_total_amount_1_by_60</th>\n",
       "    </tr>\n",
       "    <tr>\n",
       "      <th>Cardnum_max_0</th>\n",
       "    </tr>\n",
       "    <tr>\n",
       "      <th>card_merch_total_7</th>\n",
       "    </tr>\n",
       "  </tbody>\n",
       "</table>\n",
       "</div>"
      ],
      "text/plain": [
       "Empty DataFrame\n",
       "Columns: []\n",
       "Index: [Cardnum_unique_count_for_card_state_1, Card_Merchdesc_State_total_3, Card_Merchnum_Zip_total_amount_1_by_60, Cardnum_max_0, card_merch_total_7]"
      ]
     },
     "execution_count": 30,
     "metadata": {},
     "output_type": "execute_result"
    }
   ],
   "source": [
    "vars_keep_sorted = pd.DataFrame(vars_keep_list)\n",
    "vars_keep_sorted.columns=['variable']\n",
    "vars_keep_sorted.set_index('variable',drop=True,inplace=True)\n",
    "vars_keep_sorted.head()"
   ]
  },
  {
   "cell_type": "code",
   "execution_count": 31,
   "metadata": {
    "scrolled": false
   },
   "outputs": [],
   "source": [
    "vars_keep_sorted = pd.concat([vars_keep_sorted,filter_score],axis=1,join='inner')"
   ]
  },
  {
   "cell_type": "code",
   "execution_count": 32,
   "metadata": {
    "scrolled": false
   },
   "outputs": [
    {
     "data": {
      "application/vnd.microsoft.datawrangler.viewer.v0+json": {
       "columns": [
        {
         "name": "index",
         "rawType": "int64",
         "type": "integer"
        },
        {
         "name": "wrapper order",
         "rawType": "int64",
         "type": "integer"
        },
        {
         "name": "variable",
         "rawType": "object",
         "type": "string"
        },
        {
         "name": "filter score",
         "rawType": "float64",
         "type": "float"
        }
       ],
       "conversionMethod": "pd.DataFrame",
       "ref": "c0146595-18bd-4753-badf-d75bc8073d38",
       "rows": [
        [
         "0",
         "1",
         "Cardnum_unique_count_for_card_state_1",
         "0.5186059951957085"
        ],
        [
         "1",
         "2",
         "Card_Merchdesc_State_total_3",
         "0.2599209696267789"
        ],
        [
         "2",
         "3",
         "Card_Merchnum_Zip_total_amount_1_by_60",
         "0.3058974499494893"
        ],
        [
         "3",
         "4",
         "Cardnum_max_0",
         "0.49231631409536547"
        ],
        [
         "4",
         "5",
         "card_merch_total_7",
         "0.2598647537776855"
        ],
        [
         "5",
         "6",
         "Cardnum_total_amount_0_by_60",
         "0.37029630054350016"
        ],
        [
         "6",
         "7",
         "card_zip_total_amount_0_by_60",
         "0.2655482819256827"
        ],
        [
         "7",
         "8",
         "card_state_max_7",
         "0.25395582370664105"
        ],
        [
         "8",
         "9",
         "Card_dow_vdratio_0by14",
         "0.5026571349557347"
        ],
        [
         "9",
         "10",
         "Card_dow_total_30",
         "0.42680301106102114"
        ],
        [
         "10",
         "11",
         "High_Amount_For_Merchant",
         "0.2515712466037181"
        ],
        [
         "11",
         "12",
         "Cardnum_variability_med_0",
         "0.26918950785314444"
        ],
        [
         "12",
         "13",
         "Card_dow_avg_60",
         "0.25100649051353585"
        ],
        [
         "13",
         "14",
         "card_state_total_14",
         "0.2642250521974898"
        ],
        [
         "14",
         "15",
         "Card_dow_actual/toal_14",
         "0.3370331741934217"
        ],
        [
         "15",
         "16",
         "Card_dow_unique_count_for_Card_Merchdesc_1",
         "0.48688598218236984"
        ],
        [
         "16",
         "17",
         "Card_dow_count_0_by_60",
         "0.37386348222117544"
        ],
        [
         "17",
         "18",
         "Merchnum_desc_State_total_3",
         "0.24915661971242042"
        ],
        [
         "18",
         "19",
         "Cardnum_unique_count_for_card_state_60",
         "0.32730762322519824"
        ],
        [
         "19",
         "20",
         "Cardnum_variability_max_3",
         "0.4159074760490262"
        ],
        [
         "20",
         "21",
         "Card_dow_unique_count_for_merch_zip_1",
         "0.49073745525872875"
        ],
        [
         "21",
         "22",
         "Cardnum_vdratio_0by7",
         "0.36943926385304426"
        ],
        [
         "22",
         "23",
         "Cardnum_max_3",
         "0.4662718780420817"
        ],
        [
         "23",
         "24",
         "Card_dow_unique_count_for_merch_state_14",
         "0.41787101399187326"
        ],
        [
         "24",
         "25",
         "Card_Merchnum_desc_total_30",
         "0.2543774394070377"
        ],
        [
         "25",
         "26",
         "Card_dow_count_30",
         "0.37512322282238025"
        ],
        [
         "26",
         "27",
         "Cardnum_count_3",
         "0.5721987062055063"
        ],
        [
         "27",
         "28",
         "Card_dow_unique_count_for_state_des_1",
         "0.48687346935672354"
        ],
        [
         "28",
         "29",
         "Card_dow_unique_count_for_state_des_7",
         "0.42321982563773436"
        ],
        [
         "29",
         "30",
         "Card_Merchnum_State_total_14",
         "0.265345555143389"
        ]
       ],
       "shape": {
        "columns": 3,
        "rows": 30
       }
      },
      "text/html": [
       "<div>\n",
       "<style scoped>\n",
       "    .dataframe tbody tr th:only-of-type {\n",
       "        vertical-align: middle;\n",
       "    }\n",
       "\n",
       "    .dataframe tbody tr th {\n",
       "        vertical-align: top;\n",
       "    }\n",
       "\n",
       "    .dataframe thead th {\n",
       "        text-align: right;\n",
       "    }\n",
       "</style>\n",
       "<table border=\"1\" class=\"dataframe\">\n",
       "  <thead>\n",
       "    <tr style=\"text-align: right;\">\n",
       "      <th></th>\n",
       "      <th>wrapper order</th>\n",
       "      <th>variable</th>\n",
       "      <th>filter score</th>\n",
       "    </tr>\n",
       "  </thead>\n",
       "  <tbody>\n",
       "    <tr>\n",
       "      <th>0</th>\n",
       "      <td>1</td>\n",
       "      <td>Cardnum_unique_count_for_card_state_1</td>\n",
       "      <td>0.518606</td>\n",
       "    </tr>\n",
       "    <tr>\n",
       "      <th>1</th>\n",
       "      <td>2</td>\n",
       "      <td>Card_Merchdesc_State_total_3</td>\n",
       "      <td>0.259921</td>\n",
       "    </tr>\n",
       "    <tr>\n",
       "      <th>2</th>\n",
       "      <td>3</td>\n",
       "      <td>Card_Merchnum_Zip_total_amount_1_by_60</td>\n",
       "      <td>0.305897</td>\n",
       "    </tr>\n",
       "    <tr>\n",
       "      <th>3</th>\n",
       "      <td>4</td>\n",
       "      <td>Cardnum_max_0</td>\n",
       "      <td>0.492316</td>\n",
       "    </tr>\n",
       "    <tr>\n",
       "      <th>4</th>\n",
       "      <td>5</td>\n",
       "      <td>card_merch_total_7</td>\n",
       "      <td>0.259865</td>\n",
       "    </tr>\n",
       "    <tr>\n",
       "      <th>5</th>\n",
       "      <td>6</td>\n",
       "      <td>Cardnum_total_amount_0_by_60</td>\n",
       "      <td>0.370296</td>\n",
       "    </tr>\n",
       "    <tr>\n",
       "      <th>6</th>\n",
       "      <td>7</td>\n",
       "      <td>card_zip_total_amount_0_by_60</td>\n",
       "      <td>0.265548</td>\n",
       "    </tr>\n",
       "    <tr>\n",
       "      <th>7</th>\n",
       "      <td>8</td>\n",
       "      <td>card_state_max_7</td>\n",
       "      <td>0.253956</td>\n",
       "    </tr>\n",
       "    <tr>\n",
       "      <th>8</th>\n",
       "      <td>9</td>\n",
       "      <td>Card_dow_vdratio_0by14</td>\n",
       "      <td>0.502657</td>\n",
       "    </tr>\n",
       "    <tr>\n",
       "      <th>9</th>\n",
       "      <td>10</td>\n",
       "      <td>Card_dow_total_30</td>\n",
       "      <td>0.426803</td>\n",
       "    </tr>\n",
       "    <tr>\n",
       "      <th>10</th>\n",
       "      <td>11</td>\n",
       "      <td>High_Amount_For_Merchant</td>\n",
       "      <td>0.251571</td>\n",
       "    </tr>\n",
       "    <tr>\n",
       "      <th>11</th>\n",
       "      <td>12</td>\n",
       "      <td>Cardnum_variability_med_0</td>\n",
       "      <td>0.269190</td>\n",
       "    </tr>\n",
       "    <tr>\n",
       "      <th>12</th>\n",
       "      <td>13</td>\n",
       "      <td>Card_dow_avg_60</td>\n",
       "      <td>0.251006</td>\n",
       "    </tr>\n",
       "    <tr>\n",
       "      <th>13</th>\n",
       "      <td>14</td>\n",
       "      <td>card_state_total_14</td>\n",
       "      <td>0.264225</td>\n",
       "    </tr>\n",
       "    <tr>\n",
       "      <th>14</th>\n",
       "      <td>15</td>\n",
       "      <td>Card_dow_actual/toal_14</td>\n",
       "      <td>0.337033</td>\n",
       "    </tr>\n",
       "    <tr>\n",
       "      <th>15</th>\n",
       "      <td>16</td>\n",
       "      <td>Card_dow_unique_count_for_Card_Merchdesc_1</td>\n",
       "      <td>0.486886</td>\n",
       "    </tr>\n",
       "    <tr>\n",
       "      <th>16</th>\n",
       "      <td>17</td>\n",
       "      <td>Card_dow_count_0_by_60</td>\n",
       "      <td>0.373863</td>\n",
       "    </tr>\n",
       "    <tr>\n",
       "      <th>17</th>\n",
       "      <td>18</td>\n",
       "      <td>Merchnum_desc_State_total_3</td>\n",
       "      <td>0.249157</td>\n",
       "    </tr>\n",
       "    <tr>\n",
       "      <th>18</th>\n",
       "      <td>19</td>\n",
       "      <td>Cardnum_unique_count_for_card_state_60</td>\n",
       "      <td>0.327308</td>\n",
       "    </tr>\n",
       "    <tr>\n",
       "      <th>19</th>\n",
       "      <td>20</td>\n",
       "      <td>Cardnum_variability_max_3</td>\n",
       "      <td>0.415907</td>\n",
       "    </tr>\n",
       "    <tr>\n",
       "      <th>20</th>\n",
       "      <td>21</td>\n",
       "      <td>Card_dow_unique_count_for_merch_zip_1</td>\n",
       "      <td>0.490737</td>\n",
       "    </tr>\n",
       "    <tr>\n",
       "      <th>21</th>\n",
       "      <td>22</td>\n",
       "      <td>Cardnum_vdratio_0by7</td>\n",
       "      <td>0.369439</td>\n",
       "    </tr>\n",
       "    <tr>\n",
       "      <th>22</th>\n",
       "      <td>23</td>\n",
       "      <td>Cardnum_max_3</td>\n",
       "      <td>0.466272</td>\n",
       "    </tr>\n",
       "    <tr>\n",
       "      <th>23</th>\n",
       "      <td>24</td>\n",
       "      <td>Card_dow_unique_count_for_merch_state_14</td>\n",
       "      <td>0.417871</td>\n",
       "    </tr>\n",
       "    <tr>\n",
       "      <th>24</th>\n",
       "      <td>25</td>\n",
       "      <td>Card_Merchnum_desc_total_30</td>\n",
       "      <td>0.254377</td>\n",
       "    </tr>\n",
       "    <tr>\n",
       "      <th>25</th>\n",
       "      <td>26</td>\n",
       "      <td>Card_dow_count_30</td>\n",
       "      <td>0.375123</td>\n",
       "    </tr>\n",
       "    <tr>\n",
       "      <th>26</th>\n",
       "      <td>27</td>\n",
       "      <td>Cardnum_count_3</td>\n",
       "      <td>0.572199</td>\n",
       "    </tr>\n",
       "    <tr>\n",
       "      <th>27</th>\n",
       "      <td>28</td>\n",
       "      <td>Card_dow_unique_count_for_state_des_1</td>\n",
       "      <td>0.486873</td>\n",
       "    </tr>\n",
       "    <tr>\n",
       "      <th>28</th>\n",
       "      <td>29</td>\n",
       "      <td>Card_dow_unique_count_for_state_des_7</td>\n",
       "      <td>0.423220</td>\n",
       "    </tr>\n",
       "    <tr>\n",
       "      <th>29</th>\n",
       "      <td>30</td>\n",
       "      <td>Card_Merchnum_State_total_14</td>\n",
       "      <td>0.265346</td>\n",
       "    </tr>\n",
       "  </tbody>\n",
       "</table>\n",
       "</div>"
      ],
      "text/plain": [
       "    wrapper order                                    variable  filter score\n",
       "0               1       Cardnum_unique_count_for_card_state_1      0.518606\n",
       "1               2                Card_Merchdesc_State_total_3      0.259921\n",
       "2               3      Card_Merchnum_Zip_total_amount_1_by_60      0.305897\n",
       "3               4                               Cardnum_max_0      0.492316\n",
       "4               5                          card_merch_total_7      0.259865\n",
       "5               6                Cardnum_total_amount_0_by_60      0.370296\n",
       "6               7               card_zip_total_amount_0_by_60      0.265548\n",
       "7               8                            card_state_max_7      0.253956\n",
       "8               9                      Card_dow_vdratio_0by14      0.502657\n",
       "9              10                           Card_dow_total_30      0.426803\n",
       "10             11                    High_Amount_For_Merchant      0.251571\n",
       "11             12                   Cardnum_variability_med_0      0.269190\n",
       "12             13                             Card_dow_avg_60      0.251006\n",
       "13             14                         card_state_total_14      0.264225\n",
       "14             15                     Card_dow_actual/toal_14      0.337033\n",
       "15             16  Card_dow_unique_count_for_Card_Merchdesc_1      0.486886\n",
       "16             17                      Card_dow_count_0_by_60      0.373863\n",
       "17             18                 Merchnum_desc_State_total_3      0.249157\n",
       "18             19      Cardnum_unique_count_for_card_state_60      0.327308\n",
       "19             20                   Cardnum_variability_max_3      0.415907\n",
       "20             21       Card_dow_unique_count_for_merch_zip_1      0.490737\n",
       "21             22                        Cardnum_vdratio_0by7      0.369439\n",
       "22             23                               Cardnum_max_3      0.466272\n",
       "23             24    Card_dow_unique_count_for_merch_state_14      0.417871\n",
       "24             25                 Card_Merchnum_desc_total_30      0.254377\n",
       "25             26                           Card_dow_count_30      0.375123\n",
       "26             27                             Cardnum_count_3      0.572199\n",
       "27             28       Card_dow_unique_count_for_state_des_1      0.486873\n",
       "28             29       Card_dow_unique_count_for_state_des_7      0.423220\n",
       "29             30                Card_Merchnum_State_total_14      0.265346"
      ]
     },
     "execution_count": 32,
     "metadata": {},
     "output_type": "execute_result"
    }
   ],
   "source": [
    "vars_keep_sorted.reset_index(inplace=True)\n",
    "vars_keep_sorted.reset_index(inplace=True)\n",
    "vars_keep_sorted['index'] = vars_keep_sorted['index'] + 1\n",
    "vars_keep_sorted.rename(columns={'index':'wrapper order'},inplace=True)\n",
    "vars_keep_sorted.to_csv('features/vars_keep_sorted.csv',index=False)\n",
    "vars_keep_sorted"
   ]
  },
  {
   "cell_type": "code",
   "execution_count": 33,
   "metadata": {
    "scrolled": false
   },
   "outputs": [
    {
     "data": {
      "text/plain": [
       "['Cardnum_unique_count_for_card_state_1',\n",
       " 'Card_Merchdesc_State_total_3',\n",
       " 'Card_Merchnum_Zip_total_amount_1_by_60',\n",
       " 'Cardnum_max_0',\n",
       " 'card_merch_total_7',\n",
       " 'Cardnum_total_amount_0_by_60',\n",
       " 'card_zip_total_amount_0_by_60',\n",
       " 'card_state_max_7',\n",
       " 'Card_dow_vdratio_0by14',\n",
       " 'Card_dow_total_30',\n",
       " 'High_Amount_For_Merchant',\n",
       " 'Cardnum_variability_med_0',\n",
       " 'Card_dow_avg_60',\n",
       " 'card_state_total_14',\n",
       " 'Card_dow_actual/toal_14',\n",
       " 'Card_dow_unique_count_for_Card_Merchdesc_1',\n",
       " 'Card_dow_count_0_by_60',\n",
       " 'Merchnum_desc_State_total_3',\n",
       " 'Cardnum_unique_count_for_card_state_60',\n",
       " 'Cardnum_variability_max_3',\n",
       " 'Card_dow_unique_count_for_merch_zip_1',\n",
       " 'Cardnum_vdratio_0by7',\n",
       " 'Cardnum_max_3',\n",
       " 'Card_dow_unique_count_for_merch_state_14',\n",
       " 'Card_Merchnum_desc_total_30',\n",
       " 'Card_dow_count_30',\n",
       " 'Cardnum_count_3',\n",
       " 'Card_dow_unique_count_for_state_des_1',\n",
       " 'Card_dow_unique_count_for_state_des_7',\n",
       " 'Card_Merchnum_State_total_14',\n",
       " 'Recnum',\n",
       " 'Fraud']"
      ]
     },
     "execution_count": 33,
     "metadata": {},
     "output_type": "execute_result"
    }
   ],
   "source": [
    "vars_keep_list.append(index_name)\n",
    "vars_keep_list.append(y_name)\n",
    "vars_keep_list"
   ]
  },
  {
   "cell_type": "code",
   "execution_count": 34,
   "metadata": {
    "scrolled": false
   },
   "outputs": [
    {
     "data": {
      "application/vnd.microsoft.datawrangler.viewer.v0+json": {
       "columns": [
        {
         "name": "variable",
         "rawType": "object",
         "type": "string"
        },
        {
         "name": "filter score",
         "rawType": "float64",
         "type": "float"
        }
       ],
       "conversionMethod": "pd.DataFrame",
       "ref": "bcdcd110-5b36-447e-8d67-93366f026290",
       "rows": [
        [
         "Cardnum_total_1",
         "0.5911137143420107"
        ],
        [
         "Cardnum_count_1",
         "0.5769274709108482"
        ],
        [
         "Cardnum_count_3",
         "0.5721987062055063"
        ],
        [
         "Cardnum_total_3",
         "0.569584754753369"
        ],
        [
         "Cardnum_total_0",
         "0.5550795831550124"
        ],
        [
         "Cardnum_count_0",
         "0.5290724258187427"
        ],
        [
         "Cardnum_vdratio_1by60",
         "0.519909147382396"
        ],
        [
         "Cardnum_unique_count_for_card_state_1",
         "0.5186059951957085"
        ],
        [
         "Cardnum_unique_count_for_card_zip_1",
         "0.5172084487865884"
        ],
        [
         "Cardnum_vdratio_1by30",
         "0.516475862442548"
        ],
        [
         "Cardnum_count_7",
         "0.5163992459359451"
        ],
        [
         "Cardnum_total_7",
         "0.5159873870717485"
        ],
        [
         "Cardnum_unique_count_for_Merchnum_1",
         "0.5132776602346519"
        ],
        [
         "Card_dow_total_7",
         "0.5087544606639527"
        ],
        [
         "Card_dow_vdratio_0by60",
         "0.5084477665556563"
        ],
        [
         "Cardnum_unique_count_for_card_state_3",
         "0.508357110341898"
        ],
        [
         "Card_dow_vdratio_0by30",
         "0.5076936391446802"
        ],
        [
         "Cardnum_unique_count_for_card_zip_3",
         "0.5068666712494231"
        ],
        [
         "Cardnum_max_1",
         "0.5048046652882496"
        ],
        [
         "Cardnum_unique_count_for_Merchnum_3",
         "0.503767545278214"
        ],
        [
         "Card_dow_vdratio_0by14",
         "0.5026571349557347"
        ],
        [
         "Cardnum_vdratio_1by14",
         "0.4973964642872869"
        ],
        [
         "Cardnum_variability_max_0",
         "0.496485467224158"
        ],
        [
         "Cardnum_variability_max_1",
         "0.49347540089351083"
        ],
        [
         "Cardnum_max_0",
         "0.49231631409536547"
        ],
        [
         "Card_dow_unique_count_for_merch_state_1",
         "0.49093766046906934"
        ],
        [
         "Card_dow_unique_count_for_merch_zip_1",
         "0.49073745525872875"
        ],
        [
         "Card_dow_vdratio_0by7",
         "0.490635686388675"
        ],
        [
         "Cardnum_actual/toal_0",
         "0.48947656157688213"
        ],
        [
         "Card_dow_unique_count_for_Card_Merchdesc_1",
         "0.48688598218236984"
        ],
        [
         "Card_dow_unique_count_for_state_des_1",
         "0.48687346935672354"
        ],
        [
         "Card_dow_count_7",
         "0.4798436118540491"
        ],
        [
         "Cardnum_vdratio_1by7",
         "0.4774157562134099"
        ],
        [
         "Cardnum_unique_count_for_card_state_7",
         "0.47619034193592735"
        ],
        [
         "Cardnum_actual/toal_1",
         "0.4755878953142161"
        ],
        [
         "Card_dow_total_14",
         "0.4748283192804269"
        ],
        [
         "Cardnum_unique_count_for_card_zip_7",
         "0.47442357530392704"
        ],
        [
         "Cardnum_unique_count_for_Merchnum_7",
         "0.4680367503273133"
        ],
        [
         "Cardnum_max_3",
         "0.4662718780420817"
        ],
        [
         "Cardnum_actual/max_0",
         "0.46097038071618346"
        ],
        [
         "Cardnum_total_amount_1_by_60",
         "0.4574137668325223"
        ],
        [
         "Cardnum_day_since",
         "0.45108180188490676"
        ],
        [
         "Card_dow_day_since",
         "0.45108180188490676"
        ],
        [
         "Card_dow_max_7",
         "0.45069759161368256"
        ],
        [
         "Cardnum_total_14",
         "0.44937880948225095"
        ],
        [
         "Cardnum_vdratio_0by60",
         "0.44692144891551816"
        ],
        [
         "Card_dow_unique_count_for_merch_zip_7",
         "0.4468895047803746"
        ],
        [
         "Card_dow_unique_count_for_merch_state_7",
         "0.44606453893722076"
        ],
        [
         "Cardnum_unique_count_for_card_state_14",
         "0.44169299481335456"
        ],
        [
         "Cardnum_count_1_by_60",
         "0.4361311736935422"
        ]
       ],
       "shape": {
        "columns": 1,
        "rows": 2650
       }
      },
      "text/html": [
       "<div>\n",
       "<style scoped>\n",
       "    .dataframe tbody tr th:only-of-type {\n",
       "        vertical-align: middle;\n",
       "    }\n",
       "\n",
       "    .dataframe tbody tr th {\n",
       "        vertical-align: top;\n",
       "    }\n",
       "\n",
       "    .dataframe thead th {\n",
       "        text-align: right;\n",
       "    }\n",
       "</style>\n",
       "<table border=\"1\" class=\"dataframe\">\n",
       "  <thead>\n",
       "    <tr style=\"text-align: right;\">\n",
       "      <th></th>\n",
       "      <th>filter score</th>\n",
       "    </tr>\n",
       "    <tr>\n",
       "      <th>variable</th>\n",
       "      <th></th>\n",
       "    </tr>\n",
       "  </thead>\n",
       "  <tbody>\n",
       "    <tr>\n",
       "      <th>Cardnum_total_1</th>\n",
       "      <td>0.591114</td>\n",
       "    </tr>\n",
       "    <tr>\n",
       "      <th>Cardnum_count_1</th>\n",
       "      <td>0.576927</td>\n",
       "    </tr>\n",
       "    <tr>\n",
       "      <th>Cardnum_count_3</th>\n",
       "      <td>0.572199</td>\n",
       "    </tr>\n",
       "    <tr>\n",
       "      <th>Cardnum_total_3</th>\n",
       "      <td>0.569585</td>\n",
       "    </tr>\n",
       "    <tr>\n",
       "      <th>Cardnum_total_0</th>\n",
       "      <td>0.555080</td>\n",
       "    </tr>\n",
       "    <tr>\n",
       "      <th>...</th>\n",
       "      <td>...</td>\n",
       "    </tr>\n",
       "    <tr>\n",
       "      <th>Merchnum_desc_Zip_unique_count_for_Merchnum_desc_State_14</th>\n",
       "      <td>0.000013</td>\n",
       "    </tr>\n",
       "    <tr>\n",
       "      <th>merch_zip_unique_count_for_merch_state_3</th>\n",
       "      <td>0.000000</td>\n",
       "    </tr>\n",
       "    <tr>\n",
       "      <th>Merchant_dominance_score</th>\n",
       "      <td>0.000000</td>\n",
       "    </tr>\n",
       "    <tr>\n",
       "      <th>merch_zip_unique_count_for_merch_state_1</th>\n",
       "      <td>0.000000</td>\n",
       "    </tr>\n",
       "    <tr>\n",
       "      <th>card_merch_unique_count_for_Cardnum_1</th>\n",
       "      <td>0.000000</td>\n",
       "    </tr>\n",
       "  </tbody>\n",
       "</table>\n",
       "<p>2650 rows × 1 columns</p>\n",
       "</div>"
      ],
      "text/plain": [
       "                                                    filter score\n",
       "variable                                                        \n",
       "Cardnum_total_1                                         0.591114\n",
       "Cardnum_count_1                                         0.576927\n",
       "Cardnum_count_3                                         0.572199\n",
       "Cardnum_total_3                                         0.569585\n",
       "Cardnum_total_0                                         0.555080\n",
       "...                                                          ...\n",
       "Merchnum_desc_Zip_unique_count_for_Merchnum_des...      0.000013\n",
       "merch_zip_unique_count_for_merch_state_3                0.000000\n",
       "Merchant_dominance_score                                0.000000\n",
       "merch_zip_unique_count_for_merch_state_1                0.000000\n",
       "card_merch_unique_count_for_Cardnum_1                   0.000000\n",
       "\n",
       "[2650 rows x 1 columns]"
      ]
     },
     "execution_count": 34,
     "metadata": {},
     "output_type": "execute_result"
    }
   ],
   "source": [
    "filter_score"
   ]
  },
  {
   "cell_type": "code",
   "execution_count": 35,
   "metadata": {},
   "outputs": [
    {
     "name": "stdout",
     "output_type": "stream",
     "text": [
      "CPU times: user 13 s, sys: 1.4 s, total: 14.4 s\n",
      "Wall time: 14.7 s\n"
     ]
    },
    {
     "data": {
      "text/plain": [
       "(98037, 2651)"
      ]
     },
     "execution_count": 35,
     "metadata": {},
     "output_type": "execute_result"
    }
   ],
   "source": [
    "%%time\n",
    "df = pd.read_csv(file_name)\n",
    "df.shape"
   ]
  },
  {
   "cell_type": "code",
   "execution_count": 36,
   "metadata": {},
   "outputs": [
    {
     "name": "stdout",
     "output_type": "stream",
     "text": [
      "(98037, 32)\n"
     ]
    }
   ],
   "source": [
    "df_keep = df.filter(vars_keep_list, axis=1)\n",
    "print(df_keep.shape)"
   ]
  },
  {
   "cell_type": "code",
   "execution_count": 37,
   "metadata": {},
   "outputs": [],
   "source": [
    "df_keep.to_csv('features/vars_final.csv',index=False)"
   ]
  },
  {
   "cell_type": "code",
   "execution_count": 38,
   "metadata": {},
   "outputs": [
    {
     "name": "stdout",
     "output_type": "stream",
     "text": [
      "duration:  0:11:50.105839\n"
     ]
    }
   ],
   "source": [
    "print(\"duration: \", dt.datetime.now() - start_time)"
   ]
  },
  {
   "cell_type": "code",
   "execution_count": 39,
   "metadata": {},
   "outputs": [
    {
     "data": {
      "text/plain": [
       "'/Users/nujoumunus/SP25/Fraud_Analytics-1'"
      ]
     },
     "execution_count": 39,
     "metadata": {},
     "output_type": "execute_result"
    }
   ],
   "source": [
    "%pwd"
   ]
  },
  {
   "cell_type": "code",
   "execution_count": null,
   "metadata": {},
   "outputs": [],
   "source": []
  }
 ],
 "metadata": {
  "anaconda-cloud": {},
  "kernelspec": {
   "display_name": "Python 3",
   "language": "python",
   "name": "python3"
  },
  "language_info": {
   "codemirror_mode": {
    "name": "ipython",
    "version": 3
   },
   "file_extension": ".py",
   "mimetype": "text/x-python",
   "name": "python",
   "nbconvert_exporter": "python",
   "pygments_lexer": "ipython3",
   "version": "3.9.6"
  }
 },
 "nbformat": 4,
 "nbformat_minor": 1
}
